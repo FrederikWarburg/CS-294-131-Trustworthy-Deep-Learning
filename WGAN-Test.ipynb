{
 "cells": [
  {
   "cell_type": "markdown",
   "metadata": {},
   "source": [
    "# In this notebook, we have the code to test a GAN for the multi minst data"
   ]
  },
  {
   "cell_type": "code",
   "execution_count": 1,
   "metadata": {
    "collapsed": true
   },
   "outputs": [],
   "source": [
    "import torch\n",
    "import torch.optim as optim\n",
    "from dataloaders import get_mnist_dataloaders, get_multi_mnist_dataloaders\n",
    "from models import Generator, Discriminator\n",
    "from training import Trainer\n",
    "from torch.utils.data import Dataset\n",
    "import h5py\n",
    "import numpy as np\n",
    "from torchvision.utils import make_grid\n",
    "from torch.autograd import Variable\n",
    "import matplotlib.pyplot as plt\n",
    "import os\n",
    "from PIL import Image"
   ]
  },
  {
   "cell_type": "code",
   "execution_count": 2,
   "metadata": {
    "collapsed": true
   },
   "outputs": [],
   "source": [
    "import netdissect.actviz as act"
   ]
  },
  {
   "cell_type": "code",
   "execution_count": 29,
   "metadata": {},
   "outputs": [
    {
     "name": "stderr",
     "output_type": "stream",
     "text": [
      "C:\\Users\\Lucy\\Anaconda3\\lib\\site-packages\\torch\\serialization.py:435: SourceChangeWarning: source code of class 'models.Generator' has changed. you can retrieve the original source code by accessing the object's source attribute or set `torch.nn.Module.dump_patches = True` and use the patch tool to revert the changes.\n",
      "  warnings.warn(msg, SourceChangeWarning)\n"
     ]
    },
    {
     "name": "stdout",
     "output_type": "stream",
     "text": [
      "Generator(\n",
      "  (latent_to_features): Sequential(\n",
      "    (0): Linear(in_features=100, out_features=512, bias=True)\n",
      "    (1): ReLU()\n",
      "  )\n",
      "  (features_to_image): Sequential(\n",
      "    (0): ConvTranspose2d(128, 64, kernel_size=(4, 4), stride=(2, 2), padding=(1, 1))\n",
      "    (1): ReLU()\n",
      "    (2): BatchNorm2d(64, eps=1e-05, momentum=0.1, affine=True, track_running_stats=True)\n",
      "    (3): ConvTranspose2d(64, 32, kernel_size=(4, 4), stride=(2, 2), padding=(1, 1))\n",
      "    (4): ReLU()\n",
      "    (5): BatchNorm2d(32, eps=1e-05, momentum=0.1, affine=True, track_running_stats=True)\n",
      "    (6): ConvTranspose2d(32, 16, kernel_size=(4, 4), stride=(2, 2), padding=(1, 1))\n",
      "    (7): ReLU()\n",
      "    (8): BatchNorm2d(16, eps=1e-05, momentum=0.1, affine=True, track_running_stats=True)\n",
      "    (9): ConvTranspose2d(16, 1, kernel_size=(4, 4), stride=(2, 2), padding=(1, 1))\n",
      "    (10): Sigmoid()\n",
      "  )\n",
      ")\n",
      ".\n",
      ".\n",
      "0\n",
      "0\n",
      "2\n",
      "2\n",
      "2\n",
      "2\n",
      "2\n",
      "3\n",
      "3\n",
      "5\n",
      "5\n",
      "5\n",
      "5\n",
      "5\n",
      "6\n",
      "6\n",
      "8\n",
      "8\n",
      "8\n",
      "8\n",
      "8\n",
      "9\n",
      "9\n"
     ]
    }
   ],
   "source": [
    "# Load models\n",
    "generator = torch.load('gen_mnist_model_epoch_190.pt',map_location='cpu')\n",
    "discriminator = torch.load('dis_mnist_model_epoch_190.pt',map_location='cpu')\n",
    "print(generator)\n",
    "for name, param in generator.state_dict().items():\n",
    "    print(name[18])\n",
    "img_size = (32, 32, 1)"
   ]
  },
  {
   "cell_type": "code",
   "execution_count": 75,
   "metadata": {},
   "outputs": [
    {
     "name": "stderr",
     "output_type": "stream",
     "text": [
      "C:\\Users\\Lucy\\Anaconda3\\lib\\site-packages\\matplotlib\\pyplot.py:514: RuntimeWarning: More than 20 figures have been opened. Figures created through the pyplot interface (`matplotlib.pyplot.figure`) are retained until explicitly closed and may consume too much memory. (To control this warning, see the rcParam `figure.max_open_warning`).\n",
      "  max_open_warning, RuntimeWarning)\n"
     ]
    },
    {
     "name": "stdout",
     "output_type": "stream",
     "text": [
      "('features_to_image.3.weight', 'features_to_image.5.weight', 'features_to_image.6.weight', 'features_to_image.8.weight', 'features_to_image.9.weight')\n",
      "3\n",
      "conv2\n",
      "32\n",
      "features_to_image.3.weight\n",
      "torch.Size([64, 32, 4, 4])\n",
      "features_to_image.5.weight\n",
      "features_to_image.6.weight\n",
      "features_to_image.8.weight\n",
      "features_to_image.9.weight\n",
      "features_to_image.3.weight\n",
      "torch.Size([64, 32, 4, 4])\n",
      "features_to_image.5.weight\n",
      "features_to_image.6.weight\n",
      "features_to_image.8.weight\n",
      "features_to_image.9.weight\n",
      "features_to_image.3.weight\n",
      "torch.Size([64, 32, 4, 4])\n",
      "features_to_image.5.weight\n",
      "features_to_image.6.weight\n",
      "features_to_image.8.weight\n",
      "features_to_image.9.weight\n",
      "features_to_image.3.weight\n",
      "torch.Size([64, 32, 4, 4])\n",
      "features_to_image.5.weight\n",
      "features_to_image.6.weight\n",
      "features_to_image.8.weight\n",
      "features_to_image.9.weight\n",
      "features_to_image.3.weight\n",
      "torch.Size([64, 32, 4, 4])\n",
      "features_to_image.5.weight\n",
      "features_to_image.6.weight\n",
      "features_to_image.8.weight\n",
      "features_to_image.9.weight\n",
      "features_to_image.3.weight\n",
      "torch.Size([64, 32, 4, 4])\n",
      "features_to_image.5.weight\n",
      "features_to_image.6.weight\n",
      "features_to_image.8.weight\n",
      "features_to_image.9.weight\n",
      "features_to_image.3.weight\n",
      "torch.Size([64, 32, 4, 4])\n",
      "features_to_image.5.weight\n",
      "features_to_image.6.weight\n",
      "features_to_image.8.weight\n",
      "features_to_image.9.weight\n",
      "features_to_image.3.weight\n",
      "torch.Size([64, 32, 4, 4])\n",
      "features_to_image.5.weight\n",
      "features_to_image.6.weight\n",
      "features_to_image.8.weight\n",
      "features_to_image.9.weight\n",
      "features_to_image.3.weight\n",
      "torch.Size([64, 32, 4, 4])\n",
      "features_to_image.5.weight\n",
      "features_to_image.6.weight\n",
      "features_to_image.8.weight\n",
      "features_to_image.9.weight\n",
      "features_to_image.3.weight\n",
      "torch.Size([64, 32, 4, 4])\n",
      "features_to_image.5.weight\n",
      "features_to_image.6.weight\n",
      "features_to_image.8.weight\n",
      "features_to_image.9.weight\n"
     ]
    },
    {
     "name": "stderr",
     "output_type": "stream",
     "text": [
      "C:\\Users\\Lucy\\Anaconda3\\lib\\site-packages\\matplotlib\\figure.py:98: MatplotlibDeprecationWarning: \n",
      "Adding an axes using the same arguments as a previous axes currently reuses the earlier instance.  In a future version, a new instance will always be created and returned.  Meanwhile, this warning can be suppressed, and the future behavior ensured, by passing a unique label to each axes instance.\n",
      "  \"Adding an axes using the same arguments as a previous axes \"\n"
     ]
    },
    {
     "name": "stdout",
     "output_type": "stream",
     "text": [
      "features_to_image.3.weight\n",
      "torch.Size([64, 32, 4, 4])\n",
      "features_to_image.5.weight\n",
      "features_to_image.6.weight\n",
      "features_to_image.8.weight\n",
      "features_to_image.9.weight\n",
      "features_to_image.3.weight\n",
      "torch.Size([64, 32, 4, 4])\n",
      "features_to_image.5.weight\n",
      "features_to_image.6.weight\n",
      "features_to_image.8.weight\n",
      "features_to_image.9.weight\n",
      "features_to_image.3.weight\n",
      "torch.Size([64, 32, 4, 4])\n",
      "features_to_image.5.weight\n",
      "features_to_image.6.weight\n",
      "features_to_image.8.weight\n",
      "features_to_image.9.weight\n",
      "features_to_image.3.weight\n",
      "torch.Size([64, 32, 4, 4])\n",
      "features_to_image.5.weight\n",
      "features_to_image.6.weight\n",
      "features_to_image.8.weight\n",
      "features_to_image.9.weight\n",
      "features_to_image.3.weight\n",
      "torch.Size([64, 32, 4, 4])\n",
      "features_to_image.5.weight\n",
      "features_to_image.6.weight\n",
      "features_to_image.8.weight\n",
      "features_to_image.9.weight\n",
      "features_to_image.3.weight\n",
      "torch.Size([64, 32, 4, 4])\n",
      "features_to_image.5.weight\n",
      "features_to_image.6.weight\n",
      "features_to_image.8.weight\n",
      "features_to_image.9.weight\n",
      "features_to_image.3.weight\n",
      "torch.Size([64, 32, 4, 4])\n",
      "features_to_image.5.weight\n",
      "features_to_image.6.weight\n",
      "features_to_image.8.weight\n",
      "features_to_image.9.weight\n",
      "features_to_image.3.weight\n",
      "torch.Size([64, 32, 4, 4])\n",
      "features_to_image.5.weight\n",
      "features_to_image.6.weight\n",
      "features_to_image.8.weight\n",
      "features_to_image.9.weight\n",
      "features_to_image.3.weight\n",
      "torch.Size([64, 32, 4, 4])\n",
      "features_to_image.5.weight\n",
      "features_to_image.6.weight\n",
      "features_to_image.8.weight\n",
      "features_to_image.9.weight\n",
      "features_to_image.3.weight\n",
      "torch.Size([64, 32, 4, 4])\n",
      "features_to_image.5.weight\n",
      "features_to_image.6.weight\n",
      "features_to_image.8.weight\n",
      "features_to_image.9.weight\n",
      "features_to_image.3.weight\n",
      "torch.Size([64, 32, 4, 4])\n",
      "features_to_image.5.weight\n",
      "features_to_image.6.weight\n",
      "features_to_image.8.weight\n",
      "features_to_image.9.weight\n",
      "features_to_image.3.weight\n",
      "torch.Size([64, 32, 4, 4])\n",
      "features_to_image.5.weight\n",
      "features_to_image.6.weight\n",
      "features_to_image.8.weight\n",
      "features_to_image.9.weight\n",
      "features_to_image.3.weight\n",
      "torch.Size([64, 32, 4, 4])\n",
      "features_to_image.5.weight\n",
      "features_to_image.6.weight\n",
      "features_to_image.8.weight\n",
      "features_to_image.9.weight\n",
      "features_to_image.3.weight\n",
      "torch.Size([64, 32, 4, 4])\n",
      "features_to_image.5.weight\n",
      "features_to_image.6.weight\n",
      "features_to_image.8.weight\n",
      "features_to_image.9.weight\n",
      "features_to_image.3.weight\n",
      "torch.Size([64, 32, 4, 4])\n",
      "features_to_image.5.weight\n",
      "features_to_image.6.weight\n",
      "features_to_image.8.weight\n",
      "features_to_image.9.weight\n",
      "features_to_image.3.weight\n",
      "torch.Size([64, 32, 4, 4])\n",
      "features_to_image.5.weight\n",
      "features_to_image.6.weight\n",
      "features_to_image.8.weight\n",
      "features_to_image.9.weight\n",
      "features_to_image.3.weight\n",
      "torch.Size([64, 32, 4, 4])\n",
      "features_to_image.5.weight\n",
      "features_to_image.6.weight\n",
      "features_to_image.8.weight\n",
      "features_to_image.9.weight\n",
      "features_to_image.3.weight\n",
      "torch.Size([64, 32, 4, 4])\n",
      "features_to_image.5.weight\n",
      "features_to_image.6.weight\n",
      "features_to_image.8.weight\n",
      "features_to_image.9.weight\n",
      "features_to_image.3.weight\n",
      "torch.Size([64, 32, 4, 4])\n",
      "features_to_image.5.weight\n",
      "features_to_image.6.weight\n",
      "features_to_image.8.weight\n",
      "features_to_image.9.weight\n",
      "features_to_image.3.weight\n",
      "torch.Size([64, 32, 4, 4])\n",
      "features_to_image.5.weight\n",
      "features_to_image.6.weight\n",
      "features_to_image.8.weight\n",
      "features_to_image.9.weight\n",
      "features_to_image.3.weight\n",
      "torch.Size([64, 32, 4, 4])\n",
      "features_to_image.5.weight\n",
      "features_to_image.6.weight\n",
      "features_to_image.8.weight\n",
      "features_to_image.9.weight\n",
      "features_to_image.3.weight\n",
      "torch.Size([64, 32, 4, 4])\n",
      "features_to_image.5.weight\n",
      "features_to_image.6.weight\n",
      "features_to_image.8.weight\n",
      "features_to_image.9.weight\n",
      "features_to_image.3.weight\n",
      "torch.Size([64, 32, 4, 4])\n",
      "features_to_image.5.weight\n",
      "features_to_image.6.weight\n",
      "features_to_image.8.weight\n",
      "features_to_image.9.weight\n",
      "features_to_image.3.weight\n",
      "torch.Size([64, 32, 4, 4])\n",
      "features_to_image.5.weight\n",
      "features_to_image.6.weight\n",
      "features_to_image.8.weight\n",
      "features_to_image.9.weight\n",
      "features_to_image.3.weight\n",
      "torch.Size([64, 32, 4, 4])\n",
      "features_to_image.5.weight\n",
      "features_to_image.6.weight\n",
      "features_to_image.8.weight\n",
      "features_to_image.9.weight\n",
      "features_to_image.3.weight\n",
      "torch.Size([64, 32, 4, 4])\n",
      "features_to_image.5.weight\n",
      "features_to_image.6.weight\n",
      "features_to_image.8.weight\n",
      "features_to_image.9.weight\n",
      "features_to_image.3.weight\n",
      "torch.Size([64, 32, 4, 4])\n",
      "features_to_image.5.weight\n",
      "features_to_image.6.weight\n",
      "features_to_image.8.weight\n",
      "features_to_image.9.weight\n",
      "features_to_image.3.weight\n",
      "torch.Size([64, 32, 4, 4])\n",
      "features_to_image.5.weight\n",
      "features_to_image.6.weight\n",
      "features_to_image.8.weight\n",
      "features_to_image.9.weight\n",
      "features_to_image.3.weight\n",
      "torch.Size([64, 32, 4, 4])\n",
      "features_to_image.5.weight\n",
      "features_to_image.6.weight\n",
      "features_to_image.8.weight\n",
      "features_to_image.9.weight\n",
      "features_to_image.3.weight\n",
      "torch.Size([64, 32, 4, 4])\n",
      "features_to_image.5.weight\n",
      "features_to_image.6.weight\n",
      "features_to_image.8.weight\n",
      "features_to_image.9.weight\n",
      "features_to_image.3.weight\n",
      "torch.Size([64, 32, 4, 4])\n",
      "features_to_image.5.weight\n",
      "features_to_image.6.weight\n",
      "features_to_image.8.weight\n",
      "features_to_image.9.weight\n",
      "features_to_image.3.weight\n",
      "torch.Size([64, 32, 4, 4])\n",
      "features_to_image.5.weight\n",
      "features_to_image.6.weight\n",
      "features_to_image.8.weight\n",
      "features_to_image.9.weight\n",
      "features_to_image.3.weight\n",
      "torch.Size([64, 32, 4, 4])\n",
      "features_to_image.5.weight\n",
      "features_to_image.6.weight\n",
      "features_to_image.8.weight\n",
      "features_to_image.9.weight\n",
      "features_to_image.3.weight\n",
      "torch.Size([64, 32, 4, 4])\n",
      "features_to_image.5.weight\n",
      "features_to_image.6.weight\n",
      "features_to_image.8.weight\n",
      "features_to_image.9.weight\n",
      "features_to_image.3.weight\n",
      "torch.Size([64, 32, 4, 4])\n",
      "features_to_image.5.weight\n",
      "features_to_image.6.weight\n",
      "features_to_image.8.weight\n",
      "features_to_image.9.weight\n",
      "features_to_image.3.weight\n",
      "torch.Size([64, 32, 4, 4])\n",
      "features_to_image.5.weight\n",
      "features_to_image.6.weight\n",
      "features_to_image.8.weight\n",
      "features_to_image.9.weight\n",
      "features_to_image.3.weight\n",
      "torch.Size([64, 32, 4, 4])\n",
      "features_to_image.5.weight\n",
      "features_to_image.6.weight\n",
      "features_to_image.8.weight\n",
      "features_to_image.9.weight\n",
      "features_to_image.3.weight\n",
      "torch.Size([64, 32, 4, 4])\n",
      "features_to_image.5.weight\n",
      "features_to_image.6.weight\n",
      "features_to_image.8.weight\n",
      "features_to_image.9.weight\n",
      "features_to_image.3.weight\n",
      "torch.Size([64, 32, 4, 4])\n",
      "features_to_image.5.weight\n",
      "features_to_image.6.weight\n",
      "features_to_image.8.weight\n",
      "features_to_image.9.weight\n",
      "features_to_image.3.weight\n",
      "torch.Size([64, 32, 4, 4])\n",
      "features_to_image.5.weight\n",
      "features_to_image.6.weight\n",
      "features_to_image.8.weight\n",
      "features_to_image.9.weight\n",
      "features_to_image.3.weight\n",
      "torch.Size([64, 32, 4, 4])\n",
      "features_to_image.5.weight\n",
      "features_to_image.6.weight\n",
      "features_to_image.8.weight\n",
      "features_to_image.9.weight\n",
      "features_to_image.3.weight\n",
      "torch.Size([64, 32, 4, 4])\n",
      "features_to_image.5.weight\n",
      "features_to_image.6.weight\n",
      "features_to_image.8.weight\n",
      "features_to_image.9.weight\n",
      "features_to_image.3.weight\n",
      "torch.Size([64, 32, 4, 4])\n",
      "features_to_image.5.weight\n",
      "features_to_image.6.weight\n",
      "features_to_image.8.weight\n",
      "features_to_image.9.weight\n",
      "features_to_image.3.weight\n",
      "torch.Size([64, 32, 4, 4])\n",
      "features_to_image.5.weight\n",
      "features_to_image.6.weight\n",
      "features_to_image.8.weight\n",
      "features_to_image.9.weight\n",
      "features_to_image.3.weight\n",
      "torch.Size([64, 32, 4, 4])\n",
      "features_to_image.5.weight\n",
      "features_to_image.6.weight\n",
      "features_to_image.8.weight\n",
      "features_to_image.9.weight\n",
      "features_to_image.3.weight\n",
      "torch.Size([64, 32, 4, 4])\n",
      "features_to_image.5.weight\n",
      "features_to_image.6.weight\n",
      "features_to_image.8.weight\n",
      "features_to_image.9.weight\n",
      "features_to_image.3.weight\n",
      "torch.Size([64, 32, 4, 4])\n",
      "features_to_image.5.weight\n",
      "features_to_image.6.weight\n",
      "features_to_image.8.weight\n",
      "features_to_image.9.weight\n",
      "features_to_image.3.weight\n",
      "torch.Size([64, 32, 4, 4])\n",
      "features_to_image.5.weight\n",
      "features_to_image.6.weight\n",
      "features_to_image.8.weight\n",
      "features_to_image.9.weight\n",
      "features_to_image.3.weight\n",
      "torch.Size([64, 32, 4, 4])\n",
      "features_to_image.5.weight\n",
      "features_to_image.6.weight\n",
      "features_to_image.8.weight\n",
      "features_to_image.9.weight\n",
      "features_to_image.3.weight\n",
      "torch.Size([64, 32, 4, 4])\n",
      "features_to_image.5.weight\n",
      "features_to_image.6.weight\n",
      "features_to_image.8.weight\n",
      "features_to_image.9.weight\n",
      "features_to_image.3.weight\n",
      "torch.Size([64, 32, 4, 4])\n",
      "features_to_image.5.weight\n"
     ]
    },
    {
     "name": "stdout",
     "output_type": "stream",
     "text": [
      "features_to_image.6.weight\n",
      "features_to_image.8.weight\n",
      "features_to_image.9.weight\n"
     ]
    },
    {
     "name": "stderr",
     "output_type": "stream",
     "text": [
      "Clipping input data to the valid range for imshow with RGB data ([0..1] for floats or [0..255] for integers).\n"
     ]
    },
    {
     "name": "stdout",
     "output_type": "stream",
     "text": [
      "features_to_image.3.weight\n",
      "torch.Size([64, 32, 4, 4])\n",
      "features_to_image.5.weight\n",
      "features_to_image.6.weight\n",
      "features_to_image.8.weight\n",
      "features_to_image.9.weight\n"
     ]
    },
    {
     "name": "stderr",
     "output_type": "stream",
     "text": [
      "Clipping input data to the valid range for imshow with RGB data ([0..1] for floats or [0..255] for integers).\n"
     ]
    },
    {
     "name": "stdout",
     "output_type": "stream",
     "text": [
      "features_to_image.3.weight\n",
      "torch.Size([64, 32, 4, 4])\n",
      "features_to_image.5.weight\n",
      "features_to_image.6.weight\n",
      "features_to_image.8.weight\n",
      "features_to_image.9.weight\n"
     ]
    },
    {
     "name": "stderr",
     "output_type": "stream",
     "text": [
      "Clipping input data to the valid range for imshow with RGB data ([0..1] for floats or [0..255] for integers).\n"
     ]
    },
    {
     "name": "stdout",
     "output_type": "stream",
     "text": [
      "features_to_image.3.weight\n",
      "torch.Size([64, 32, 4, 4])\n",
      "features_to_image.5.weight\n",
      "features_to_image.6.weight\n",
      "features_to_image.8.weight\n",
      "features_to_image.9.weight\n"
     ]
    },
    {
     "name": "stderr",
     "output_type": "stream",
     "text": [
      "Clipping input data to the valid range for imshow with RGB data ([0..1] for floats or [0..255] for integers).\n"
     ]
    },
    {
     "name": "stdout",
     "output_type": "stream",
     "text": [
      "features_to_image.3.weight\n",
      "torch.Size([64, 32, 4, 4])\n",
      "features_to_image.5.weight\n",
      "features_to_image.6.weight\n",
      "features_to_image.8.weight\n",
      "features_to_image.9.weight\n"
     ]
    },
    {
     "name": "stderr",
     "output_type": "stream",
     "text": [
      "Clipping input data to the valid range for imshow with RGB data ([0..1] for floats or [0..255] for integers).\n"
     ]
    },
    {
     "name": "stdout",
     "output_type": "stream",
     "text": [
      "features_to_image.3.weight\n",
      "torch.Size([64, 32, 4, 4])\n",
      "features_to_image.5.weight\n",
      "features_to_image.6.weight\n",
      "features_to_image.8.weight\n",
      "features_to_image.9.weight\n"
     ]
    },
    {
     "name": "stderr",
     "output_type": "stream",
     "text": [
      "Clipping input data to the valid range for imshow with RGB data ([0..1] for floats or [0..255] for integers).\n"
     ]
    },
    {
     "name": "stdout",
     "output_type": "stream",
     "text": [
      "features_to_image.3.weight\n",
      "torch.Size([64, 32, 4, 4])\n",
      "features_to_image.5.weight\n",
      "features_to_image.6.weight\n",
      "features_to_image.8.weight\n",
      "features_to_image.9.weight\n"
     ]
    },
    {
     "name": "stderr",
     "output_type": "stream",
     "text": [
      "Clipping input data to the valid range for imshow with RGB data ([0..1] for floats or [0..255] for integers).\n"
     ]
    },
    {
     "name": "stdout",
     "output_type": "stream",
     "text": [
      "features_to_image.3.weight\n",
      "torch.Size([64, 32, 4, 4])\n",
      "features_to_image.5.weight\n",
      "features_to_image.6.weight\n",
      "features_to_image.8.weight\n",
      "features_to_image.9.weight\n"
     ]
    },
    {
     "name": "stderr",
     "output_type": "stream",
     "text": [
      "Clipping input data to the valid range for imshow with RGB data ([0..1] for floats or [0..255] for integers).\n"
     ]
    },
    {
     "name": "stdout",
     "output_type": "stream",
     "text": [
      "features_to_image.3.weight\n",
      "torch.Size([64, 32, 4, 4])\n",
      "features_to_image.5.weight\n",
      "features_to_image.6.weight\n",
      "features_to_image.8.weight\n",
      "features_to_image.9.weight\n"
     ]
    },
    {
     "name": "stderr",
     "output_type": "stream",
     "text": [
      "Clipping input data to the valid range for imshow with RGB data ([0..1] for floats or [0..255] for integers).\n"
     ]
    },
    {
     "name": "stdout",
     "output_type": "stream",
     "text": [
      "features_to_image.3.weight\n",
      "torch.Size([64, 32, 4, 4])\n",
      "features_to_image.5.weight\n",
      "features_to_image.6.weight\n",
      "features_to_image.8.weight\n",
      "features_to_image.9.weight\n"
     ]
    },
    {
     "name": "stderr",
     "output_type": "stream",
     "text": [
      "Clipping input data to the valid range for imshow with RGB data ([0..1] for floats or [0..255] for integers).\n"
     ]
    },
    {
     "name": "stdout",
     "output_type": "stream",
     "text": [
      "features_to_image.3.weight\n",
      "torch.Size([64, 32, 4, 4])\n",
      "features_to_image.5.weight\n",
      "features_to_image.6.weight\n",
      "features_to_image.8.weight\n",
      "features_to_image.9.weight\n"
     ]
    },
    {
     "name": "stderr",
     "output_type": "stream",
     "text": [
      "Clipping input data to the valid range for imshow with RGB data ([0..1] for floats or [0..255] for integers).\n"
     ]
    },
    {
     "name": "stdout",
     "output_type": "stream",
     "text": [
      "features_to_image.3.weight\n",
      "torch.Size([64, 32, 4, 4])\n",
      "features_to_image.5.weight\n",
      "features_to_image.6.weight\n",
      "features_to_image.8.weight\n",
      "features_to_image.9.weight\n"
     ]
    },
    {
     "name": "stderr",
     "output_type": "stream",
     "text": [
      "Clipping input data to the valid range for imshow with RGB data ([0..1] for floats or [0..255] for integers).\n"
     ]
    },
    {
     "name": "stdout",
     "output_type": "stream",
     "text": [
      "features_to_image.3.weight\n",
      "torch.Size([64, 32, 4, 4])\n",
      "features_to_image.5.weight\n",
      "features_to_image.6.weight\n",
      "features_to_image.8.weight\n",
      "features_to_image.9.weight\n"
     ]
    },
    {
     "name": "stderr",
     "output_type": "stream",
     "text": [
      "Clipping input data to the valid range for imshow with RGB data ([0..1] for floats or [0..255] for integers).\n"
     ]
    },
    {
     "name": "stdout",
     "output_type": "stream",
     "text": [
      "features_to_image.3.weight\n",
      "torch.Size([64, 32, 4, 4])\n",
      "features_to_image.5.weight\n",
      "features_to_image.6.weight\n",
      "features_to_image.8.weight\n",
      "features_to_image.9.weight\n"
     ]
    },
    {
     "name": "stderr",
     "output_type": "stream",
     "text": [
      "Clipping input data to the valid range for imshow with RGB data ([0..1] for floats or [0..255] for integers).\n"
     ]
    },
    {
     "name": "stdout",
     "output_type": "stream",
     "text": [
      "features_to_image.3.weight\n",
      "torch.Size([64, 32, 4, 4])\n",
      "features_to_image.5.weight\n",
      "features_to_image.6.weight\n",
      "features_to_image.8.weight\n",
      "features_to_image.9.weight\n"
     ]
    },
    {
     "name": "stderr",
     "output_type": "stream",
     "text": [
      "Clipping input data to the valid range for imshow with RGB data ([0..1] for floats or [0..255] for integers).\n"
     ]
    },
    {
     "name": "stdout",
     "output_type": "stream",
     "text": [
      "features_to_image.3.weight\n",
      "torch.Size([64, 32, 4, 4])\n",
      "features_to_image.5.weight\n",
      "features_to_image.6.weight\n",
      "features_to_image.8.weight\n",
      "features_to_image.9.weight\n"
     ]
    },
    {
     "name": "stderr",
     "output_type": "stream",
     "text": [
      "Clipping input data to the valid range for imshow with RGB data ([0..1] for floats or [0..255] for integers).\n"
     ]
    },
    {
     "name": "stdout",
     "output_type": "stream",
     "text": [
      "features_to_image.3.weight\n",
      "torch.Size([64, 32, 4, 4])\n",
      "features_to_image.5.weight\n",
      "features_to_image.6.weight\n",
      "features_to_image.8.weight\n",
      "features_to_image.9.weight\n"
     ]
    },
    {
     "name": "stderr",
     "output_type": "stream",
     "text": [
      "Clipping input data to the valid range for imshow with RGB data ([0..1] for floats or [0..255] for integers).\n"
     ]
    },
    {
     "name": "stdout",
     "output_type": "stream",
     "text": [
      "features_to_image.3.weight\n",
      "torch.Size([64, 32, 4, 4])\n",
      "features_to_image.5.weight\n",
      "features_to_image.6.weight\n",
      "features_to_image.8.weight\n",
      "features_to_image.9.weight\n"
     ]
    },
    {
     "name": "stderr",
     "output_type": "stream",
     "text": [
      "Clipping input data to the valid range for imshow with RGB data ([0..1] for floats or [0..255] for integers).\n"
     ]
    },
    {
     "name": "stdout",
     "output_type": "stream",
     "text": [
      "features_to_image.3.weight\n",
      "torch.Size([64, 32, 4, 4])\n",
      "features_to_image.5.weight\n",
      "features_to_image.6.weight\n",
      "features_to_image.8.weight\n",
      "features_to_image.9.weight\n"
     ]
    },
    {
     "name": "stderr",
     "output_type": "stream",
     "text": [
      "Clipping input data to the valid range for imshow with RGB data ([0..1] for floats or [0..255] for integers).\n"
     ]
    },
    {
     "name": "stdout",
     "output_type": "stream",
     "text": [
      "features_to_image.3.weight\n",
      "torch.Size([64, 32, 4, 4])\n",
      "features_to_image.5.weight\n",
      "features_to_image.6.weight\n",
      "features_to_image.8.weight\n",
      "features_to_image.9.weight\n"
     ]
    },
    {
     "name": "stderr",
     "output_type": "stream",
     "text": [
      "Clipping input data to the valid range for imshow with RGB data ([0..1] for floats or [0..255] for integers).\n"
     ]
    },
    {
     "name": "stdout",
     "output_type": "stream",
     "text": [
      "features_to_image.3.weight\n",
      "torch.Size([64, 32, 4, 4])\n",
      "features_to_image.5.weight\n",
      "features_to_image.6.weight\n",
      "features_to_image.8.weight\n",
      "features_to_image.9.weight\n",
      "features_to_image.3.weight\n",
      "torch.Size([64, 32, 4, 4])\n",
      "features_to_image.5.weight\n",
      "features_to_image.6.weight\n",
      "features_to_image.8.weight\n",
      "features_to_image.9.weight\n",
      "features_to_image.3.weight\n",
      "torch.Size([64, 32, 4, 4])\n",
      "features_to_image.5.weight\n",
      "features_to_image.6.weight\n",
      "features_to_image.8.weight\n",
      "features_to_image.9.weight\n",
      "features_to_image.3.weight\n",
      "torch.Size([64, 32, 4, 4])\n",
      "features_to_image.5.weight\n",
      "features_to_image.6.weight\n",
      "features_to_image.8.weight\n",
      "features_to_image.9.weight\n",
      "features_to_image.3.weight\n",
      "torch.Size([64, 32, 4, 4])\n",
      "features_to_image.5.weight\n",
      "features_to_image.6.weight\n",
      "features_to_image.8.weight\n",
      "features_to_image.9.weight\n",
      "features_to_image.3.weight\n",
      "torch.Size([64, 32, 4, 4])\n",
      "features_to_image.5.weight\n",
      "features_to_image.6.weight\n",
      "features_to_image.8.weight\n",
      "features_to_image.9.weight\n",
      "features_to_image.3.weight\n",
      "torch.Size([64, 32, 4, 4])\n",
      "features_to_image.5.weight\n",
      "features_to_image.6.weight\n",
      "features_to_image.8.weight\n",
      "features_to_image.9.weight\n",
      "features_to_image.3.weight\n",
      "torch.Size([64, 32, 4, 4])\n",
      "features_to_image.5.weight\n",
      "features_to_image.6.weight\n",
      "features_to_image.8.weight\n",
      "features_to_image.9.weight\n",
      "features_to_image.3.weight\n",
      "torch.Size([64, 32, 4, 4])\n",
      "features_to_image.5.weight\n",
      "features_to_image.6.weight\n",
      "features_to_image.8.weight\n",
      "features_to_image.9.weight\n",
      "features_to_image.3.weight\n",
      "torch.Size([64, 32, 4, 4])\n",
      "features_to_image.5.weight\n",
      "features_to_image.6.weight\n",
      "features_to_image.8.weight\n",
      "features_to_image.9.weight\n",
      "features_to_image.3.weight\n",
      "torch.Size([64, 32, 4, 4])\n",
      "features_to_image.5.weight\n",
      "features_to_image.6.weight\n",
      "features_to_image.8.weight\n",
      "features_to_image.9.weight\n",
      "features_to_image.3.weight\n",
      "torch.Size([64, 32, 4, 4])\n",
      "features_to_image.5.weight\n",
      "features_to_image.6.weight\n",
      "features_to_image.8.weight\n",
      "features_to_image.9.weight\n",
      "features_to_image.3.weight\n",
      "torch.Size([64, 32, 4, 4])\n",
      "features_to_image.5.weight\n",
      "features_to_image.6.weight\n",
      "features_to_image.8.weight\n",
      "features_to_image.9.weight\n",
      "features_to_image.3.weight\n",
      "torch.Size([64, 32, 4, 4])\n",
      "features_to_image.5.weight\n",
      "features_to_image.6.weight\n",
      "features_to_image.8.weight\n",
      "features_to_image.9.weight\n",
      "features_to_image.3.weight\n",
      "torch.Size([64, 32, 4, 4])\n",
      "features_to_image.5.weight\n",
      "features_to_image.6.weight\n",
      "features_to_image.8.weight\n",
      "features_to_image.9.weight\n",
      "features_to_image.3.weight\n",
      "torch.Size([64, 32, 4, 4])\n",
      "features_to_image.5.weight\n",
      "features_to_image.6.weight\n",
      "features_to_image.8.weight\n",
      "features_to_image.9.weight\n",
      "features_to_image.3.weight\n",
      "torch.Size([64, 32, 4, 4])\n",
      "features_to_image.5.weight\n",
      "features_to_image.6.weight\n",
      "features_to_image.8.weight\n",
      "features_to_image.9.weight\n",
      "features_to_image.3.weight\n",
      "torch.Size([64, 32, 4, 4])\n",
      "features_to_image.5.weight\n",
      "features_to_image.6.weight\n",
      "features_to_image.8.weight\n",
      "features_to_image.9.weight\n",
      "features_to_image.3.weight\n",
      "torch.Size([64, 32, 4, 4])\n",
      "features_to_image.5.weight\n",
      "features_to_image.6.weight\n",
      "features_to_image.8.weight\n",
      "features_to_image.9.weight\n",
      "features_to_image.3.weight\n",
      "torch.Size([64, 32, 4, 4])\n",
      "features_to_image.5.weight\n",
      "features_to_image.6.weight\n",
      "features_to_image.8.weight\n",
      "features_to_image.9.weight\n",
      "features_to_image.3.weight\n",
      "torch.Size([64, 32, 4, 4])\n",
      "features_to_image.5.weight\n",
      "features_to_image.6.weight\n",
      "features_to_image.8.weight\n",
      "features_to_image.9.weight\n",
      "features_to_image.3.weight\n",
      "torch.Size([64, 32, 4, 4])\n",
      "features_to_image.5.weight\n",
      "features_to_image.6.weight\n",
      "features_to_image.8.weight\n",
      "features_to_image.9.weight\n",
      "features_to_image.3.weight\n",
      "torch.Size([64, 32, 4, 4])\n",
      "features_to_image.5.weight\n",
      "features_to_image.6.weight\n",
      "features_to_image.8.weight\n",
      "features_to_image.9.weight\n",
      "features_to_image.3.weight\n",
      "torch.Size([64, 32, 4, 4])\n",
      "features_to_image.5.weight\n",
      "features_to_image.6.weight\n",
      "features_to_image.8.weight\n",
      "features_to_image.9.weight\n",
      "features_to_image.3.weight\n",
      "torch.Size([64, 32, 4, 4])\n",
      "features_to_image.5.weight\n",
      "features_to_image.6.weight\n",
      "features_to_image.8.weight\n",
      "features_to_image.9.weight\n",
      "features_to_image.3.weight\n",
      "torch.Size([64, 32, 4, 4])\n",
      "features_to_image.5.weight\n",
      "features_to_image.6.weight\n",
      "features_to_image.8.weight\n",
      "features_to_image.9.weight\n",
      "features_to_image.3.weight\n",
      "torch.Size([64, 32, 4, 4])\n",
      "features_to_image.5.weight\n",
      "features_to_image.6.weight\n",
      "features_to_image.8.weight\n",
      "features_to_image.9.weight\n",
      "features_to_image.3.weight\n",
      "torch.Size([64, 32, 4, 4])\n",
      "features_to_image.5.weight\n",
      "features_to_image.6.weight\n",
      "features_to_image.8.weight\n",
      "features_to_image.9.weight\n",
      "features_to_image.3.weight\n",
      "torch.Size([64, 32, 4, 4])\n",
      "features_to_image.5.weight\n",
      "features_to_image.6.weight\n",
      "features_to_image.8.weight\n",
      "features_to_image.9.weight\n",
      "features_to_image.3.weight\n",
      "torch.Size([64, 32, 4, 4])\n",
      "features_to_image.5.weight\n",
      "features_to_image.6.weight\n",
      "features_to_image.8.weight\n",
      "features_to_image.9.weight\n",
      "features_to_image.3.weight\n",
      "torch.Size([64, 32, 4, 4])\n",
      "features_to_image.5.weight\n",
      "features_to_image.6.weight\n",
      "features_to_image.8.weight\n",
      "features_to_image.9.weight\n",
      "features_to_image.3.weight\n",
      "torch.Size([64, 32, 4, 4])\n",
      "features_to_image.5.weight\n",
      "features_to_image.6.weight\n",
      "features_to_image.8.weight\n",
      "features_to_image.9.weight\n",
      "features_to_image.3.weight\n",
      "torch.Size([64, 32, 4, 4])\n",
      "features_to_image.5.weight\n",
      "features_to_image.6.weight\n",
      "features_to_image.8.weight\n",
      "features_to_image.9.weight\n",
      "features_to_image.3.weight\n",
      "torch.Size([64, 32, 4, 4])\n",
      "features_to_image.5.weight\n",
      "features_to_image.6.weight\n",
      "features_to_image.8.weight\n",
      "features_to_image.9.weight\n",
      "features_to_image.3.weight\n",
      "torch.Size([64, 32, 4, 4])\n",
      "features_to_image.5.weight\n",
      "features_to_image.6.weight\n",
      "features_to_image.8.weight\n",
      "features_to_image.9.weight\n",
      "features_to_image.3.weight\n",
      "torch.Size([64, 32, 4, 4])\n",
      "features_to_image.5.weight\n",
      "features_to_image.6.weight\n",
      "features_to_image.8.weight\n",
      "features_to_image.9.weight\n",
      "features_to_image.3.weight\n",
      "torch.Size([64, 32, 4, 4])\n",
      "features_to_image.5.weight\n",
      "features_to_image.6.weight\n",
      "features_to_image.8.weight\n",
      "features_to_image.9.weight\n",
      "features_to_image.3.weight\n",
      "torch.Size([64, 32, 4, 4])\n",
      "features_to_image.5.weight\n",
      "features_to_image.6.weight\n",
      "features_to_image.8.weight\n",
      "features_to_image.9.weight\n",
      "features_to_image.3.weight\n",
      "torch.Size([64, 32, 4, 4])\n",
      "features_to_image.5.weight\n",
      "features_to_image.6.weight\n",
      "features_to_image.8.weight\n",
      "features_to_image.9.weight\n",
      "features_to_image.3.weight\n",
      "torch.Size([64, 32, 4, 4])\n",
      "features_to_image.5.weight\n",
      "features_to_image.6.weight\n",
      "features_to_image.8.weight\n",
      "features_to_image.9.weight\n",
      "features_to_image.3.weight\n",
      "torch.Size([64, 32, 4, 4])\n",
      "features_to_image.5.weight\n",
      "features_to_image.6.weight\n",
      "features_to_image.8.weight\n",
      "features_to_image.9.weight\n",
      "features_to_image.3.weight\n",
      "torch.Size([64, 32, 4, 4])\n",
      "features_to_image.5.weight\n",
      "features_to_image.6.weight\n",
      "features_to_image.8.weight\n",
      "features_to_image.9.weight\n",
      "features_to_image.3.weight\n",
      "torch.Size([64, 32, 4, 4])\n",
      "features_to_image.5.weight\n",
      "features_to_image.6.weight\n",
      "features_to_image.8.weight\n",
      "features_to_image.9.weight\n",
      "features_to_image.3.weight\n",
      "torch.Size([64, 32, 4, 4])\n",
      "features_to_image.5.weight\n",
      "features_to_image.6.weight\n",
      "features_to_image.8.weight\n",
      "features_to_image.9.weight\n",
      "features_to_image.3.weight\n",
      "torch.Size([64, 32, 4, 4])\n",
      "features_to_image.5.weight\n",
      "features_to_image.6.weight\n",
      "features_to_image.8.weight\n",
      "features_to_image.9.weight\n",
      "features_to_image.3.weight\n",
      "torch.Size([64, 32, 4, 4])\n",
      "features_to_image.5.weight\n",
      "features_to_image.6.weight\n",
      "features_to_image.8.weight\n",
      "features_to_image.9.weight\n",
      "features_to_image.3.weight\n",
      "torch.Size([64, 32, 4, 4])\n",
      "features_to_image.5.weight\n",
      "features_to_image.6.weight\n",
      "features_to_image.8.weight\n",
      "features_to_image.9.weight\n",
      "features_to_image.3.weight\n",
      "torch.Size([64, 32, 4, 4])\n",
      "features_to_image.5.weight\n",
      "features_to_image.6.weight\n",
      "features_to_image.8.weight\n",
      "features_to_image.9.weight\n",
      "features_to_image.3.weight\n",
      "torch.Size([64, 32, 4, 4])\n",
      "features_to_image.5.weight\n",
      "features_to_image.6.weight\n",
      "features_to_image.8.weight\n",
      "features_to_image.9.weight\n",
      "features_to_image.3.weight\n",
      "torch.Size([64, 32, 4, 4])\n",
      "features_to_image.5.weight\n",
      "features_to_image.6.weight\n",
      "features_to_image.8.weight\n",
      "features_to_image.9.weight\n",
      "features_to_image.3.weight\n",
      "torch.Size([64, 32, 4, 4])\n",
      "features_to_image.5.weight\n"
     ]
    },
    {
     "name": "stdout",
     "output_type": "stream",
     "text": [
      "features_to_image.6.weight\n",
      "features_to_image.8.weight\n",
      "features_to_image.9.weight\n",
      "features_to_image.3.weight\n",
      "torch.Size([64, 32, 4, 4])\n",
      "features_to_image.5.weight\n",
      "features_to_image.6.weight\n",
      "features_to_image.8.weight\n",
      "features_to_image.9.weight\n",
      "features_to_image.3.weight\n",
      "torch.Size([64, 32, 4, 4])\n",
      "features_to_image.5.weight\n",
      "features_to_image.6.weight\n",
      "features_to_image.8.weight\n",
      "features_to_image.9.weight\n",
      "features_to_image.3.weight\n",
      "torch.Size([64, 32, 4, 4])\n",
      "features_to_image.5.weight\n",
      "features_to_image.6.weight\n",
      "features_to_image.8.weight\n",
      "features_to_image.9.weight\n",
      "features_to_image.3.weight\n",
      "torch.Size([64, 32, 4, 4])\n",
      "features_to_image.5.weight\n",
      "features_to_image.6.weight\n",
      "features_to_image.8.weight\n",
      "features_to_image.9.weight\n",
      "features_to_image.3.weight\n",
      "torch.Size([64, 32, 4, 4])\n",
      "features_to_image.5.weight\n",
      "features_to_image.6.weight\n",
      "features_to_image.8.weight\n",
      "features_to_image.9.weight\n",
      "features_to_image.3.weight\n",
      "torch.Size([64, 32, 4, 4])\n",
      "features_to_image.5.weight\n",
      "features_to_image.6.weight\n",
      "features_to_image.8.weight\n",
      "features_to_image.9.weight\n",
      "features_to_image.3.weight\n",
      "torch.Size([64, 32, 4, 4])\n",
      "features_to_image.5.weight\n",
      "features_to_image.6.weight\n",
      "features_to_image.8.weight\n",
      "features_to_image.9.weight\n",
      "features_to_image.3.weight\n",
      "torch.Size([64, 32, 4, 4])\n",
      "features_to_image.5.weight\n",
      "features_to_image.6.weight\n",
      "features_to_image.8.weight\n",
      "features_to_image.9.weight\n",
      "features_to_image.3.weight\n",
      "torch.Size([64, 32, 4, 4])\n",
      "features_to_image.5.weight\n",
      "features_to_image.6.weight\n",
      "features_to_image.8.weight\n",
      "features_to_image.9.weight\n",
      "features_to_image.3.weight\n",
      "torch.Size([64, 32, 4, 4])\n",
      "features_to_image.5.weight\n",
      "features_to_image.6.weight\n",
      "features_to_image.8.weight\n",
      "features_to_image.9.weight\n",
      "features_to_image.3.weight\n",
      "torch.Size([64, 32, 4, 4])\n",
      "features_to_image.5.weight\n",
      "features_to_image.6.weight\n",
      "features_to_image.8.weight\n",
      "features_to_image.9.weight\n",
      "features_to_image.3.weight\n",
      "torch.Size([64, 32, 4, 4])\n",
      "features_to_image.5.weight\n",
      "features_to_image.6.weight\n",
      "features_to_image.8.weight\n",
      "features_to_image.9.weight\n",
      "features_to_image.3.weight\n",
      "torch.Size([64, 32, 4, 4])\n",
      "features_to_image.5.weight\n",
      "features_to_image.6.weight\n",
      "features_to_image.8.weight\n",
      "features_to_image.9.weight\n",
      "features_to_image.3.weight\n",
      "torch.Size([64, 32, 4, 4])\n",
      "features_to_image.5.weight\n",
      "features_to_image.6.weight\n",
      "features_to_image.8.weight\n",
      "features_to_image.9.weight\n",
      "features_to_image.3.weight\n",
      "torch.Size([64, 32, 4, 4])\n",
      "features_to_image.5.weight\n",
      "features_to_image.6.weight\n",
      "features_to_image.8.weight\n",
      "features_to_image.9.weight\n",
      "features_to_image.3.weight\n",
      "torch.Size([64, 32, 4, 4])\n",
      "features_to_image.5.weight\n",
      "features_to_image.6.weight\n",
      "features_to_image.8.weight\n",
      "features_to_image.9.weight\n",
      "features_to_image.3.weight\n",
      "torch.Size([64, 32, 4, 4])\n",
      "features_to_image.5.weight\n",
      "features_to_image.6.weight\n",
      "features_to_image.8.weight\n",
      "features_to_image.9.weight\n",
      "features_to_image.3.weight\n",
      "torch.Size([64, 32, 4, 4])\n",
      "features_to_image.5.weight\n",
      "features_to_image.6.weight\n",
      "features_to_image.8.weight\n",
      "features_to_image.9.weight\n",
      "features_to_image.3.weight\n",
      "torch.Size([64, 32, 4, 4])\n",
      "features_to_image.5.weight\n",
      "features_to_image.6.weight\n",
      "features_to_image.8.weight\n",
      "features_to_image.9.weight\n",
      "features_to_image.3.weight\n",
      "torch.Size([64, 32, 4, 4])\n",
      "features_to_image.5.weight\n",
      "features_to_image.6.weight\n",
      "features_to_image.8.weight\n",
      "features_to_image.9.weight\n",
      "features_to_image.3.weight\n",
      "torch.Size([64, 32, 4, 4])\n",
      "features_to_image.5.weight\n",
      "features_to_image.6.weight\n",
      "features_to_image.8.weight\n",
      "features_to_image.9.weight\n",
      "features_to_image.3.weight\n",
      "torch.Size([64, 32, 4, 4])\n",
      "features_to_image.5.weight\n",
      "features_to_image.6.weight\n",
      "features_to_image.8.weight\n",
      "features_to_image.9.weight\n",
      "features_to_image.3.weight\n",
      "torch.Size([64, 32, 4, 4])\n",
      "features_to_image.5.weight\n",
      "features_to_image.6.weight\n",
      "features_to_image.8.weight\n",
      "features_to_image.9.weight\n",
      "features_to_image.3.weight\n",
      "torch.Size([64, 32, 4, 4])\n",
      "features_to_image.5.weight\n",
      "features_to_image.6.weight\n",
      "features_to_image.8.weight\n",
      "features_to_image.9.weight\n",
      "features_to_image.3.weight\n",
      "torch.Size([64, 32, 4, 4])\n",
      "features_to_image.5.weight\n",
      "features_to_image.6.weight\n",
      "features_to_image.8.weight\n",
      "features_to_image.9.weight\n",
      "features_to_image.3.weight\n",
      "torch.Size([64, 32, 4, 4])\n",
      "features_to_image.5.weight\n",
      "features_to_image.6.weight\n",
      "features_to_image.8.weight\n",
      "features_to_image.9.weight\n",
      "features_to_image.3.weight\n",
      "torch.Size([64, 32, 4, 4])\n",
      "features_to_image.5.weight\n",
      "features_to_image.6.weight\n",
      "features_to_image.8.weight\n",
      "features_to_image.9.weight\n",
      "features_to_image.3.weight\n",
      "torch.Size([64, 32, 4, 4])\n",
      "features_to_image.5.weight\n",
      "features_to_image.6.weight\n",
      "features_to_image.8.weight\n",
      "features_to_image.9.weight\n",
      "features_to_image.3.weight\n",
      "torch.Size([64, 32, 4, 4])\n",
      "features_to_image.5.weight\n",
      "features_to_image.6.weight\n",
      "features_to_image.8.weight\n",
      "features_to_image.9.weight\n",
      "features_to_image.3.weight\n",
      "torch.Size([64, 32, 4, 4])\n",
      "features_to_image.5.weight\n",
      "features_to_image.6.weight\n",
      "features_to_image.8.weight\n",
      "features_to_image.9.weight\n",
      "features_to_image.3.weight\n",
      "torch.Size([64, 32, 4, 4])\n",
      "features_to_image.5.weight\n",
      "features_to_image.6.weight\n",
      "features_to_image.8.weight\n",
      "features_to_image.9.weight\n",
      "features_to_image.3.weight\n",
      "torch.Size([64, 32, 4, 4])\n",
      "features_to_image.5.weight\n",
      "features_to_image.6.weight\n",
      "features_to_image.8.weight\n",
      "features_to_image.9.weight\n",
      "features_to_image.3.weight\n",
      "torch.Size([64, 32, 4, 4])\n",
      "features_to_image.5.weight\n",
      "features_to_image.6.weight\n",
      "features_to_image.8.weight\n",
      "features_to_image.9.weight\n",
      "features_to_image.3.weight\n",
      "torch.Size([64, 32, 4, 4])\n",
      "features_to_image.5.weight\n",
      "features_to_image.6.weight\n",
      "features_to_image.8.weight\n",
      "features_to_image.9.weight\n",
      "features_to_image.3.weight\n",
      "torch.Size([64, 32, 4, 4])\n",
      "features_to_image.5.weight\n",
      "features_to_image.6.weight\n",
      "features_to_image.8.weight\n",
      "features_to_image.9.weight\n",
      "features_to_image.3.weight\n",
      "torch.Size([64, 32, 4, 4])\n",
      "features_to_image.5.weight\n",
      "features_to_image.6.weight\n",
      "features_to_image.8.weight\n",
      "features_to_image.9.weight\n",
      "features_to_image.3.weight\n",
      "torch.Size([64, 32, 4, 4])\n",
      "features_to_image.5.weight\n",
      "features_to_image.6.weight\n",
      "features_to_image.8.weight\n",
      "features_to_image.9.weight\n",
      "features_to_image.3.weight\n",
      "torch.Size([64, 32, 4, 4])\n",
      "features_to_image.5.weight\n",
      "features_to_image.6.weight\n",
      "features_to_image.8.weight\n",
      "features_to_image.9.weight\n",
      "features_to_image.3.weight\n",
      "torch.Size([64, 32, 4, 4])\n",
      "features_to_image.5.weight\n",
      "features_to_image.6.weight\n",
      "features_to_image.8.weight\n",
      "features_to_image.9.weight\n",
      "features_to_image.3.weight\n",
      "torch.Size([64, 32, 4, 4])\n",
      "features_to_image.5.weight\n",
      "features_to_image.6.weight\n",
      "features_to_image.8.weight\n",
      "features_to_image.9.weight\n",
      "features_to_image.3.weight\n",
      "torch.Size([64, 32, 4, 4])\n",
      "features_to_image.5.weight\n",
      "features_to_image.6.weight\n",
      "features_to_image.8.weight\n",
      "features_to_image.9.weight\n",
      "features_to_image.3.weight\n",
      "torch.Size([64, 32, 4, 4])\n",
      "features_to_image.5.weight\n",
      "features_to_image.6.weight\n",
      "features_to_image.8.weight\n",
      "features_to_image.9.weight\n",
      "features_to_image.3.weight\n",
      "torch.Size([64, 32, 4, 4])\n",
      "features_to_image.5.weight\n",
      "features_to_image.6.weight\n",
      "features_to_image.8.weight\n",
      "features_to_image.9.weight\n",
      "features_to_image.3.weight\n",
      "torch.Size([64, 32, 4, 4])\n",
      "features_to_image.5.weight\n",
      "features_to_image.6.weight\n",
      "features_to_image.8.weight\n",
      "features_to_image.9.weight\n",
      "features_to_image.3.weight\n",
      "torch.Size([64, 32, 4, 4])\n",
      "features_to_image.5.weight\n",
      "features_to_image.6.weight\n",
      "features_to_image.8.weight\n",
      "features_to_image.9.weight\n",
      "features_to_image.3.weight\n",
      "torch.Size([64, 32, 4, 4])\n",
      "features_to_image.5.weight\n",
      "features_to_image.6.weight\n",
      "features_to_image.8.weight\n",
      "features_to_image.9.weight\n",
      "features_to_image.3.weight\n",
      "torch.Size([64, 32, 4, 4])\n",
      "features_to_image.5.weight\n",
      "features_to_image.6.weight\n",
      "features_to_image.8.weight\n",
      "features_to_image.9.weight\n",
      "features_to_image.3.weight\n",
      "torch.Size([64, 32, 4, 4])\n",
      "features_to_image.5.weight\n",
      "features_to_image.6.weight\n",
      "features_to_image.8.weight\n",
      "features_to_image.9.weight\n",
      "features_to_image.3.weight\n",
      "torch.Size([64, 32, 4, 4])\n",
      "features_to_image.5.weight\n",
      "features_to_image.6.weight\n",
      "features_to_image.8.weight\n",
      "features_to_image.9.weight\n",
      "features_to_image.3.weight\n",
      "torch.Size([64, 32, 4, 4])\n",
      "features_to_image.5.weight\n",
      "features_to_image.6.weight\n",
      "features_to_image.8.weight\n",
      "features_to_image.9.weight\n"
     ]
    },
    {
     "name": "stdout",
     "output_type": "stream",
     "text": [
      "features_to_image.3.weight\n",
      "torch.Size([64, 32, 4, 4])\n",
      "features_to_image.5.weight\n",
      "features_to_image.6.weight\n",
      "features_to_image.8.weight\n",
      "features_to_image.9.weight\n",
      "features_to_image.3.weight\n",
      "torch.Size([64, 32, 4, 4])\n",
      "features_to_image.5.weight\n",
      "features_to_image.6.weight\n",
      "features_to_image.8.weight\n",
      "features_to_image.9.weight\n",
      "features_to_image.3.weight\n",
      "torch.Size([64, 32, 4, 4])\n",
      "features_to_image.5.weight\n",
      "features_to_image.6.weight\n",
      "features_to_image.8.weight\n",
      "features_to_image.9.weight\n",
      "features_to_image.3.weight\n",
      "torch.Size([64, 32, 4, 4])\n",
      "features_to_image.5.weight\n",
      "features_to_image.6.weight\n",
      "features_to_image.8.weight\n",
      "features_to_image.9.weight\n",
      "features_to_image.3.weight\n",
      "torch.Size([64, 32, 4, 4])\n",
      "features_to_image.5.weight\n",
      "features_to_image.6.weight\n",
      "features_to_image.8.weight\n",
      "features_to_image.9.weight\n",
      "features_to_image.3.weight\n",
      "torch.Size([64, 32, 4, 4])\n",
      "features_to_image.5.weight\n",
      "features_to_image.6.weight\n",
      "features_to_image.8.weight\n",
      "features_to_image.9.weight\n",
      "features_to_image.3.weight\n",
      "torch.Size([64, 32, 4, 4])\n",
      "features_to_image.5.weight\n",
      "features_to_image.6.weight\n",
      "features_to_image.8.weight\n",
      "features_to_image.9.weight\n",
      "features_to_image.3.weight\n",
      "torch.Size([64, 32, 4, 4])\n",
      "features_to_image.5.weight\n",
      "features_to_image.6.weight\n",
      "features_to_image.8.weight\n",
      "features_to_image.9.weight\n",
      "features_to_image.3.weight\n",
      "torch.Size([64, 32, 4, 4])\n",
      "features_to_image.5.weight\n",
      "features_to_image.6.weight\n",
      "features_to_image.8.weight\n",
      "features_to_image.9.weight\n",
      "features_to_image.3.weight\n",
      "torch.Size([64, 32, 4, 4])\n",
      "features_to_image.5.weight\n",
      "features_to_image.6.weight\n",
      "features_to_image.8.weight\n",
      "features_to_image.9.weight\n",
      "features_to_image.3.weight\n",
      "torch.Size([64, 32, 4, 4])\n",
      "features_to_image.5.weight\n",
      "features_to_image.6.weight\n",
      "features_to_image.8.weight\n",
      "features_to_image.9.weight\n",
      "features_to_image.3.weight\n",
      "torch.Size([64, 32, 4, 4])\n",
      "features_to_image.5.weight\n",
      "features_to_image.6.weight\n",
      "features_to_image.8.weight\n",
      "features_to_image.9.weight\n",
      "features_to_image.3.weight\n",
      "torch.Size([64, 32, 4, 4])\n",
      "features_to_image.5.weight\n",
      "features_to_image.6.weight\n",
      "features_to_image.8.weight\n",
      "features_to_image.9.weight\n",
      "features_to_image.3.weight\n",
      "torch.Size([64, 32, 4, 4])\n",
      "features_to_image.5.weight\n",
      "features_to_image.6.weight\n",
      "features_to_image.8.weight\n",
      "features_to_image.9.weight\n",
      "features_to_image.3.weight\n",
      "torch.Size([64, 32, 4, 4])\n",
      "features_to_image.5.weight\n",
      "features_to_image.6.weight\n",
      "features_to_image.8.weight\n",
      "features_to_image.9.weight\n",
      "features_to_image.3.weight\n",
      "torch.Size([64, 32, 4, 4])\n",
      "features_to_image.5.weight\n",
      "features_to_image.6.weight\n",
      "features_to_image.8.weight\n",
      "features_to_image.9.weight\n",
      "features_to_image.3.weight\n",
      "torch.Size([64, 32, 4, 4])\n",
      "features_to_image.5.weight\n",
      "features_to_image.6.weight\n",
      "features_to_image.8.weight\n",
      "features_to_image.9.weight\n",
      "features_to_image.3.weight\n",
      "torch.Size([64, 32, 4, 4])\n",
      "features_to_image.5.weight\n",
      "features_to_image.6.weight\n",
      "features_to_image.8.weight\n",
      "features_to_image.9.weight\n",
      "features_to_image.3.weight\n",
      "torch.Size([64, 32, 4, 4])\n",
      "features_to_image.5.weight\n",
      "features_to_image.6.weight\n",
      "features_to_image.8.weight\n",
      "features_to_image.9.weight\n",
      "features_to_image.3.weight\n",
      "torch.Size([64, 32, 4, 4])\n",
      "features_to_image.5.weight\n",
      "features_to_image.6.weight\n",
      "features_to_image.8.weight\n",
      "features_to_image.9.weight\n",
      "features_to_image.3.weight\n",
      "torch.Size([64, 32, 4, 4])\n",
      "features_to_image.5.weight\n",
      "features_to_image.6.weight\n",
      "features_to_image.8.weight\n",
      "features_to_image.9.weight\n",
      "features_to_image.3.weight\n",
      "torch.Size([64, 32, 4, 4])\n",
      "features_to_image.5.weight\n",
      "features_to_image.6.weight\n",
      "features_to_image.8.weight\n",
      "features_to_image.9.weight\n",
      "features_to_image.3.weight\n",
      "torch.Size([64, 32, 4, 4])\n",
      "features_to_image.5.weight\n",
      "features_to_image.6.weight\n",
      "features_to_image.8.weight\n",
      "features_to_image.9.weight\n",
      "features_to_image.3.weight\n",
      "torch.Size([64, 32, 4, 4])\n",
      "features_to_image.5.weight\n",
      "features_to_image.6.weight\n",
      "features_to_image.8.weight\n",
      "features_to_image.9.weight\n",
      "features_to_image.3.weight\n",
      "torch.Size([64, 32, 4, 4])\n",
      "features_to_image.5.weight\n",
      "features_to_image.6.weight\n",
      "features_to_image.8.weight\n",
      "features_to_image.9.weight\n",
      "features_to_image.3.weight\n",
      "torch.Size([64, 32, 4, 4])\n",
      "features_to_image.5.weight\n",
      "features_to_image.6.weight\n",
      "features_to_image.8.weight\n",
      "features_to_image.9.weight\n",
      "features_to_image.3.weight\n",
      "torch.Size([64, 32, 4, 4])\n",
      "features_to_image.5.weight\n",
      "features_to_image.6.weight\n",
      "features_to_image.8.weight\n",
      "features_to_image.9.weight\n",
      "features_to_image.3.weight\n",
      "torch.Size([64, 32, 4, 4])\n",
      "features_to_image.5.weight\n",
      "features_to_image.6.weight\n",
      "features_to_image.8.weight\n",
      "features_to_image.9.weight\n",
      "features_to_image.3.weight\n",
      "torch.Size([64, 32, 4, 4])\n",
      "features_to_image.5.weight\n",
      "features_to_image.6.weight\n",
      "features_to_image.8.weight\n",
      "features_to_image.9.weight\n",
      "features_to_image.3.weight\n",
      "torch.Size([64, 32, 4, 4])\n",
      "features_to_image.5.weight\n",
      "features_to_image.6.weight\n",
      "features_to_image.8.weight\n",
      "features_to_image.9.weight\n",
      "features_to_image.3.weight\n",
      "torch.Size([64, 32, 4, 4])\n",
      "features_to_image.5.weight\n",
      "features_to_image.6.weight\n",
      "features_to_image.8.weight\n",
      "features_to_image.9.weight\n",
      "features_to_image.3.weight\n",
      "torch.Size([64, 32, 4, 4])\n",
      "features_to_image.5.weight\n",
      "features_to_image.6.weight\n",
      "features_to_image.8.weight\n",
      "features_to_image.9.weight\n",
      "features_to_image.3.weight\n",
      "torch.Size([64, 32, 4, 4])\n",
      "features_to_image.5.weight\n",
      "features_to_image.6.weight\n",
      "features_to_image.8.weight\n",
      "features_to_image.9.weight\n",
      "features_to_image.3.weight\n",
      "torch.Size([64, 32, 4, 4])\n",
      "features_to_image.5.weight\n",
      "features_to_image.6.weight\n",
      "features_to_image.8.weight\n",
      "features_to_image.9.weight\n",
      "features_to_image.3.weight\n",
      "torch.Size([64, 32, 4, 4])\n",
      "features_to_image.5.weight\n",
      "features_to_image.6.weight\n",
      "features_to_image.8.weight\n",
      "features_to_image.9.weight\n",
      "features_to_image.3.weight\n",
      "torch.Size([64, 32, 4, 4])\n",
      "features_to_image.5.weight\n",
      "features_to_image.6.weight\n",
      "features_to_image.8.weight\n",
      "features_to_image.9.weight\n",
      "features_to_image.3.weight\n",
      "torch.Size([64, 32, 4, 4])\n",
      "features_to_image.5.weight\n",
      "features_to_image.6.weight\n",
      "features_to_image.8.weight\n",
      "features_to_image.9.weight\n",
      "features_to_image.3.weight\n",
      "torch.Size([64, 32, 4, 4])\n",
      "features_to_image.5.weight\n",
      "features_to_image.6.weight\n",
      "features_to_image.8.weight\n",
      "features_to_image.9.weight\n",
      "features_to_image.3.weight\n",
      "torch.Size([64, 32, 4, 4])\n",
      "features_to_image.5.weight\n",
      "features_to_image.6.weight\n",
      "features_to_image.8.weight\n",
      "features_to_image.9.weight\n",
      "features_to_image.3.weight\n",
      "torch.Size([64, 32, 4, 4])\n",
      "features_to_image.5.weight\n",
      "features_to_image.6.weight\n",
      "features_to_image.8.weight\n",
      "features_to_image.9.weight\n",
      "features_to_image.3.weight\n",
      "torch.Size([64, 32, 4, 4])\n",
      "features_to_image.5.weight\n",
      "features_to_image.6.weight\n",
      "features_to_image.8.weight\n",
      "features_to_image.9.weight\n",
      "features_to_image.3.weight\n",
      "torch.Size([64, 32, 4, 4])\n",
      "features_to_image.5.weight\n",
      "features_to_image.6.weight\n",
      "features_to_image.8.weight\n",
      "features_to_image.9.weight\n",
      "features_to_image.3.weight\n",
      "torch.Size([64, 32, 4, 4])\n",
      "features_to_image.5.weight\n",
      "features_to_image.6.weight\n",
      "features_to_image.8.weight\n",
      "features_to_image.9.weight\n",
      "features_to_image.3.weight\n",
      "torch.Size([64, 32, 4, 4])\n",
      "features_to_image.5.weight\n",
      "features_to_image.6.weight\n",
      "features_to_image.8.weight\n",
      "features_to_image.9.weight\n",
      "features_to_image.3.weight\n",
      "torch.Size([64, 32, 4, 4])\n",
      "features_to_image.5.weight\n",
      "features_to_image.6.weight\n",
      "features_to_image.8.weight\n",
      "features_to_image.9.weight\n",
      "features_to_image.3.weight\n",
      "torch.Size([64, 32, 4, 4])\n",
      "features_to_image.5.weight\n",
      "features_to_image.6.weight\n",
      "features_to_image.8.weight\n",
      "features_to_image.9.weight\n",
      "features_to_image.3.weight\n",
      "torch.Size([64, 32, 4, 4])\n",
      "features_to_image.5.weight\n",
      "features_to_image.6.weight\n",
      "features_to_image.8.weight\n",
      "features_to_image.9.weight\n",
      "features_to_image.3.weight\n",
      "torch.Size([64, 32, 4, 4])\n",
      "features_to_image.5.weight\n",
      "features_to_image.6.weight\n",
      "features_to_image.8.weight\n",
      "features_to_image.9.weight\n",
      "features_to_image.3.weight\n",
      "torch.Size([64, 32, 4, 4])\n",
      "features_to_image.5.weight\n",
      "features_to_image.6.weight\n",
      "features_to_image.8.weight\n",
      "features_to_image.9.weight\n",
      "features_to_image.3.weight\n",
      "torch.Size([64, 32, 4, 4])\n",
      "features_to_image.5.weight\n",
      "features_to_image.6.weight\n",
      "features_to_image.8.weight\n",
      "features_to_image.9.weight\n",
      "features_to_image.3.weight\n",
      "torch.Size([64, 32, 4, 4])\n",
      "features_to_image.5.weight\n"
     ]
    },
    {
     "name": "stdout",
     "output_type": "stream",
     "text": [
      "features_to_image.6.weight\n",
      "features_to_image.8.weight\n",
      "features_to_image.9.weight\n",
      "features_to_image.3.weight\n",
      "torch.Size([64, 32, 4, 4])\n",
      "features_to_image.5.weight\n",
      "features_to_image.6.weight\n",
      "features_to_image.8.weight\n",
      "features_to_image.9.weight\n",
      "features_to_image.3.weight\n",
      "torch.Size([64, 32, 4, 4])\n",
      "features_to_image.5.weight\n",
      "features_to_image.6.weight\n",
      "features_to_image.8.weight\n",
      "features_to_image.9.weight\n",
      "features_to_image.3.weight\n",
      "torch.Size([64, 32, 4, 4])\n",
      "features_to_image.5.weight\n",
      "features_to_image.6.weight\n",
      "features_to_image.8.weight\n",
      "features_to_image.9.weight\n",
      "features_to_image.3.weight\n",
      "torch.Size([64, 32, 4, 4])\n",
      "features_to_image.5.weight\n",
      "features_to_image.6.weight\n",
      "features_to_image.8.weight\n",
      "features_to_image.9.weight\n",
      "features_to_image.3.weight\n",
      "torch.Size([64, 32, 4, 4])\n",
      "features_to_image.5.weight\n",
      "features_to_image.6.weight\n",
      "features_to_image.8.weight\n",
      "features_to_image.9.weight\n",
      "features_to_image.3.weight\n",
      "torch.Size([64, 32, 4, 4])\n",
      "features_to_image.5.weight\n",
      "features_to_image.6.weight\n",
      "features_to_image.8.weight\n",
      "features_to_image.9.weight\n",
      "features_to_image.3.weight\n",
      "torch.Size([64, 32, 4, 4])\n",
      "features_to_image.5.weight\n",
      "features_to_image.6.weight\n",
      "features_to_image.8.weight\n",
      "features_to_image.9.weight\n",
      "features_to_image.3.weight\n",
      "torch.Size([64, 32, 4, 4])\n",
      "features_to_image.5.weight\n",
      "features_to_image.6.weight\n",
      "features_to_image.8.weight\n",
      "features_to_image.9.weight\n",
      "features_to_image.3.weight\n",
      "torch.Size([64, 32, 4, 4])\n",
      "features_to_image.5.weight\n",
      "features_to_image.6.weight\n",
      "features_to_image.8.weight\n",
      "features_to_image.9.weight\n",
      "features_to_image.3.weight\n",
      "torch.Size([64, 32, 4, 4])\n",
      "features_to_image.5.weight\n",
      "features_to_image.6.weight\n",
      "features_to_image.8.weight\n",
      "features_to_image.9.weight\n",
      "features_to_image.3.weight\n",
      "torch.Size([64, 32, 4, 4])\n",
      "features_to_image.5.weight\n",
      "features_to_image.6.weight\n",
      "features_to_image.8.weight\n",
      "features_to_image.9.weight\n",
      "features_to_image.3.weight\n",
      "torch.Size([64, 32, 4, 4])\n",
      "features_to_image.5.weight\n",
      "features_to_image.6.weight\n",
      "features_to_image.8.weight\n",
      "features_to_image.9.weight\n",
      "features_to_image.3.weight\n",
      "torch.Size([64, 32, 4, 4])\n",
      "features_to_image.5.weight\n",
      "features_to_image.6.weight\n",
      "features_to_image.8.weight\n",
      "features_to_image.9.weight\n",
      "features_to_image.3.weight\n",
      "torch.Size([64, 32, 4, 4])\n",
      "features_to_image.5.weight\n",
      "features_to_image.6.weight\n",
      "features_to_image.8.weight\n",
      "features_to_image.9.weight\n",
      "features_to_image.3.weight\n",
      "torch.Size([64, 32, 4, 4])\n",
      "features_to_image.5.weight\n",
      "features_to_image.6.weight\n",
      "features_to_image.8.weight\n",
      "features_to_image.9.weight\n",
      "features_to_image.3.weight\n",
      "torch.Size([64, 32, 4, 4])\n",
      "features_to_image.5.weight\n",
      "features_to_image.6.weight\n",
      "features_to_image.8.weight\n",
      "features_to_image.9.weight\n",
      "features_to_image.3.weight\n",
      "torch.Size([64, 32, 4, 4])\n",
      "features_to_image.5.weight\n",
      "features_to_image.6.weight\n",
      "features_to_image.8.weight\n",
      "features_to_image.9.weight\n",
      "features_to_image.3.weight\n",
      "torch.Size([64, 32, 4, 4])\n",
      "features_to_image.5.weight\n",
      "features_to_image.6.weight\n",
      "features_to_image.8.weight\n",
      "features_to_image.9.weight\n",
      "features_to_image.3.weight\n",
      "torch.Size([64, 32, 4, 4])\n",
      "features_to_image.5.weight\n",
      "features_to_image.6.weight\n",
      "features_to_image.8.weight\n",
      "features_to_image.9.weight\n",
      "features_to_image.3.weight\n",
      "torch.Size([64, 32, 4, 4])\n",
      "features_to_image.5.weight\n",
      "features_to_image.6.weight\n",
      "features_to_image.8.weight\n",
      "features_to_image.9.weight\n",
      "features_to_image.3.weight\n",
      "torch.Size([64, 32, 4, 4])\n",
      "features_to_image.5.weight\n",
      "features_to_image.6.weight\n",
      "features_to_image.8.weight\n",
      "features_to_image.9.weight\n",
      "features_to_image.3.weight\n",
      "torch.Size([64, 32, 4, 4])\n",
      "features_to_image.5.weight\n",
      "features_to_image.6.weight\n",
      "features_to_image.8.weight\n",
      "features_to_image.9.weight\n",
      "features_to_image.3.weight\n",
      "torch.Size([64, 32, 4, 4])\n",
      "features_to_image.5.weight\n",
      "features_to_image.6.weight\n",
      "features_to_image.8.weight\n",
      "features_to_image.9.weight\n",
      "features_to_image.3.weight\n",
      "torch.Size([64, 32, 4, 4])\n",
      "features_to_image.5.weight\n",
      "features_to_image.6.weight\n",
      "features_to_image.8.weight\n",
      "features_to_image.9.weight\n",
      "features_to_image.3.weight\n",
      "torch.Size([64, 32, 4, 4])\n",
      "features_to_image.5.weight\n",
      "features_to_image.6.weight\n",
      "features_to_image.8.weight\n",
      "features_to_image.9.weight\n",
      "features_to_image.3.weight\n",
      "torch.Size([64, 32, 4, 4])\n",
      "features_to_image.5.weight\n",
      "features_to_image.6.weight\n",
      "features_to_image.8.weight\n",
      "features_to_image.9.weight\n",
      "features_to_image.3.weight\n",
      "torch.Size([64, 32, 4, 4])\n",
      "features_to_image.5.weight\n",
      "features_to_image.6.weight\n",
      "features_to_image.8.weight\n",
      "features_to_image.9.weight\n",
      "features_to_image.3.weight\n",
      "torch.Size([64, 32, 4, 4])\n",
      "features_to_image.5.weight\n",
      "features_to_image.6.weight\n",
      "features_to_image.8.weight\n",
      "features_to_image.9.weight\n",
      "features_to_image.3.weight\n",
      "torch.Size([64, 32, 4, 4])\n",
      "features_to_image.5.weight\n",
      "features_to_image.6.weight\n",
      "features_to_image.8.weight\n",
      "features_to_image.9.weight\n",
      "features_to_image.3.weight\n",
      "torch.Size([64, 32, 4, 4])\n",
      "features_to_image.5.weight\n",
      "features_to_image.6.weight\n",
      "features_to_image.8.weight\n",
      "features_to_image.9.weight\n",
      "features_to_image.3.weight\n",
      "torch.Size([64, 32, 4, 4])\n",
      "features_to_image.5.weight\n",
      "features_to_image.6.weight\n",
      "features_to_image.8.weight\n",
      "features_to_image.9.weight\n",
      "features_to_image.3.weight\n",
      "torch.Size([64, 32, 4, 4])\n",
      "features_to_image.5.weight\n",
      "features_to_image.6.weight\n",
      "features_to_image.8.weight\n",
      "features_to_image.9.weight\n",
      "features_to_image.3.weight\n",
      "torch.Size([64, 32, 4, 4])\n",
      "features_to_image.5.weight\n",
      "features_to_image.6.weight\n",
      "features_to_image.8.weight\n",
      "features_to_image.9.weight\n",
      "features_to_image.3.weight\n",
      "torch.Size([64, 32, 4, 4])\n",
      "features_to_image.5.weight\n",
      "features_to_image.6.weight\n",
      "features_to_image.8.weight\n",
      "features_to_image.9.weight\n",
      "features_to_image.3.weight\n",
      "torch.Size([64, 32, 4, 4])\n",
      "features_to_image.5.weight\n",
      "features_to_image.6.weight\n",
      "features_to_image.8.weight\n",
      "features_to_image.9.weight\n",
      "features_to_image.3.weight\n",
      "torch.Size([64, 32, 4, 4])\n",
      "features_to_image.5.weight\n",
      "features_to_image.6.weight\n",
      "features_to_image.8.weight\n",
      "features_to_image.9.weight\n",
      "features_to_image.3.weight\n",
      "torch.Size([64, 32, 4, 4])\n",
      "features_to_image.5.weight\n",
      "features_to_image.6.weight\n",
      "features_to_image.8.weight\n",
      "features_to_image.9.weight\n",
      "features_to_image.3.weight\n",
      "torch.Size([64, 32, 4, 4])\n",
      "features_to_image.5.weight\n",
      "features_to_image.6.weight\n",
      "features_to_image.8.weight\n",
      "features_to_image.9.weight\n",
      "features_to_image.3.weight\n",
      "torch.Size([64, 32, 4, 4])\n",
      "features_to_image.5.weight\n",
      "features_to_image.6.weight\n",
      "features_to_image.8.weight\n",
      "features_to_image.9.weight\n",
      "features_to_image.3.weight\n",
      "torch.Size([64, 32, 4, 4])\n",
      "features_to_image.5.weight\n",
      "features_to_image.6.weight\n",
      "features_to_image.8.weight\n",
      "features_to_image.9.weight\n",
      "features_to_image.3.weight\n",
      "torch.Size([64, 32, 4, 4])\n",
      "features_to_image.5.weight\n",
      "features_to_image.6.weight\n",
      "features_to_image.8.weight\n",
      "features_to_image.9.weight\n",
      "features_to_image.3.weight\n",
      "torch.Size([64, 32, 4, 4])\n",
      "features_to_image.5.weight\n",
      "features_to_image.6.weight\n",
      "features_to_image.8.weight\n",
      "features_to_image.9.weight\n",
      "features_to_image.3.weight\n",
      "torch.Size([64, 32, 4, 4])\n",
      "features_to_image.5.weight\n",
      "features_to_image.6.weight\n",
      "features_to_image.8.weight\n",
      "features_to_image.9.weight\n",
      "features_to_image.3.weight\n",
      "torch.Size([64, 32, 4, 4])\n",
      "features_to_image.5.weight\n",
      "features_to_image.6.weight\n",
      "features_to_image.8.weight\n",
      "features_to_image.9.weight\n",
      "features_to_image.3.weight\n",
      "torch.Size([64, 32, 4, 4])\n",
      "features_to_image.5.weight\n",
      "features_to_image.6.weight\n",
      "features_to_image.8.weight\n",
      "features_to_image.9.weight\n",
      "features_to_image.3.weight\n",
      "torch.Size([64, 32, 4, 4])\n",
      "features_to_image.5.weight\n",
      "features_to_image.6.weight\n",
      "features_to_image.8.weight\n",
      "features_to_image.9.weight\n",
      "features_to_image.3.weight\n",
      "torch.Size([64, 32, 4, 4])\n",
      "features_to_image.5.weight\n",
      "features_to_image.6.weight\n",
      "features_to_image.8.weight\n",
      "features_to_image.9.weight\n",
      "features_to_image.3.weight\n",
      "torch.Size([64, 32, 4, 4])\n",
      "features_to_image.5.weight\n",
      "features_to_image.6.weight\n",
      "features_to_image.8.weight\n",
      "features_to_image.9.weight\n",
      "features_to_image.3.weight\n",
      "torch.Size([64, 32, 4, 4])\n",
      "features_to_image.5.weight\n",
      "features_to_image.6.weight\n",
      "features_to_image.8.weight\n",
      "features_to_image.9.weight\n",
      "features_to_image.3.weight\n",
      "torch.Size([64, 32, 4, 4])\n",
      "features_to_image.5.weight\n",
      "features_to_image.6.weight\n",
      "features_to_image.8.weight\n",
      "features_to_image.9.weight\n"
     ]
    },
    {
     "name": "stdout",
     "output_type": "stream",
     "text": [
      "features_to_image.3.weight\n",
      "torch.Size([64, 32, 4, 4])\n",
      "features_to_image.5.weight\n",
      "features_to_image.6.weight\n",
      "features_to_image.8.weight\n",
      "features_to_image.9.weight\n",
      "features_to_image.3.weight\n",
      "torch.Size([64, 32, 4, 4])\n",
      "features_to_image.5.weight\n",
      "features_to_image.6.weight\n",
      "features_to_image.8.weight\n",
      "features_to_image.9.weight\n",
      "features_to_image.3.weight\n",
      "torch.Size([64, 32, 4, 4])\n",
      "features_to_image.5.weight\n",
      "features_to_image.6.weight\n",
      "features_to_image.8.weight\n",
      "features_to_image.9.weight\n",
      "features_to_image.3.weight\n",
      "torch.Size([64, 32, 4, 4])\n",
      "features_to_image.5.weight\n",
      "features_to_image.6.weight\n",
      "features_to_image.8.weight\n",
      "features_to_image.9.weight\n",
      "features_to_image.3.weight\n",
      "torch.Size([64, 32, 4, 4])\n",
      "features_to_image.5.weight\n",
      "features_to_image.6.weight\n",
      "features_to_image.8.weight\n",
      "features_to_image.9.weight\n",
      "features_to_image.3.weight\n",
      "torch.Size([64, 32, 4, 4])\n",
      "features_to_image.5.weight\n",
      "features_to_image.6.weight\n",
      "features_to_image.8.weight\n",
      "features_to_image.9.weight\n",
      "features_to_image.3.weight\n",
      "torch.Size([64, 32, 4, 4])\n",
      "features_to_image.5.weight\n",
      "features_to_image.6.weight\n",
      "features_to_image.8.weight\n",
      "features_to_image.9.weight\n",
      "features_to_image.3.weight\n",
      "torch.Size([64, 32, 4, 4])\n",
      "features_to_image.5.weight\n",
      "features_to_image.6.weight\n",
      "features_to_image.8.weight\n",
      "features_to_image.9.weight\n",
      "features_to_image.3.weight\n",
      "torch.Size([64, 32, 4, 4])\n",
      "features_to_image.5.weight\n",
      "features_to_image.6.weight\n",
      "features_to_image.8.weight\n",
      "features_to_image.9.weight\n",
      "features_to_image.3.weight\n",
      "torch.Size([64, 32, 4, 4])\n",
      "features_to_image.5.weight\n",
      "features_to_image.6.weight\n",
      "features_to_image.8.weight\n",
      "features_to_image.9.weight\n",
      "features_to_image.3.weight\n",
      "torch.Size([64, 32, 4, 4])\n",
      "features_to_image.5.weight\n",
      "features_to_image.6.weight\n",
      "features_to_image.8.weight\n",
      "features_to_image.9.weight\n",
      "features_to_image.3.weight\n",
      "torch.Size([64, 32, 4, 4])\n",
      "features_to_image.5.weight\n",
      "features_to_image.6.weight\n",
      "features_to_image.8.weight\n",
      "features_to_image.9.weight\n",
      "features_to_image.3.weight\n",
      "torch.Size([64, 32, 4, 4])\n",
      "features_to_image.5.weight\n",
      "features_to_image.6.weight\n",
      "features_to_image.8.weight\n",
      "features_to_image.9.weight\n",
      "features_to_image.3.weight\n",
      "torch.Size([64, 32, 4, 4])\n",
      "features_to_image.5.weight\n",
      "features_to_image.6.weight\n",
      "features_to_image.8.weight\n",
      "features_to_image.9.weight\n",
      "features_to_image.3.weight\n",
      "torch.Size([64, 32, 4, 4])\n",
      "features_to_image.5.weight\n",
      "features_to_image.6.weight\n",
      "features_to_image.8.weight\n",
      "features_to_image.9.weight\n",
      "features_to_image.3.weight\n",
      "torch.Size([64, 32, 4, 4])\n",
      "features_to_image.5.weight\n",
      "features_to_image.6.weight\n",
      "features_to_image.8.weight\n",
      "features_to_image.9.weight\n",
      "features_to_image.3.weight\n",
      "torch.Size([64, 32, 4, 4])\n",
      "features_to_image.5.weight\n",
      "features_to_image.6.weight\n",
      "features_to_image.8.weight\n",
      "features_to_image.9.weight\n",
      "features_to_image.3.weight\n",
      "torch.Size([64, 32, 4, 4])\n",
      "features_to_image.5.weight\n",
      "features_to_image.6.weight\n",
      "features_to_image.8.weight\n",
      "features_to_image.9.weight\n",
      "features_to_image.3.weight\n",
      "torch.Size([64, 32, 4, 4])\n",
      "features_to_image.5.weight\n",
      "features_to_image.6.weight\n",
      "features_to_image.8.weight\n",
      "features_to_image.9.weight\n",
      "features_to_image.3.weight\n",
      "torch.Size([64, 32, 4, 4])\n",
      "features_to_image.5.weight\n",
      "features_to_image.6.weight\n",
      "features_to_image.8.weight\n",
      "features_to_image.9.weight\n",
      "features_to_image.3.weight\n",
      "torch.Size([64, 32, 4, 4])\n",
      "features_to_image.5.weight\n",
      "features_to_image.6.weight\n",
      "features_to_image.8.weight\n",
      "features_to_image.9.weight\n",
      "features_to_image.3.weight\n",
      "torch.Size([64, 32, 4, 4])\n",
      "features_to_image.5.weight\n",
      "features_to_image.6.weight\n",
      "features_to_image.8.weight\n",
      "features_to_image.9.weight\n",
      "features_to_image.3.weight\n",
      "torch.Size([64, 32, 4, 4])\n",
      "features_to_image.5.weight\n",
      "features_to_image.6.weight\n",
      "features_to_image.8.weight\n",
      "features_to_image.9.weight\n",
      "features_to_image.3.weight\n",
      "torch.Size([64, 32, 4, 4])\n",
      "features_to_image.5.weight\n",
      "features_to_image.6.weight\n",
      "features_to_image.8.weight\n",
      "features_to_image.9.weight\n",
      "features_to_image.3.weight\n",
      "torch.Size([64, 32, 4, 4])\n",
      "features_to_image.5.weight\n",
      "features_to_image.6.weight\n",
      "features_to_image.8.weight\n",
      "features_to_image.9.weight\n",
      "features_to_image.3.weight\n",
      "torch.Size([64, 32, 4, 4])\n",
      "features_to_image.5.weight\n",
      "features_to_image.6.weight\n",
      "features_to_image.8.weight\n",
      "features_to_image.9.weight\n",
      "features_to_image.3.weight\n",
      "torch.Size([64, 32, 4, 4])\n",
      "features_to_image.5.weight\n",
      "features_to_image.6.weight\n",
      "features_to_image.8.weight\n",
      "features_to_image.9.weight\n",
      "features_to_image.3.weight\n",
      "torch.Size([64, 32, 4, 4])\n",
      "features_to_image.5.weight\n",
      "features_to_image.6.weight\n",
      "features_to_image.8.weight\n",
      "features_to_image.9.weight\n",
      "features_to_image.3.weight\n",
      "torch.Size([64, 32, 4, 4])\n",
      "features_to_image.5.weight\n",
      "features_to_image.6.weight\n",
      "features_to_image.8.weight\n",
      "features_to_image.9.weight\n",
      "features_to_image.3.weight\n",
      "torch.Size([64, 32, 4, 4])\n",
      "features_to_image.5.weight\n",
      "features_to_image.6.weight\n",
      "features_to_image.8.weight\n",
      "features_to_image.9.weight\n",
      "features_to_image.3.weight\n",
      "torch.Size([64, 32, 4, 4])\n",
      "features_to_image.5.weight\n",
      "features_to_image.6.weight\n",
      "features_to_image.8.weight\n",
      "features_to_image.9.weight\n",
      "features_to_image.3.weight\n",
      "torch.Size([64, 32, 4, 4])\n",
      "features_to_image.5.weight\n",
      "features_to_image.6.weight\n",
      "features_to_image.8.weight\n",
      "features_to_image.9.weight\n",
      "features_to_image.3.weight\n",
      "torch.Size([64, 32, 4, 4])\n",
      "features_to_image.5.weight\n",
      "features_to_image.6.weight\n",
      "features_to_image.8.weight\n",
      "features_to_image.9.weight\n",
      "features_to_image.3.weight\n",
      "torch.Size([64, 32, 4, 4])\n",
      "features_to_image.5.weight\n",
      "features_to_image.6.weight\n",
      "features_to_image.8.weight\n",
      "features_to_image.9.weight\n",
      "features_to_image.3.weight\n",
      "torch.Size([64, 32, 4, 4])\n",
      "features_to_image.5.weight\n",
      "features_to_image.6.weight\n",
      "features_to_image.8.weight\n",
      "features_to_image.9.weight\n",
      "features_to_image.3.weight\n",
      "torch.Size([64, 32, 4, 4])\n",
      "features_to_image.5.weight\n",
      "features_to_image.6.weight\n",
      "features_to_image.8.weight\n",
      "features_to_image.9.weight\n",
      "features_to_image.3.weight\n",
      "torch.Size([64, 32, 4, 4])\n",
      "features_to_image.5.weight\n",
      "features_to_image.6.weight\n",
      "features_to_image.8.weight\n",
      "features_to_image.9.weight\n",
      "features_to_image.3.weight\n",
      "torch.Size([64, 32, 4, 4])\n",
      "features_to_image.5.weight\n",
      "features_to_image.6.weight\n",
      "features_to_image.8.weight\n",
      "features_to_image.9.weight\n",
      "5\n",
      "bn2\n",
      "32\n",
      "features_to_image.3.weight\n",
      "features_to_image.5.weight\n",
      "torch.Size([32])\n",
      "features_to_image.6.weight\n",
      "features_to_image.8.weight\n",
      "features_to_image.9.weight\n"
     ]
    },
    {
     "name": "stderr",
     "output_type": "stream",
     "text": [
      "Clipping input data to the valid range for imshow with RGB data ([0..1] for floats or [0..255] for integers).\n"
     ]
    },
    {
     "name": "stdout",
     "output_type": "stream",
     "text": [
      "features_to_image.3.weight\n",
      "features_to_image.5.weight\n",
      "torch.Size([32])\n",
      "features_to_image.6.weight\n",
      "features_to_image.8.weight\n",
      "features_to_image.9.weight\n"
     ]
    },
    {
     "name": "stderr",
     "output_type": "stream",
     "text": [
      "Clipping input data to the valid range for imshow with RGB data ([0..1] for floats or [0..255] for integers).\n"
     ]
    },
    {
     "name": "stdout",
     "output_type": "stream",
     "text": [
      "features_to_image.3.weight\n",
      "features_to_image.5.weight\n",
      "torch.Size([32])\n",
      "features_to_image.6.weight\n",
      "features_to_image.8.weight\n",
      "features_to_image.9.weight\n"
     ]
    },
    {
     "name": "stderr",
     "output_type": "stream",
     "text": [
      "Clipping input data to the valid range for imshow with RGB data ([0..1] for floats or [0..255] for integers).\n"
     ]
    },
    {
     "name": "stdout",
     "output_type": "stream",
     "text": [
      "features_to_image.3.weight\n",
      "features_to_image.5.weight\n",
      "torch.Size([32])\n",
      "features_to_image.6.weight\n",
      "features_to_image.8.weight\n",
      "features_to_image.9.weight\n"
     ]
    },
    {
     "name": "stderr",
     "output_type": "stream",
     "text": [
      "Clipping input data to the valid range for imshow with RGB data ([0..1] for floats or [0..255] for integers).\n"
     ]
    },
    {
     "name": "stdout",
     "output_type": "stream",
     "text": [
      "features_to_image.3.weight\n",
      "features_to_image.5.weight\n",
      "torch.Size([32])\n",
      "features_to_image.6.weight\n",
      "features_to_image.8.weight\n",
      "features_to_image.9.weight\n"
     ]
    },
    {
     "name": "stderr",
     "output_type": "stream",
     "text": [
      "Clipping input data to the valid range for imshow with RGB data ([0..1] for floats or [0..255] for integers).\n"
     ]
    },
    {
     "name": "stdout",
     "output_type": "stream",
     "text": [
      "features_to_image.3.weight\n",
      "features_to_image.5.weight\n",
      "torch.Size([32])\n",
      "features_to_image.6.weight\n",
      "features_to_image.8.weight\n",
      "features_to_image.9.weight\n"
     ]
    },
    {
     "name": "stderr",
     "output_type": "stream",
     "text": [
      "Clipping input data to the valid range for imshow with RGB data ([0..1] for floats or [0..255] for integers).\n"
     ]
    },
    {
     "name": "stdout",
     "output_type": "stream",
     "text": [
      "features_to_image.3.weight\n",
      "features_to_image.5.weight\n",
      "torch.Size([32])\n",
      "features_to_image.6.weight\n",
      "features_to_image.8.weight\n",
      "features_to_image.9.weight\n"
     ]
    },
    {
     "name": "stderr",
     "output_type": "stream",
     "text": [
      "Clipping input data to the valid range for imshow with RGB data ([0..1] for floats or [0..255] for integers).\n"
     ]
    },
    {
     "name": "stdout",
     "output_type": "stream",
     "text": [
      "features_to_image.3.weight\n",
      "features_to_image.5.weight\n",
      "torch.Size([32])\n",
      "features_to_image.6.weight\n",
      "features_to_image.8.weight\n",
      "features_to_image.9.weight\n"
     ]
    },
    {
     "name": "stderr",
     "output_type": "stream",
     "text": [
      "Clipping input data to the valid range for imshow with RGB data ([0..1] for floats or [0..255] for integers).\n"
     ]
    },
    {
     "name": "stdout",
     "output_type": "stream",
     "text": [
      "features_to_image.3.weight\n",
      "features_to_image.5.weight\n",
      "torch.Size([32])\n",
      "features_to_image.6.weight\n",
      "features_to_image.8.weight\n",
      "features_to_image.9.weight\n"
     ]
    },
    {
     "name": "stderr",
     "output_type": "stream",
     "text": [
      "Clipping input data to the valid range for imshow with RGB data ([0..1] for floats or [0..255] for integers).\n"
     ]
    },
    {
     "name": "stdout",
     "output_type": "stream",
     "text": [
      "features_to_image.3.weight\n",
      "features_to_image.5.weight\n",
      "torch.Size([32])\n",
      "features_to_image.6.weight\n",
      "features_to_image.8.weight\n",
      "features_to_image.9.weight\n"
     ]
    },
    {
     "name": "stderr",
     "output_type": "stream",
     "text": [
      "Clipping input data to the valid range for imshow with RGB data ([0..1] for floats or [0..255] for integers).\n"
     ]
    },
    {
     "name": "stdout",
     "output_type": "stream",
     "text": [
      "features_to_image.3.weight\n",
      "features_to_image.5.weight\n",
      "torch.Size([32])\n",
      "features_to_image.6.weight\n",
      "features_to_image.8.weight\n",
      "features_to_image.9.weight\n",
      "features_to_image.3.weight\n",
      "features_to_image.5.weight\n",
      "torch.Size([32])\n",
      "features_to_image.6.weight\n",
      "features_to_image.8.weight\n",
      "features_to_image.9.weight\n",
      "features_to_image.3.weight\n",
      "features_to_image.5.weight\n",
      "torch.Size([32])\n",
      "features_to_image.6.weight\n",
      "features_to_image.8.weight\n",
      "features_to_image.9.weight\n",
      "features_to_image.3.weight\n",
      "features_to_image.5.weight\n",
      "torch.Size([32])\n",
      "features_to_image.6.weight\n",
      "features_to_image.8.weight\n",
      "features_to_image.9.weight\n",
      "features_to_image.3.weight\n",
      "features_to_image.5.weight\n",
      "torch.Size([32])\n",
      "features_to_image.6.weight\n",
      "features_to_image.8.weight\n",
      "features_to_image.9.weight\n",
      "features_to_image.3.weight\n",
      "features_to_image.5.weight\n",
      "torch.Size([32])\n",
      "features_to_image.6.weight\n",
      "features_to_image.8.weight\n",
      "features_to_image.9.weight\n",
      "features_to_image.3.weight\n",
      "features_to_image.5.weight\n",
      "torch.Size([32])\n",
      "features_to_image.6.weight\n",
      "features_to_image.8.weight\n",
      "features_to_image.9.weight\n",
      "features_to_image.3.weight\n",
      "features_to_image.5.weight\n",
      "torch.Size([32])\n",
      "features_to_image.6.weight\n",
      "features_to_image.8.weight\n",
      "features_to_image.9.weight\n",
      "features_to_image.3.weight\n",
      "features_to_image.5.weight\n",
      "torch.Size([32])\n",
      "features_to_image.6.weight\n",
      "features_to_image.8.weight\n",
      "features_to_image.9.weight\n",
      "features_to_image.3.weight\n",
      "features_to_image.5.weight\n",
      "torch.Size([32])\n",
      "features_to_image.6.weight\n",
      "features_to_image.8.weight\n",
      "features_to_image.9.weight\n",
      "features_to_image.3.weight\n",
      "features_to_image.5.weight\n",
      "torch.Size([32])\n",
      "features_to_image.6.weight\n",
      "features_to_image.8.weight\n",
      "features_to_image.9.weight\n"
     ]
    },
    {
     "name": "stderr",
     "output_type": "stream",
     "text": [
      "Clipping input data to the valid range for imshow with RGB data ([0..1] for floats or [0..255] for integers).\n"
     ]
    },
    {
     "name": "stdout",
     "output_type": "stream",
     "text": [
      "features_to_image.3.weight\n",
      "features_to_image.5.weight\n",
      "torch.Size([32])\n",
      "features_to_image.6.weight\n",
      "features_to_image.8.weight\n",
      "features_to_image.9.weight\n"
     ]
    },
    {
     "name": "stderr",
     "output_type": "stream",
     "text": [
      "Clipping input data to the valid range for imshow with RGB data ([0..1] for floats or [0..255] for integers).\n"
     ]
    },
    {
     "name": "stdout",
     "output_type": "stream",
     "text": [
      "features_to_image.3.weight\n",
      "features_to_image.5.weight\n",
      "torch.Size([32])\n",
      "features_to_image.6.weight\n",
      "features_to_image.8.weight\n",
      "features_to_image.9.weight\n"
     ]
    },
    {
     "name": "stderr",
     "output_type": "stream",
     "text": [
      "Clipping input data to the valid range for imshow with RGB data ([0..1] for floats or [0..255] for integers).\n"
     ]
    },
    {
     "name": "stdout",
     "output_type": "stream",
     "text": [
      "features_to_image.3.weight\n",
      "features_to_image.5.weight\n",
      "torch.Size([32])\n",
      "features_to_image.6.weight\n",
      "features_to_image.8.weight\n",
      "features_to_image.9.weight\n"
     ]
    },
    {
     "name": "stderr",
     "output_type": "stream",
     "text": [
      "Clipping input data to the valid range for imshow with RGB data ([0..1] for floats or [0..255] for integers).\n"
     ]
    },
    {
     "name": "stdout",
     "output_type": "stream",
     "text": [
      "features_to_image.3.weight\n",
      "features_to_image.5.weight\n",
      "torch.Size([32])\n",
      "features_to_image.6.weight\n",
      "features_to_image.8.weight\n",
      "features_to_image.9.weight\n"
     ]
    },
    {
     "name": "stderr",
     "output_type": "stream",
     "text": [
      "Clipping input data to the valid range for imshow with RGB data ([0..1] for floats or [0..255] for integers).\n"
     ]
    },
    {
     "name": "stdout",
     "output_type": "stream",
     "text": [
      "features_to_image.3.weight\n",
      "features_to_image.5.weight\n",
      "torch.Size([32])\n",
      "features_to_image.6.weight\n",
      "features_to_image.8.weight\n",
      "features_to_image.9.weight\n"
     ]
    },
    {
     "name": "stderr",
     "output_type": "stream",
     "text": [
      "Clipping input data to the valid range for imshow with RGB data ([0..1] for floats or [0..255] for integers).\n"
     ]
    },
    {
     "name": "stdout",
     "output_type": "stream",
     "text": [
      "features_to_image.3.weight\n",
      "features_to_image.5.weight\n",
      "torch.Size([32])\n",
      "features_to_image.6.weight\n",
      "features_to_image.8.weight\n",
      "features_to_image.9.weight\n"
     ]
    },
    {
     "name": "stderr",
     "output_type": "stream",
     "text": [
      "Clipping input data to the valid range for imshow with RGB data ([0..1] for floats or [0..255] for integers).\n"
     ]
    },
    {
     "name": "stdout",
     "output_type": "stream",
     "text": [
      "features_to_image.3.weight\n",
      "features_to_image.5.weight\n",
      "torch.Size([32])\n",
      "features_to_image.6.weight\n",
      "features_to_image.8.weight\n",
      "features_to_image.9.weight\n"
     ]
    },
    {
     "name": "stderr",
     "output_type": "stream",
     "text": [
      "Clipping input data to the valid range for imshow with RGB data ([0..1] for floats or [0..255] for integers).\n"
     ]
    },
    {
     "name": "stdout",
     "output_type": "stream",
     "text": [
      "features_to_image.3.weight\n",
      "features_to_image.5.weight\n",
      "torch.Size([32])\n",
      "features_to_image.6.weight\n",
      "features_to_image.8.weight\n",
      "features_to_image.9.weight\n"
     ]
    },
    {
     "name": "stderr",
     "output_type": "stream",
     "text": [
      "Clipping input data to the valid range for imshow with RGB data ([0..1] for floats or [0..255] for integers).\n"
     ]
    },
    {
     "name": "stdout",
     "output_type": "stream",
     "text": [
      "features_to_image.3.weight\n",
      "features_to_image.5.weight\n",
      "torch.Size([32])\n",
      "features_to_image.6.weight\n",
      "features_to_image.8.weight\n",
      "features_to_image.9.weight\n"
     ]
    },
    {
     "name": "stderr",
     "output_type": "stream",
     "text": [
      "Clipping input data to the valid range for imshow with RGB data ([0..1] for floats or [0..255] for integers).\n"
     ]
    },
    {
     "name": "stdout",
     "output_type": "stream",
     "text": [
      "features_to_image.3.weight\n",
      "features_to_image.5.weight\n",
      "torch.Size([32])\n",
      "features_to_image.6.weight\n",
      "features_to_image.8.weight\n",
      "features_to_image.9.weight\n"
     ]
    },
    {
     "name": "stderr",
     "output_type": "stream",
     "text": [
      "Clipping input data to the valid range for imshow with RGB data ([0..1] for floats or [0..255] for integers).\n"
     ]
    },
    {
     "name": "stdout",
     "output_type": "stream",
     "text": [
      "features_to_image.3.weight\n",
      "features_to_image.5.weight\n",
      "torch.Size([32])\n",
      "features_to_image.6.weight\n",
      "features_to_image.8.weight\n",
      "features_to_image.9.weight\n"
     ]
    },
    {
     "name": "stderr",
     "output_type": "stream",
     "text": [
      "Clipping input data to the valid range for imshow with RGB data ([0..1] for floats or [0..255] for integers).\n"
     ]
    },
    {
     "name": "stdout",
     "output_type": "stream",
     "text": [
      "features_to_image.3.weight\n",
      "features_to_image.5.weight\n",
      "torch.Size([32])\n",
      "features_to_image.6.weight\n",
      "features_to_image.8.weight\n",
      "features_to_image.9.weight\n"
     ]
    },
    {
     "name": "stderr",
     "output_type": "stream",
     "text": [
      "Clipping input data to the valid range for imshow with RGB data ([0..1] for floats or [0..255] for integers).\n"
     ]
    },
    {
     "name": "stdout",
     "output_type": "stream",
     "text": [
      "features_to_image.3.weight\n",
      "features_to_image.5.weight\n",
      "torch.Size([32])\n",
      "features_to_image.6.weight\n",
      "features_to_image.8.weight\n",
      "features_to_image.9.weight\n"
     ]
    },
    {
     "name": "stderr",
     "output_type": "stream",
     "text": [
      "Clipping input data to the valid range for imshow with RGB data ([0..1] for floats or [0..255] for integers).\n"
     ]
    },
    {
     "name": "stdout",
     "output_type": "stream",
     "text": [
      "features_to_image.3.weight\n",
      "features_to_image.5.weight\n",
      "torch.Size([32])\n",
      "features_to_image.6.weight\n",
      "features_to_image.8.weight\n",
      "features_to_image.9.weight\n"
     ]
    },
    {
     "name": "stderr",
     "output_type": "stream",
     "text": [
      "Clipping input data to the valid range for imshow with RGB data ([0..1] for floats or [0..255] for integers).\n"
     ]
    },
    {
     "name": "stdout",
     "output_type": "stream",
     "text": [
      "features_to_image.3.weight\n",
      "features_to_image.5.weight\n",
      "torch.Size([32])\n",
      "features_to_image.6.weight\n",
      "features_to_image.8.weight\n",
      "features_to_image.9.weight\n"
     ]
    },
    {
     "name": "stderr",
     "output_type": "stream",
     "text": [
      "Clipping input data to the valid range for imshow with RGB data ([0..1] for floats or [0..255] for integers).\n"
     ]
    },
    {
     "name": "stdout",
     "output_type": "stream",
     "text": [
      "features_to_image.3.weight\n",
      "features_to_image.5.weight\n",
      "torch.Size([32])\n",
      "features_to_image.6.weight\n",
      "features_to_image.8.weight\n",
      "features_to_image.9.weight\n"
     ]
    },
    {
     "name": "stderr",
     "output_type": "stream",
     "text": [
      "Clipping input data to the valid range for imshow with RGB data ([0..1] for floats or [0..255] for integers).\n"
     ]
    },
    {
     "name": "stdout",
     "output_type": "stream",
     "text": [
      "features_to_image.3.weight\n",
      "features_to_image.5.weight\n",
      "torch.Size([32])\n",
      "features_to_image.6.weight\n",
      "features_to_image.8.weight\n",
      "features_to_image.9.weight\n"
     ]
    },
    {
     "name": "stderr",
     "output_type": "stream",
     "text": [
      "Clipping input data to the valid range for imshow with RGB data ([0..1] for floats or [0..255] for integers).\n"
     ]
    },
    {
     "name": "stdout",
     "output_type": "stream",
     "text": [
      "features_to_image.3.weight\n",
      "features_to_image.5.weight\n",
      "torch.Size([32])\n",
      "features_to_image.6.weight\n",
      "features_to_image.8.weight\n",
      "features_to_image.9.weight\n"
     ]
    },
    {
     "name": "stderr",
     "output_type": "stream",
     "text": [
      "Clipping input data to the valid range for imshow with RGB data ([0..1] for floats or [0..255] for integers).\n"
     ]
    },
    {
     "name": "stdout",
     "output_type": "stream",
     "text": [
      "features_to_image.3.weight\n",
      "features_to_image.5.weight\n",
      "torch.Size([32])\n",
      "features_to_image.6.weight\n",
      "features_to_image.8.weight\n",
      "features_to_image.9.weight\n"
     ]
    },
    {
     "name": "stderr",
     "output_type": "stream",
     "text": [
      "Clipping input data to the valid range for imshow with RGB data ([0..1] for floats or [0..255] for integers).\n"
     ]
    },
    {
     "name": "stdout",
     "output_type": "stream",
     "text": [
      "features_to_image.3.weight\n",
      "features_to_image.5.weight\n",
      "torch.Size([32])\n",
      "features_to_image.6.weight\n",
      "features_to_image.8.weight\n",
      "features_to_image.9.weight\n",
      "features_to_image.3.weight\n",
      "features_to_image.5.weight\n",
      "torch.Size([32])\n",
      "features_to_image.6.weight\n",
      "features_to_image.8.weight\n",
      "features_to_image.9.weight\n",
      "features_to_image.3.weight\n",
      "features_to_image.5.weight\n",
      "torch.Size([32])\n",
      "features_to_image.6.weight\n",
      "features_to_image.8.weight\n",
      "features_to_image.9.weight\n",
      "features_to_image.3.weight\n",
      "features_to_image.5.weight\n",
      "torch.Size([32])\n",
      "features_to_image.6.weight\n",
      "features_to_image.8.weight\n",
      "features_to_image.9.weight\n",
      "features_to_image.3.weight\n",
      "features_to_image.5.weight\n",
      "torch.Size([32])\n",
      "features_to_image.6.weight\n",
      "features_to_image.8.weight\n",
      "features_to_image.9.weight\n",
      "features_to_image.3.weight\n",
      "features_to_image.5.weight\n",
      "torch.Size([32])\n",
      "features_to_image.6.weight\n",
      "features_to_image.8.weight\n",
      "features_to_image.9.weight\n",
      "features_to_image.3.weight\n",
      "features_to_image.5.weight\n",
      "torch.Size([32])\n",
      "features_to_image.6.weight\n",
      "features_to_image.8.weight\n",
      "features_to_image.9.weight\n",
      "features_to_image.3.weight\n",
      "features_to_image.5.weight\n",
      "torch.Size([32])\n",
      "features_to_image.6.weight\n",
      "features_to_image.8.weight\n",
      "features_to_image.9.weight\n",
      "features_to_image.3.weight\n",
      "features_to_image.5.weight\n",
      "torch.Size([32])\n",
      "features_to_image.6.weight\n",
      "features_to_image.8.weight\n",
      "features_to_image.9.weight\n",
      "features_to_image.3.weight\n",
      "features_to_image.5.weight\n",
      "torch.Size([32])\n",
      "features_to_image.6.weight\n",
      "features_to_image.8.weight\n",
      "features_to_image.9.weight\n",
      "features_to_image.3.weight\n",
      "features_to_image.5.weight\n",
      "torch.Size([32])\n",
      "features_to_image.6.weight\n",
      "features_to_image.8.weight\n",
      "features_to_image.9.weight\n",
      "features_to_image.3.weight\n",
      "features_to_image.5.weight\n",
      "torch.Size([32])\n",
      "features_to_image.6.weight\n",
      "features_to_image.8.weight\n",
      "features_to_image.9.weight\n",
      "features_to_image.3.weight\n",
      "features_to_image.5.weight\n",
      "torch.Size([32])\n",
      "features_to_image.6.weight\n",
      "features_to_image.8.weight\n",
      "features_to_image.9.weight\n",
      "features_to_image.3.weight\n",
      "features_to_image.5.weight\n",
      "torch.Size([32])\n",
      "features_to_image.6.weight\n",
      "features_to_image.8.weight\n",
      "features_to_image.9.weight\n",
      "features_to_image.3.weight\n",
      "features_to_image.5.weight\n",
      "torch.Size([32])\n",
      "features_to_image.6.weight\n",
      "features_to_image.8.weight\n",
      "features_to_image.9.weight\n",
      "features_to_image.3.weight\n",
      "features_to_image.5.weight\n",
      "torch.Size([32])\n",
      "features_to_image.6.weight\n",
      "features_to_image.8.weight\n",
      "features_to_image.9.weight\n",
      "features_to_image.3.weight\n",
      "features_to_image.5.weight\n",
      "torch.Size([32])\n",
      "features_to_image.6.weight\n",
      "features_to_image.8.weight\n",
      "features_to_image.9.weight\n",
      "features_to_image.3.weight\n",
      "features_to_image.5.weight\n",
      "torch.Size([32])\n",
      "features_to_image.6.weight\n",
      "features_to_image.8.weight\n",
      "features_to_image.9.weight\n",
      "features_to_image.3.weight\n",
      "features_to_image.5.weight\n",
      "torch.Size([32])\n",
      "features_to_image.6.weight\n",
      "features_to_image.8.weight\n",
      "features_to_image.9.weight\n",
      "features_to_image.3.weight\n",
      "features_to_image.5.weight\n",
      "torch.Size([32])\n",
      "features_to_image.6.weight\n",
      "features_to_image.8.weight\n",
      "features_to_image.9.weight\n",
      "features_to_image.3.weight\n",
      "features_to_image.5.weight\n",
      "torch.Size([32])\n",
      "features_to_image.6.weight\n",
      "features_to_image.8.weight\n",
      "features_to_image.9.weight\n"
     ]
    },
    {
     "name": "stderr",
     "output_type": "stream",
     "text": [
      "Clipping input data to the valid range for imshow with RGB data ([0..1] for floats or [0..255] for integers).\n"
     ]
    },
    {
     "name": "stdout",
     "output_type": "stream",
     "text": [
      "features_to_image.3.weight\n",
      "features_to_image.5.weight\n",
      "torch.Size([32])\n",
      "features_to_image.6.weight\n",
      "features_to_image.8.weight\n",
      "features_to_image.9.weight\n"
     ]
    },
    {
     "name": "stderr",
     "output_type": "stream",
     "text": [
      "Clipping input data to the valid range for imshow with RGB data ([0..1] for floats or [0..255] for integers).\n"
     ]
    },
    {
     "name": "stdout",
     "output_type": "stream",
     "text": [
      "features_to_image.3.weight\n",
      "features_to_image.5.weight\n",
      "torch.Size([32])\n",
      "features_to_image.6.weight\n",
      "features_to_image.8.weight\n",
      "features_to_image.9.weight\n"
     ]
    },
    {
     "name": "stderr",
     "output_type": "stream",
     "text": [
      "Clipping input data to the valid range for imshow with RGB data ([0..1] for floats or [0..255] for integers).\n"
     ]
    },
    {
     "name": "stdout",
     "output_type": "stream",
     "text": [
      "features_to_image.3.weight\n",
      "features_to_image.5.weight\n",
      "torch.Size([32])\n",
      "features_to_image.6.weight\n",
      "features_to_image.8.weight\n",
      "features_to_image.9.weight\n"
     ]
    },
    {
     "name": "stderr",
     "output_type": "stream",
     "text": [
      "Clipping input data to the valid range for imshow with RGB data ([0..1] for floats or [0..255] for integers).\n"
     ]
    },
    {
     "name": "stdout",
     "output_type": "stream",
     "text": [
      "features_to_image.3.weight\n",
      "features_to_image.5.weight\n",
      "torch.Size([32])\n",
      "features_to_image.6.weight\n",
      "features_to_image.8.weight\n",
      "features_to_image.9.weight\n"
     ]
    },
    {
     "name": "stderr",
     "output_type": "stream",
     "text": [
      "Clipping input data to the valid range for imshow with RGB data ([0..1] for floats or [0..255] for integers).\n"
     ]
    },
    {
     "name": "stdout",
     "output_type": "stream",
     "text": [
      "features_to_image.3.weight\n",
      "features_to_image.5.weight\n",
      "torch.Size([32])\n",
      "features_to_image.6.weight\n",
      "features_to_image.8.weight\n",
      "features_to_image.9.weight\n"
     ]
    },
    {
     "name": "stderr",
     "output_type": "stream",
     "text": [
      "Clipping input data to the valid range for imshow with RGB data ([0..1] for floats or [0..255] for integers).\n"
     ]
    },
    {
     "name": "stdout",
     "output_type": "stream",
     "text": [
      "features_to_image.3.weight\n",
      "features_to_image.5.weight\n",
      "torch.Size([32])\n",
      "features_to_image.6.weight\n",
      "features_to_image.8.weight\n",
      "features_to_image.9.weight\n"
     ]
    },
    {
     "name": "stderr",
     "output_type": "stream",
     "text": [
      "Clipping input data to the valid range for imshow with RGB data ([0..1] for floats or [0..255] for integers).\n"
     ]
    },
    {
     "name": "stdout",
     "output_type": "stream",
     "text": [
      "features_to_image.3.weight\n",
      "features_to_image.5.weight\n",
      "torch.Size([32])\n",
      "features_to_image.6.weight\n",
      "features_to_image.8.weight\n",
      "features_to_image.9.weight\n"
     ]
    },
    {
     "name": "stderr",
     "output_type": "stream",
     "text": [
      "Clipping input data to the valid range for imshow with RGB data ([0..1] for floats or [0..255] for integers).\n"
     ]
    },
    {
     "name": "stdout",
     "output_type": "stream",
     "text": [
      "features_to_image.3.weight\n",
      "features_to_image.5.weight\n",
      "torch.Size([32])\n",
      "features_to_image.6.weight\n",
      "features_to_image.8.weight\n",
      "features_to_image.9.weight\n"
     ]
    },
    {
     "name": "stderr",
     "output_type": "stream",
     "text": [
      "Clipping input data to the valid range for imshow with RGB data ([0..1] for floats or [0..255] for integers).\n"
     ]
    },
    {
     "name": "stdout",
     "output_type": "stream",
     "text": [
      "features_to_image.3.weight\n",
      "features_to_image.5.weight\n",
      "torch.Size([32])\n",
      "features_to_image.6.weight\n",
      "features_to_image.8.weight\n",
      "features_to_image.9.weight\n"
     ]
    },
    {
     "name": "stderr",
     "output_type": "stream",
     "text": [
      "Clipping input data to the valid range for imshow with RGB data ([0..1] for floats or [0..255] for integers).\n"
     ]
    },
    {
     "name": "stdout",
     "output_type": "stream",
     "text": [
      "features_to_image.3.weight\n",
      "features_to_image.5.weight\n",
      "torch.Size([32])\n",
      "features_to_image.6.weight\n",
      "features_to_image.8.weight\n",
      "features_to_image.9.weight\n"
     ]
    },
    {
     "name": "stderr",
     "output_type": "stream",
     "text": [
      "Clipping input data to the valid range for imshow with RGB data ([0..1] for floats or [0..255] for integers).\n"
     ]
    },
    {
     "name": "stdout",
     "output_type": "stream",
     "text": [
      "features_to_image.3.weight\n",
      "features_to_image.5.weight\n",
      "torch.Size([32])\n",
      "features_to_image.6.weight\n",
      "features_to_image.8.weight\n",
      "features_to_image.9.weight\n"
     ]
    },
    {
     "name": "stderr",
     "output_type": "stream",
     "text": [
      "Clipping input data to the valid range for imshow with RGB data ([0..1] for floats or [0..255] for integers).\n"
     ]
    },
    {
     "name": "stdout",
     "output_type": "stream",
     "text": [
      "features_to_image.3.weight\n",
      "features_to_image.5.weight\n",
      "torch.Size([32])\n",
      "features_to_image.6.weight\n",
      "features_to_image.8.weight\n",
      "features_to_image.9.weight\n"
     ]
    },
    {
     "name": "stderr",
     "output_type": "stream",
     "text": [
      "Clipping input data to the valid range for imshow with RGB data ([0..1] for floats or [0..255] for integers).\n"
     ]
    },
    {
     "name": "stdout",
     "output_type": "stream",
     "text": [
      "features_to_image.3.weight\n",
      "features_to_image.5.weight\n",
      "torch.Size([32])\n",
      "features_to_image.6.weight\n",
      "features_to_image.8.weight\n",
      "features_to_image.9.weight\n"
     ]
    },
    {
     "name": "stderr",
     "output_type": "stream",
     "text": [
      "Clipping input data to the valid range for imshow with RGB data ([0..1] for floats or [0..255] for integers).\n"
     ]
    },
    {
     "name": "stdout",
     "output_type": "stream",
     "text": [
      "features_to_image.3.weight\n",
      "features_to_image.5.weight\n",
      "torch.Size([32])\n",
      "features_to_image.6.weight\n",
      "features_to_image.8.weight\n",
      "features_to_image.9.weight\n"
     ]
    },
    {
     "name": "stderr",
     "output_type": "stream",
     "text": [
      "Clipping input data to the valid range for imshow with RGB data ([0..1] for floats or [0..255] for integers).\n"
     ]
    },
    {
     "name": "stdout",
     "output_type": "stream",
     "text": [
      "features_to_image.3.weight\n",
      "features_to_image.5.weight\n",
      "torch.Size([32])\n",
      "features_to_image.6.weight\n",
      "features_to_image.8.weight\n",
      "features_to_image.9.weight\n"
     ]
    },
    {
     "name": "stderr",
     "output_type": "stream",
     "text": [
      "Clipping input data to the valid range for imshow with RGB data ([0..1] for floats or [0..255] for integers).\n"
     ]
    },
    {
     "name": "stdout",
     "output_type": "stream",
     "text": [
      "features_to_image.3.weight\n",
      "features_to_image.5.weight\n",
      "torch.Size([32])\n",
      "features_to_image.6.weight\n",
      "features_to_image.8.weight\n",
      "features_to_image.9.weight\n"
     ]
    },
    {
     "name": "stderr",
     "output_type": "stream",
     "text": [
      "Clipping input data to the valid range for imshow with RGB data ([0..1] for floats or [0..255] for integers).\n"
     ]
    },
    {
     "name": "stdout",
     "output_type": "stream",
     "text": [
      "features_to_image.3.weight\n",
      "features_to_image.5.weight\n",
      "torch.Size([32])\n",
      "features_to_image.6.weight\n",
      "features_to_image.8.weight\n",
      "features_to_image.9.weight\n"
     ]
    },
    {
     "name": "stderr",
     "output_type": "stream",
     "text": [
      "Clipping input data to the valid range for imshow with RGB data ([0..1] for floats or [0..255] for integers).\n"
     ]
    },
    {
     "name": "stdout",
     "output_type": "stream",
     "text": [
      "features_to_image.3.weight\n",
      "features_to_image.5.weight\n",
      "torch.Size([32])\n",
      "features_to_image.6.weight\n",
      "features_to_image.8.weight\n",
      "features_to_image.9.weight\n"
     ]
    },
    {
     "name": "stderr",
     "output_type": "stream",
     "text": [
      "Clipping input data to the valid range for imshow with RGB data ([0..1] for floats or [0..255] for integers).\n"
     ]
    },
    {
     "name": "stdout",
     "output_type": "stream",
     "text": [
      "features_to_image.3.weight\n",
      "features_to_image.5.weight\n",
      "torch.Size([32])\n",
      "features_to_image.6.weight\n",
      "features_to_image.8.weight\n",
      "features_to_image.9.weight\n"
     ]
    },
    {
     "name": "stderr",
     "output_type": "stream",
     "text": [
      "Clipping input data to the valid range for imshow with RGB data ([0..1] for floats or [0..255] for integers).\n"
     ]
    },
    {
     "name": "stdout",
     "output_type": "stream",
     "text": [
      "features_to_image.3.weight\n",
      "features_to_image.5.weight\n",
      "torch.Size([32])\n",
      "features_to_image.6.weight\n",
      "features_to_image.8.weight\n",
      "features_to_image.9.weight\n"
     ]
    },
    {
     "name": "stderr",
     "output_type": "stream",
     "text": [
      "Clipping input data to the valid range for imshow with RGB data ([0..1] for floats or [0..255] for integers).\n"
     ]
    },
    {
     "name": "stdout",
     "output_type": "stream",
     "text": [
      "features_to_image.3.weight\n",
      "features_to_image.5.weight\n",
      "torch.Size([32])\n",
      "features_to_image.6.weight\n",
      "features_to_image.8.weight\n",
      "features_to_image.9.weight\n"
     ]
    },
    {
     "name": "stderr",
     "output_type": "stream",
     "text": [
      "Clipping input data to the valid range for imshow with RGB data ([0..1] for floats or [0..255] for integers).\n"
     ]
    },
    {
     "name": "stdout",
     "output_type": "stream",
     "text": [
      "features_to_image.3.weight\n",
      "features_to_image.5.weight\n",
      "torch.Size([32])\n",
      "features_to_image.6.weight\n",
      "features_to_image.8.weight\n",
      "features_to_image.9.weight\n"
     ]
    },
    {
     "name": "stderr",
     "output_type": "stream",
     "text": [
      "Clipping input data to the valid range for imshow with RGB data ([0..1] for floats or [0..255] for integers).\n"
     ]
    },
    {
     "name": "stdout",
     "output_type": "stream",
     "text": [
      "features_to_image.3.weight\n",
      "features_to_image.5.weight\n",
      "torch.Size([32])\n",
      "features_to_image.6.weight\n",
      "features_to_image.8.weight\n",
      "features_to_image.9.weight\n"
     ]
    },
    {
     "name": "stderr",
     "output_type": "stream",
     "text": [
      "Clipping input data to the valid range for imshow with RGB data ([0..1] for floats or [0..255] for integers).\n"
     ]
    },
    {
     "name": "stdout",
     "output_type": "stream",
     "text": [
      "features_to_image.3.weight\n",
      "features_to_image.5.weight\n",
      "torch.Size([32])\n",
      "features_to_image.6.weight\n",
      "features_to_image.8.weight\n",
      "features_to_image.9.weight\n"
     ]
    },
    {
     "name": "stderr",
     "output_type": "stream",
     "text": [
      "Clipping input data to the valid range for imshow with RGB data ([0..1] for floats or [0..255] for integers).\n"
     ]
    },
    {
     "name": "stdout",
     "output_type": "stream",
     "text": [
      "features_to_image.3.weight\n",
      "features_to_image.5.weight\n",
      "torch.Size([32])\n",
      "features_to_image.6.weight\n",
      "features_to_image.8.weight\n",
      "features_to_image.9.weight\n"
     ]
    },
    {
     "name": "stderr",
     "output_type": "stream",
     "text": [
      "Clipping input data to the valid range for imshow with RGB data ([0..1] for floats or [0..255] for integers).\n"
     ]
    },
    {
     "name": "stdout",
     "output_type": "stream",
     "text": [
      "features_to_image.3.weight\n",
      "features_to_image.5.weight\n",
      "torch.Size([32])\n",
      "features_to_image.6.weight\n",
      "features_to_image.8.weight\n",
      "features_to_image.9.weight\n"
     ]
    },
    {
     "name": "stderr",
     "output_type": "stream",
     "text": [
      "Clipping input data to the valid range for imshow with RGB data ([0..1] for floats or [0..255] for integers).\n"
     ]
    },
    {
     "name": "stdout",
     "output_type": "stream",
     "text": [
      "features_to_image.3.weight\n",
      "features_to_image.5.weight\n",
      "torch.Size([32])\n",
      "features_to_image.6.weight\n",
      "features_to_image.8.weight\n",
      "features_to_image.9.weight\n"
     ]
    },
    {
     "name": "stderr",
     "output_type": "stream",
     "text": [
      "Clipping input data to the valid range for imshow with RGB data ([0..1] for floats or [0..255] for integers).\n"
     ]
    },
    {
     "name": "stdout",
     "output_type": "stream",
     "text": [
      "features_to_image.3.weight\n",
      "features_to_image.5.weight\n",
      "torch.Size([32])\n",
      "features_to_image.6.weight\n",
      "features_to_image.8.weight\n",
      "features_to_image.9.weight\n"
     ]
    },
    {
     "name": "stderr",
     "output_type": "stream",
     "text": [
      "Clipping input data to the valid range for imshow with RGB data ([0..1] for floats or [0..255] for integers).\n"
     ]
    },
    {
     "name": "stdout",
     "output_type": "stream",
     "text": [
      "features_to_image.3.weight\n",
      "features_to_image.5.weight\n",
      "torch.Size([32])\n",
      "features_to_image.6.weight\n",
      "features_to_image.8.weight\n",
      "features_to_image.9.weight\n"
     ]
    },
    {
     "name": "stderr",
     "output_type": "stream",
     "text": [
      "Clipping input data to the valid range for imshow with RGB data ([0..1] for floats or [0..255] for integers).\n"
     ]
    },
    {
     "name": "stdout",
     "output_type": "stream",
     "text": [
      "features_to_image.3.weight\n",
      "features_to_image.5.weight\n",
      "torch.Size([32])\n",
      "features_to_image.6.weight\n",
      "features_to_image.8.weight\n",
      "features_to_image.9.weight\n"
     ]
    },
    {
     "name": "stderr",
     "output_type": "stream",
     "text": [
      "Clipping input data to the valid range for imshow with RGB data ([0..1] for floats or [0..255] for integers).\n"
     ]
    },
    {
     "name": "stdout",
     "output_type": "stream",
     "text": [
      "features_to_image.3.weight\n",
      "features_to_image.5.weight\n",
      "torch.Size([32])\n",
      "features_to_image.6.weight\n",
      "features_to_image.8.weight\n",
      "features_to_image.9.weight\n"
     ]
    },
    {
     "name": "stderr",
     "output_type": "stream",
     "text": [
      "Clipping input data to the valid range for imshow with RGB data ([0..1] for floats or [0..255] for integers).\n"
     ]
    },
    {
     "name": "stdout",
     "output_type": "stream",
     "text": [
      "features_to_image.3.weight\n",
      "features_to_image.5.weight\n",
      "torch.Size([32])\n",
      "features_to_image.6.weight\n",
      "features_to_image.8.weight\n",
      "features_to_image.9.weight\n"
     ]
    },
    {
     "name": "stderr",
     "output_type": "stream",
     "text": [
      "Clipping input data to the valid range for imshow with RGB data ([0..1] for floats or [0..255] for integers).\n"
     ]
    },
    {
     "name": "stdout",
     "output_type": "stream",
     "text": [
      "features_to_image.3.weight\n",
      "features_to_image.5.weight\n",
      "torch.Size([32])\n",
      "features_to_image.6.weight\n",
      "features_to_image.8.weight\n",
      "features_to_image.9.weight\n"
     ]
    },
    {
     "name": "stderr",
     "output_type": "stream",
     "text": [
      "Clipping input data to the valid range for imshow with RGB data ([0..1] for floats or [0..255] for integers).\n"
     ]
    },
    {
     "name": "stdout",
     "output_type": "stream",
     "text": [
      "features_to_image.3.weight\n",
      "features_to_image.5.weight\n",
      "torch.Size([32])\n",
      "features_to_image.6.weight\n",
      "features_to_image.8.weight\n",
      "features_to_image.9.weight\n"
     ]
    },
    {
     "name": "stderr",
     "output_type": "stream",
     "text": [
      "Clipping input data to the valid range for imshow with RGB data ([0..1] for floats or [0..255] for integers).\n"
     ]
    },
    {
     "name": "stdout",
     "output_type": "stream",
     "text": [
      "features_to_image.3.weight\n",
      "features_to_image.5.weight\n",
      "torch.Size([32])\n",
      "features_to_image.6.weight\n",
      "features_to_image.8.weight\n",
      "features_to_image.9.weight\n"
     ]
    },
    {
     "name": "stderr",
     "output_type": "stream",
     "text": [
      "Clipping input data to the valid range for imshow with RGB data ([0..1] for floats or [0..255] for integers).\n"
     ]
    },
    {
     "name": "stdout",
     "output_type": "stream",
     "text": [
      "features_to_image.3.weight\n",
      "features_to_image.5.weight\n",
      "torch.Size([32])\n",
      "features_to_image.6.weight\n",
      "features_to_image.8.weight\n",
      "features_to_image.9.weight\n"
     ]
    },
    {
     "name": "stderr",
     "output_type": "stream",
     "text": [
      "Clipping input data to the valid range for imshow with RGB data ([0..1] for floats or [0..255] for integers).\n"
     ]
    },
    {
     "name": "stdout",
     "output_type": "stream",
     "text": [
      "features_to_image.3.weight\n",
      "features_to_image.5.weight\n",
      "torch.Size([32])\n",
      "features_to_image.6.weight\n",
      "features_to_image.8.weight\n",
      "features_to_image.9.weight\n"
     ]
    },
    {
     "name": "stderr",
     "output_type": "stream",
     "text": [
      "Clipping input data to the valid range for imshow with RGB data ([0..1] for floats or [0..255] for integers).\n"
     ]
    },
    {
     "name": "stdout",
     "output_type": "stream",
     "text": [
      "features_to_image.3.weight\n",
      "features_to_image.5.weight\n",
      "torch.Size([32])\n",
      "features_to_image.6.weight\n",
      "features_to_image.8.weight\n",
      "features_to_image.9.weight\n"
     ]
    },
    {
     "name": "stderr",
     "output_type": "stream",
     "text": [
      "Clipping input data to the valid range for imshow with RGB data ([0..1] for floats or [0..255] for integers).\n"
     ]
    },
    {
     "name": "stdout",
     "output_type": "stream",
     "text": [
      "features_to_image.3.weight\n",
      "features_to_image.5.weight\n",
      "torch.Size([32])\n",
      "features_to_image.6.weight\n",
      "features_to_image.8.weight\n",
      "features_to_image.9.weight\n"
     ]
    },
    {
     "name": "stderr",
     "output_type": "stream",
     "text": [
      "Clipping input data to the valid range for imshow with RGB data ([0..1] for floats or [0..255] for integers).\n"
     ]
    },
    {
     "name": "stdout",
     "output_type": "stream",
     "text": [
      "features_to_image.3.weight\n",
      "features_to_image.5.weight\n",
      "torch.Size([32])\n",
      "features_to_image.6.weight\n",
      "features_to_image.8.weight\n",
      "features_to_image.9.weight\n"
     ]
    },
    {
     "name": "stderr",
     "output_type": "stream",
     "text": [
      "Clipping input data to the valid range for imshow with RGB data ([0..1] for floats or [0..255] for integers).\n"
     ]
    },
    {
     "name": "stdout",
     "output_type": "stream",
     "text": [
      "features_to_image.3.weight\n",
      "features_to_image.5.weight\n",
      "torch.Size([32])\n",
      "features_to_image.6.weight\n",
      "features_to_image.8.weight\n",
      "features_to_image.9.weight\n"
     ]
    },
    {
     "name": "stderr",
     "output_type": "stream",
     "text": [
      "Clipping input data to the valid range for imshow with RGB data ([0..1] for floats or [0..255] for integers).\n"
     ]
    },
    {
     "name": "stdout",
     "output_type": "stream",
     "text": [
      "features_to_image.3.weight\n",
      "features_to_image.5.weight\n",
      "torch.Size([32])\n",
      "features_to_image.6.weight\n",
      "features_to_image.8.weight\n",
      "features_to_image.9.weight\n"
     ]
    },
    {
     "name": "stderr",
     "output_type": "stream",
     "text": [
      "Clipping input data to the valid range for imshow with RGB data ([0..1] for floats or [0..255] for integers).\n"
     ]
    },
    {
     "name": "stdout",
     "output_type": "stream",
     "text": [
      "features_to_image.3.weight\n",
      "features_to_image.5.weight\n",
      "torch.Size([32])\n",
      "features_to_image.6.weight\n",
      "features_to_image.8.weight\n",
      "features_to_image.9.weight\n"
     ]
    },
    {
     "name": "stderr",
     "output_type": "stream",
     "text": [
      "Clipping input data to the valid range for imshow with RGB data ([0..1] for floats or [0..255] for integers).\n"
     ]
    },
    {
     "name": "stdout",
     "output_type": "stream",
     "text": [
      "features_to_image.3.weight\n",
      "features_to_image.5.weight\n",
      "torch.Size([32])\n",
      "features_to_image.6.weight\n",
      "features_to_image.8.weight\n",
      "features_to_image.9.weight\n"
     ]
    },
    {
     "name": "stderr",
     "output_type": "stream",
     "text": [
      "Clipping input data to the valid range for imshow with RGB data ([0..1] for floats or [0..255] for integers).\n"
     ]
    },
    {
     "name": "stdout",
     "output_type": "stream",
     "text": [
      "features_to_image.3.weight\n",
      "features_to_image.5.weight\n",
      "torch.Size([32])\n",
      "features_to_image.6.weight\n",
      "features_to_image.8.weight\n",
      "features_to_image.9.weight\n"
     ]
    },
    {
     "name": "stderr",
     "output_type": "stream",
     "text": [
      "Clipping input data to the valid range for imshow with RGB data ([0..1] for floats or [0..255] for integers).\n"
     ]
    },
    {
     "name": "stdout",
     "output_type": "stream",
     "text": [
      "features_to_image.3.weight\n",
      "features_to_image.5.weight\n",
      "torch.Size([32])\n",
      "features_to_image.6.weight\n",
      "features_to_image.8.weight\n",
      "features_to_image.9.weight\n"
     ]
    },
    {
     "name": "stderr",
     "output_type": "stream",
     "text": [
      "Clipping input data to the valid range for imshow with RGB data ([0..1] for floats or [0..255] for integers).\n"
     ]
    },
    {
     "name": "stdout",
     "output_type": "stream",
     "text": [
      "features_to_image.3.weight\n",
      "features_to_image.5.weight\n",
      "torch.Size([32])\n",
      "features_to_image.6.weight\n",
      "features_to_image.8.weight\n",
      "features_to_image.9.weight\n"
     ]
    },
    {
     "name": "stderr",
     "output_type": "stream",
     "text": [
      "Clipping input data to the valid range for imshow with RGB data ([0..1] for floats or [0..255] for integers).\n"
     ]
    },
    {
     "name": "stdout",
     "output_type": "stream",
     "text": [
      "features_to_image.3.weight\n",
      "features_to_image.5.weight\n",
      "torch.Size([32])\n",
      "features_to_image.6.weight\n",
      "features_to_image.8.weight\n",
      "features_to_image.9.weight\n"
     ]
    },
    {
     "name": "stderr",
     "output_type": "stream",
     "text": [
      "Clipping input data to the valid range for imshow with RGB data ([0..1] for floats or [0..255] for integers).\n"
     ]
    },
    {
     "name": "stdout",
     "output_type": "stream",
     "text": [
      "features_to_image.3.weight\n",
      "features_to_image.5.weight\n",
      "torch.Size([32])\n",
      "features_to_image.6.weight\n",
      "features_to_image.8.weight\n",
      "features_to_image.9.weight\n"
     ]
    },
    {
     "name": "stderr",
     "output_type": "stream",
     "text": [
      "Clipping input data to the valid range for imshow with RGB data ([0..1] for floats or [0..255] for integers).\n"
     ]
    },
    {
     "name": "stdout",
     "output_type": "stream",
     "text": [
      "features_to_image.3.weight\n",
      "features_to_image.5.weight\n",
      "torch.Size([32])\n",
      "features_to_image.6.weight\n",
      "features_to_image.8.weight\n",
      "features_to_image.9.weight\n"
     ]
    },
    {
     "name": "stderr",
     "output_type": "stream",
     "text": [
      "Clipping input data to the valid range for imshow with RGB data ([0..1] for floats or [0..255] for integers).\n"
     ]
    },
    {
     "name": "stdout",
     "output_type": "stream",
     "text": [
      "features_to_image.3.weight\n",
      "features_to_image.5.weight\n",
      "torch.Size([32])\n",
      "features_to_image.6.weight\n",
      "features_to_image.8.weight\n",
      "features_to_image.9.weight\n"
     ]
    },
    {
     "name": "stderr",
     "output_type": "stream",
     "text": [
      "Clipping input data to the valid range for imshow with RGB data ([0..1] for floats or [0..255] for integers).\n"
     ]
    },
    {
     "name": "stdout",
     "output_type": "stream",
     "text": [
      "features_to_image.3.weight\n",
      "features_to_image.5.weight\n",
      "torch.Size([32])\n",
      "features_to_image.6.weight\n",
      "features_to_image.8.weight\n",
      "features_to_image.9.weight\n"
     ]
    },
    {
     "name": "stderr",
     "output_type": "stream",
     "text": [
      "Clipping input data to the valid range for imshow with RGB data ([0..1] for floats or [0..255] for integers).\n"
     ]
    },
    {
     "name": "stdout",
     "output_type": "stream",
     "text": [
      "features_to_image.3.weight\n",
      "features_to_image.5.weight\n",
      "torch.Size([32])\n",
      "features_to_image.6.weight\n",
      "features_to_image.8.weight\n",
      "features_to_image.9.weight\n"
     ]
    },
    {
     "name": "stderr",
     "output_type": "stream",
     "text": [
      "Clipping input data to the valid range for imshow with RGB data ([0..1] for floats or [0..255] for integers).\n"
     ]
    },
    {
     "name": "stdout",
     "output_type": "stream",
     "text": [
      "features_to_image.3.weight\n",
      "features_to_image.5.weight\n",
      "torch.Size([32])\n",
      "features_to_image.6.weight\n",
      "features_to_image.8.weight\n",
      "features_to_image.9.weight\n"
     ]
    },
    {
     "name": "stderr",
     "output_type": "stream",
     "text": [
      "Clipping input data to the valid range for imshow with RGB data ([0..1] for floats or [0..255] for integers).\n"
     ]
    },
    {
     "name": "stdout",
     "output_type": "stream",
     "text": [
      "features_to_image.3.weight\n",
      "features_to_image.5.weight\n",
      "torch.Size([32])\n",
      "features_to_image.6.weight\n",
      "features_to_image.8.weight\n",
      "features_to_image.9.weight\n"
     ]
    },
    {
     "name": "stderr",
     "output_type": "stream",
     "text": [
      "Clipping input data to the valid range for imshow with RGB data ([0..1] for floats or [0..255] for integers).\n"
     ]
    },
    {
     "name": "stdout",
     "output_type": "stream",
     "text": [
      "features_to_image.3.weight\n",
      "features_to_image.5.weight\n",
      "torch.Size([32])\n",
      "features_to_image.6.weight\n",
      "features_to_image.8.weight\n",
      "features_to_image.9.weight\n"
     ]
    },
    {
     "name": "stderr",
     "output_type": "stream",
     "text": [
      "Clipping input data to the valid range for imshow with RGB data ([0..1] for floats or [0..255] for integers).\n"
     ]
    },
    {
     "name": "stdout",
     "output_type": "stream",
     "text": [
      "features_to_image.3.weight\n",
      "features_to_image.5.weight\n",
      "torch.Size([32])\n",
      "features_to_image.6.weight\n",
      "features_to_image.8.weight\n",
      "features_to_image.9.weight\n"
     ]
    },
    {
     "name": "stderr",
     "output_type": "stream",
     "text": [
      "Clipping input data to the valid range for imshow with RGB data ([0..1] for floats or [0..255] for integers).\n"
     ]
    },
    {
     "name": "stdout",
     "output_type": "stream",
     "text": [
      "features_to_image.3.weight\n",
      "features_to_image.5.weight\n",
      "torch.Size([32])\n",
      "features_to_image.6.weight\n",
      "features_to_image.8.weight\n",
      "features_to_image.9.weight\n"
     ]
    },
    {
     "name": "stderr",
     "output_type": "stream",
     "text": [
      "Clipping input data to the valid range for imshow with RGB data ([0..1] for floats or [0..255] for integers).\n"
     ]
    },
    {
     "name": "stdout",
     "output_type": "stream",
     "text": [
      "features_to_image.3.weight\n",
      "features_to_image.5.weight\n",
      "torch.Size([32])\n",
      "features_to_image.6.weight\n",
      "features_to_image.8.weight\n",
      "features_to_image.9.weight\n"
     ]
    },
    {
     "name": "stderr",
     "output_type": "stream",
     "text": [
      "Clipping input data to the valid range for imshow with RGB data ([0..1] for floats or [0..255] for integers).\n"
     ]
    },
    {
     "name": "stdout",
     "output_type": "stream",
     "text": [
      "features_to_image.3.weight\n",
      "features_to_image.5.weight\n",
      "torch.Size([32])\n",
      "features_to_image.6.weight\n",
      "features_to_image.8.weight\n",
      "features_to_image.9.weight\n"
     ]
    },
    {
     "name": "stderr",
     "output_type": "stream",
     "text": [
      "Clipping input data to the valid range for imshow with RGB data ([0..1] for floats or [0..255] for integers).\n"
     ]
    },
    {
     "name": "stdout",
     "output_type": "stream",
     "text": [
      "features_to_image.3.weight\n",
      "features_to_image.5.weight\n",
      "torch.Size([32])\n",
      "features_to_image.6.weight\n",
      "features_to_image.8.weight\n",
      "features_to_image.9.weight\n"
     ]
    },
    {
     "name": "stderr",
     "output_type": "stream",
     "text": [
      "Clipping input data to the valid range for imshow with RGB data ([0..1] for floats or [0..255] for integers).\n"
     ]
    },
    {
     "name": "stdout",
     "output_type": "stream",
     "text": [
      "features_to_image.3.weight\n",
      "features_to_image.5.weight\n",
      "torch.Size([32])\n",
      "features_to_image.6.weight\n",
      "features_to_image.8.weight\n",
      "features_to_image.9.weight\n"
     ]
    },
    {
     "name": "stderr",
     "output_type": "stream",
     "text": [
      "Clipping input data to the valid range for imshow with RGB data ([0..1] for floats or [0..255] for integers).\n"
     ]
    },
    {
     "name": "stdout",
     "output_type": "stream",
     "text": [
      "features_to_image.3.weight\n",
      "features_to_image.5.weight\n",
      "torch.Size([32])\n",
      "features_to_image.6.weight\n",
      "features_to_image.8.weight\n",
      "features_to_image.9.weight\n"
     ]
    },
    {
     "name": "stderr",
     "output_type": "stream",
     "text": [
      "Clipping input data to the valid range for imshow with RGB data ([0..1] for floats or [0..255] for integers).\n"
     ]
    },
    {
     "name": "stdout",
     "output_type": "stream",
     "text": [
      "features_to_image.3.weight\n",
      "features_to_image.5.weight\n",
      "torch.Size([32])\n",
      "features_to_image.6.weight\n",
      "features_to_image.8.weight\n",
      "features_to_image.9.weight\n"
     ]
    },
    {
     "name": "stderr",
     "output_type": "stream",
     "text": [
      "Clipping input data to the valid range for imshow with RGB data ([0..1] for floats or [0..255] for integers).\n"
     ]
    },
    {
     "name": "stdout",
     "output_type": "stream",
     "text": [
      "features_to_image.3.weight\n",
      "features_to_image.5.weight\n",
      "torch.Size([32])\n",
      "features_to_image.6.weight\n",
      "features_to_image.8.weight\n",
      "features_to_image.9.weight\n"
     ]
    },
    {
     "name": "stderr",
     "output_type": "stream",
     "text": [
      "Clipping input data to the valid range for imshow with RGB data ([0..1] for floats or [0..255] for integers).\n"
     ]
    },
    {
     "name": "stdout",
     "output_type": "stream",
     "text": [
      "features_to_image.3.weight\n",
      "features_to_image.5.weight\n",
      "torch.Size([32])\n",
      "features_to_image.6.weight\n",
      "features_to_image.8.weight\n",
      "features_to_image.9.weight\n"
     ]
    },
    {
     "name": "stderr",
     "output_type": "stream",
     "text": [
      "Clipping input data to the valid range for imshow with RGB data ([0..1] for floats or [0..255] for integers).\n"
     ]
    },
    {
     "name": "stdout",
     "output_type": "stream",
     "text": [
      "features_to_image.3.weight\n",
      "features_to_image.5.weight\n",
      "torch.Size([32])\n",
      "features_to_image.6.weight\n",
      "features_to_image.8.weight\n",
      "features_to_image.9.weight\n"
     ]
    },
    {
     "name": "stderr",
     "output_type": "stream",
     "text": [
      "Clipping input data to the valid range for imshow with RGB data ([0..1] for floats or [0..255] for integers).\n"
     ]
    },
    {
     "name": "stdout",
     "output_type": "stream",
     "text": [
      "features_to_image.3.weight\n",
      "features_to_image.5.weight\n",
      "torch.Size([32])\n",
      "features_to_image.6.weight\n",
      "features_to_image.8.weight\n",
      "features_to_image.9.weight\n"
     ]
    },
    {
     "name": "stderr",
     "output_type": "stream",
     "text": [
      "Clipping input data to the valid range for imshow with RGB data ([0..1] for floats or [0..255] for integers).\n"
     ]
    },
    {
     "name": "stdout",
     "output_type": "stream",
     "text": [
      "features_to_image.3.weight\n",
      "features_to_image.5.weight\n",
      "torch.Size([32])\n",
      "features_to_image.6.weight\n",
      "features_to_image.8.weight\n",
      "features_to_image.9.weight\n"
     ]
    },
    {
     "name": "stderr",
     "output_type": "stream",
     "text": [
      "Clipping input data to the valid range for imshow with RGB data ([0..1] for floats or [0..255] for integers).\n"
     ]
    },
    {
     "name": "stdout",
     "output_type": "stream",
     "text": [
      "features_to_image.3.weight\n",
      "features_to_image.5.weight\n",
      "torch.Size([32])\n",
      "features_to_image.6.weight\n",
      "features_to_image.8.weight\n",
      "features_to_image.9.weight\n"
     ]
    },
    {
     "name": "stderr",
     "output_type": "stream",
     "text": [
      "Clipping input data to the valid range for imshow with RGB data ([0..1] for floats or [0..255] for integers).\n"
     ]
    },
    {
     "name": "stdout",
     "output_type": "stream",
     "text": [
      "features_to_image.3.weight\n",
      "features_to_image.5.weight\n",
      "torch.Size([32])\n",
      "features_to_image.6.weight\n",
      "features_to_image.8.weight\n",
      "features_to_image.9.weight\n"
     ]
    },
    {
     "name": "stderr",
     "output_type": "stream",
     "text": [
      "Clipping input data to the valid range for imshow with RGB data ([0..1] for floats or [0..255] for integers).\n"
     ]
    },
    {
     "name": "stdout",
     "output_type": "stream",
     "text": [
      "features_to_image.3.weight\n",
      "features_to_image.5.weight\n",
      "torch.Size([32])\n",
      "features_to_image.6.weight\n",
      "features_to_image.8.weight\n",
      "features_to_image.9.weight\n"
     ]
    },
    {
     "name": "stderr",
     "output_type": "stream",
     "text": [
      "Clipping input data to the valid range for imshow with RGB data ([0..1] for floats or [0..255] for integers).\n"
     ]
    },
    {
     "name": "stdout",
     "output_type": "stream",
     "text": [
      "features_to_image.3.weight\n",
      "features_to_image.5.weight\n",
      "torch.Size([32])\n",
      "features_to_image.6.weight\n",
      "features_to_image.8.weight\n",
      "features_to_image.9.weight\n"
     ]
    },
    {
     "name": "stderr",
     "output_type": "stream",
     "text": [
      "Clipping input data to the valid range for imshow with RGB data ([0..1] for floats or [0..255] for integers).\n"
     ]
    },
    {
     "name": "stdout",
     "output_type": "stream",
     "text": [
      "features_to_image.3.weight\n",
      "features_to_image.5.weight\n",
      "torch.Size([32])\n",
      "features_to_image.6.weight\n",
      "features_to_image.8.weight\n",
      "features_to_image.9.weight\n"
     ]
    },
    {
     "name": "stderr",
     "output_type": "stream",
     "text": [
      "Clipping input data to the valid range for imshow with RGB data ([0..1] for floats or [0..255] for integers).\n"
     ]
    },
    {
     "name": "stdout",
     "output_type": "stream",
     "text": [
      "features_to_image.3.weight\n",
      "features_to_image.5.weight\n",
      "torch.Size([32])\n",
      "features_to_image.6.weight\n",
      "features_to_image.8.weight\n",
      "features_to_image.9.weight\n"
     ]
    },
    {
     "name": "stderr",
     "output_type": "stream",
     "text": [
      "Clipping input data to the valid range for imshow with RGB data ([0..1] for floats or [0..255] for integers).\n"
     ]
    },
    {
     "name": "stdout",
     "output_type": "stream",
     "text": [
      "features_to_image.3.weight\n",
      "features_to_image.5.weight\n",
      "torch.Size([32])\n",
      "features_to_image.6.weight\n",
      "features_to_image.8.weight\n",
      "features_to_image.9.weight\n"
     ]
    },
    {
     "name": "stderr",
     "output_type": "stream",
     "text": [
      "Clipping input data to the valid range for imshow with RGB data ([0..1] for floats or [0..255] for integers).\n"
     ]
    },
    {
     "name": "stdout",
     "output_type": "stream",
     "text": [
      "features_to_image.3.weight\n",
      "features_to_image.5.weight\n",
      "torch.Size([32])\n",
      "features_to_image.6.weight\n",
      "features_to_image.8.weight\n",
      "features_to_image.9.weight\n"
     ]
    },
    {
     "name": "stderr",
     "output_type": "stream",
     "text": [
      "Clipping input data to the valid range for imshow with RGB data ([0..1] for floats or [0..255] for integers).\n"
     ]
    },
    {
     "name": "stdout",
     "output_type": "stream",
     "text": [
      "features_to_image.3.weight\n",
      "features_to_image.5.weight\n",
      "torch.Size([32])\n",
      "features_to_image.6.weight\n",
      "features_to_image.8.weight\n",
      "features_to_image.9.weight\n"
     ]
    },
    {
     "name": "stderr",
     "output_type": "stream",
     "text": [
      "Clipping input data to the valid range for imshow with RGB data ([0..1] for floats or [0..255] for integers).\n"
     ]
    },
    {
     "name": "stdout",
     "output_type": "stream",
     "text": [
      "features_to_image.3.weight\n",
      "features_to_image.5.weight\n",
      "torch.Size([32])\n",
      "features_to_image.6.weight\n",
      "features_to_image.8.weight\n",
      "features_to_image.9.weight\n"
     ]
    },
    {
     "name": "stderr",
     "output_type": "stream",
     "text": [
      "Clipping input data to the valid range for imshow with RGB data ([0..1] for floats or [0..255] for integers).\n"
     ]
    },
    {
     "name": "stdout",
     "output_type": "stream",
     "text": [
      "features_to_image.3.weight\n",
      "features_to_image.5.weight\n",
      "torch.Size([32])\n",
      "features_to_image.6.weight\n",
      "features_to_image.8.weight\n",
      "features_to_image.9.weight\n"
     ]
    },
    {
     "name": "stderr",
     "output_type": "stream",
     "text": [
      "Clipping input data to the valid range for imshow with RGB data ([0..1] for floats or [0..255] for integers).\n"
     ]
    },
    {
     "name": "stdout",
     "output_type": "stream",
     "text": [
      "features_to_image.3.weight\n",
      "features_to_image.5.weight\n",
      "torch.Size([32])\n",
      "features_to_image.6.weight\n",
      "features_to_image.8.weight\n",
      "features_to_image.9.weight\n"
     ]
    },
    {
     "name": "stderr",
     "output_type": "stream",
     "text": [
      "Clipping input data to the valid range for imshow with RGB data ([0..1] for floats or [0..255] for integers).\n"
     ]
    },
    {
     "name": "stdout",
     "output_type": "stream",
     "text": [
      "features_to_image.3.weight\n",
      "features_to_image.5.weight\n",
      "torch.Size([32])\n",
      "features_to_image.6.weight\n",
      "features_to_image.8.weight\n",
      "features_to_image.9.weight\n"
     ]
    },
    {
     "name": "stderr",
     "output_type": "stream",
     "text": [
      "Clipping input data to the valid range for imshow with RGB data ([0..1] for floats or [0..255] for integers).\n"
     ]
    },
    {
     "name": "stdout",
     "output_type": "stream",
     "text": [
      "features_to_image.3.weight\n",
      "features_to_image.5.weight\n",
      "torch.Size([32])\n",
      "features_to_image.6.weight\n",
      "features_to_image.8.weight\n",
      "features_to_image.9.weight\n"
     ]
    },
    {
     "name": "stderr",
     "output_type": "stream",
     "text": [
      "Clipping input data to the valid range for imshow with RGB data ([0..1] for floats or [0..255] for integers).\n"
     ]
    },
    {
     "name": "stdout",
     "output_type": "stream",
     "text": [
      "features_to_image.3.weight\n",
      "features_to_image.5.weight\n",
      "torch.Size([32])\n",
      "features_to_image.6.weight\n",
      "features_to_image.8.weight\n",
      "features_to_image.9.weight\n"
     ]
    },
    {
     "name": "stderr",
     "output_type": "stream",
     "text": [
      "Clipping input data to the valid range for imshow with RGB data ([0..1] for floats or [0..255] for integers).\n"
     ]
    },
    {
     "name": "stdout",
     "output_type": "stream",
     "text": [
      "features_to_image.3.weight\n",
      "features_to_image.5.weight\n",
      "torch.Size([32])\n",
      "features_to_image.6.weight\n",
      "features_to_image.8.weight\n",
      "features_to_image.9.weight\n"
     ]
    },
    {
     "name": "stderr",
     "output_type": "stream",
     "text": [
      "Clipping input data to the valid range for imshow with RGB data ([0..1] for floats or [0..255] for integers).\n"
     ]
    },
    {
     "name": "stdout",
     "output_type": "stream",
     "text": [
      "features_to_image.3.weight\n",
      "features_to_image.5.weight\n",
      "torch.Size([32])\n",
      "features_to_image.6.weight\n",
      "features_to_image.8.weight\n",
      "features_to_image.9.weight\n"
     ]
    },
    {
     "name": "stderr",
     "output_type": "stream",
     "text": [
      "Clipping input data to the valid range for imshow with RGB data ([0..1] for floats or [0..255] for integers).\n"
     ]
    },
    {
     "name": "stdout",
     "output_type": "stream",
     "text": [
      "features_to_image.3.weight\n",
      "features_to_image.5.weight\n",
      "torch.Size([32])\n",
      "features_to_image.6.weight\n",
      "features_to_image.8.weight\n",
      "features_to_image.9.weight\n"
     ]
    },
    {
     "name": "stderr",
     "output_type": "stream",
     "text": [
      "Clipping input data to the valid range for imshow with RGB data ([0..1] for floats or [0..255] for integers).\n"
     ]
    },
    {
     "name": "stdout",
     "output_type": "stream",
     "text": [
      "features_to_image.3.weight\n",
      "features_to_image.5.weight\n",
      "torch.Size([32])\n",
      "features_to_image.6.weight\n",
      "features_to_image.8.weight\n",
      "features_to_image.9.weight\n"
     ]
    },
    {
     "name": "stderr",
     "output_type": "stream",
     "text": [
      "Clipping input data to the valid range for imshow with RGB data ([0..1] for floats or [0..255] for integers).\n"
     ]
    },
    {
     "name": "stdout",
     "output_type": "stream",
     "text": [
      "features_to_image.3.weight\n",
      "features_to_image.5.weight\n",
      "torch.Size([32])\n",
      "features_to_image.6.weight\n",
      "features_to_image.8.weight\n",
      "features_to_image.9.weight\n"
     ]
    },
    {
     "name": "stderr",
     "output_type": "stream",
     "text": [
      "Clipping input data to the valid range for imshow with RGB data ([0..1] for floats or [0..255] for integers).\n"
     ]
    },
    {
     "name": "stdout",
     "output_type": "stream",
     "text": [
      "features_to_image.3.weight\n",
      "features_to_image.5.weight\n",
      "torch.Size([32])\n",
      "features_to_image.6.weight\n",
      "features_to_image.8.weight\n",
      "features_to_image.9.weight\n"
     ]
    },
    {
     "name": "stderr",
     "output_type": "stream",
     "text": [
      "Clipping input data to the valid range for imshow with RGB data ([0..1] for floats or [0..255] for integers).\n"
     ]
    },
    {
     "name": "stdout",
     "output_type": "stream",
     "text": [
      "features_to_image.3.weight\n",
      "features_to_image.5.weight\n",
      "torch.Size([32])\n",
      "features_to_image.6.weight\n",
      "features_to_image.8.weight\n",
      "features_to_image.9.weight\n"
     ]
    },
    {
     "name": "stderr",
     "output_type": "stream",
     "text": [
      "Clipping input data to the valid range for imshow with RGB data ([0..1] for floats or [0..255] for integers).\n"
     ]
    },
    {
     "name": "stdout",
     "output_type": "stream",
     "text": [
      "features_to_image.3.weight\n",
      "features_to_image.5.weight\n",
      "torch.Size([32])\n",
      "features_to_image.6.weight\n",
      "features_to_image.8.weight\n",
      "features_to_image.9.weight\n"
     ]
    },
    {
     "name": "stderr",
     "output_type": "stream",
     "text": [
      "Clipping input data to the valid range for imshow with RGB data ([0..1] for floats or [0..255] for integers).\n"
     ]
    },
    {
     "name": "stdout",
     "output_type": "stream",
     "text": [
      "features_to_image.3.weight\n",
      "features_to_image.5.weight\n",
      "torch.Size([32])\n",
      "features_to_image.6.weight\n",
      "features_to_image.8.weight\n",
      "features_to_image.9.weight\n"
     ]
    },
    {
     "name": "stderr",
     "output_type": "stream",
     "text": [
      "Clipping input data to the valid range for imshow with RGB data ([0..1] for floats or [0..255] for integers).\n"
     ]
    },
    {
     "name": "stdout",
     "output_type": "stream",
     "text": [
      "features_to_image.3.weight\n",
      "features_to_image.5.weight\n",
      "torch.Size([32])\n",
      "features_to_image.6.weight\n",
      "features_to_image.8.weight\n",
      "features_to_image.9.weight\n"
     ]
    },
    {
     "name": "stderr",
     "output_type": "stream",
     "text": [
      "Clipping input data to the valid range for imshow with RGB data ([0..1] for floats or [0..255] for integers).\n"
     ]
    },
    {
     "name": "stdout",
     "output_type": "stream",
     "text": [
      "features_to_image.3.weight\n",
      "features_to_image.5.weight\n",
      "torch.Size([32])\n",
      "features_to_image.6.weight\n",
      "features_to_image.8.weight\n",
      "features_to_image.9.weight\n"
     ]
    },
    {
     "name": "stderr",
     "output_type": "stream",
     "text": [
      "Clipping input data to the valid range for imshow with RGB data ([0..1] for floats or [0..255] for integers).\n"
     ]
    },
    {
     "name": "stdout",
     "output_type": "stream",
     "text": [
      "features_to_image.3.weight\n",
      "features_to_image.5.weight\n",
      "torch.Size([32])\n",
      "features_to_image.6.weight\n",
      "features_to_image.8.weight\n",
      "features_to_image.9.weight\n"
     ]
    },
    {
     "name": "stderr",
     "output_type": "stream",
     "text": [
      "Clipping input data to the valid range for imshow with RGB data ([0..1] for floats or [0..255] for integers).\n"
     ]
    },
    {
     "name": "stdout",
     "output_type": "stream",
     "text": [
      "features_to_image.3.weight\n",
      "features_to_image.5.weight\n",
      "torch.Size([32])\n",
      "features_to_image.6.weight\n",
      "features_to_image.8.weight\n",
      "features_to_image.9.weight\n"
     ]
    },
    {
     "name": "stderr",
     "output_type": "stream",
     "text": [
      "Clipping input data to the valid range for imshow with RGB data ([0..1] for floats or [0..255] for integers).\n"
     ]
    },
    {
     "name": "stdout",
     "output_type": "stream",
     "text": [
      "features_to_image.3.weight\n",
      "features_to_image.5.weight\n",
      "torch.Size([32])\n",
      "features_to_image.6.weight\n",
      "features_to_image.8.weight\n",
      "features_to_image.9.weight\n"
     ]
    },
    {
     "name": "stderr",
     "output_type": "stream",
     "text": [
      "Clipping input data to the valid range for imshow with RGB data ([0..1] for floats or [0..255] for integers).\n"
     ]
    },
    {
     "name": "stdout",
     "output_type": "stream",
     "text": [
      "features_to_image.3.weight\n",
      "features_to_image.5.weight\n",
      "torch.Size([32])\n",
      "features_to_image.6.weight\n",
      "features_to_image.8.weight\n",
      "features_to_image.9.weight\n"
     ]
    },
    {
     "name": "stderr",
     "output_type": "stream",
     "text": [
      "Clipping input data to the valid range for imshow with RGB data ([0..1] for floats or [0..255] for integers).\n"
     ]
    },
    {
     "name": "stdout",
     "output_type": "stream",
     "text": [
      "features_to_image.3.weight\n",
      "features_to_image.5.weight\n",
      "torch.Size([32])\n",
      "features_to_image.6.weight\n",
      "features_to_image.8.weight\n",
      "features_to_image.9.weight\n",
      "features_to_image.3.weight\n",
      "features_to_image.5.weight\n",
      "torch.Size([32])\n",
      "features_to_image.6.weight\n",
      "features_to_image.8.weight\n",
      "features_to_image.9.weight\n",
      "features_to_image.3.weight\n",
      "features_to_image.5.weight\n",
      "torch.Size([32])\n",
      "features_to_image.6.weight\n",
      "features_to_image.8.weight\n",
      "features_to_image.9.weight\n",
      "features_to_image.3.weight\n",
      "features_to_image.5.weight\n",
      "torch.Size([32])\n",
      "features_to_image.6.weight\n",
      "features_to_image.8.weight\n",
      "features_to_image.9.weight\n",
      "features_to_image.3.weight\n",
      "features_to_image.5.weight\n",
      "torch.Size([32])\n",
      "features_to_image.6.weight\n",
      "features_to_image.8.weight\n",
      "features_to_image.9.weight\n",
      "features_to_image.3.weight\n",
      "features_to_image.5.weight\n",
      "torch.Size([32])\n",
      "features_to_image.6.weight\n",
      "features_to_image.8.weight\n",
      "features_to_image.9.weight\n",
      "features_to_image.3.weight\n",
      "features_to_image.5.weight\n",
      "torch.Size([32])\n",
      "features_to_image.6.weight\n",
      "features_to_image.8.weight\n",
      "features_to_image.9.weight\n",
      "features_to_image.3.weight\n",
      "features_to_image.5.weight\n",
      "torch.Size([32])\n",
      "features_to_image.6.weight\n",
      "features_to_image.8.weight\n",
      "features_to_image.9.weight\n",
      "features_to_image.3.weight\n",
      "features_to_image.5.weight\n",
      "torch.Size([32])\n",
      "features_to_image.6.weight\n",
      "features_to_image.8.weight\n",
      "features_to_image.9.weight\n",
      "features_to_image.3.weight\n",
      "features_to_image.5.weight\n",
      "torch.Size([32])\n",
      "features_to_image.6.weight\n",
      "features_to_image.8.weight\n",
      "features_to_image.9.weight\n",
      "features_to_image.3.weight\n",
      "features_to_image.5.weight\n",
      "torch.Size([32])\n",
      "features_to_image.6.weight\n",
      "features_to_image.8.weight\n",
      "features_to_image.9.weight\n"
     ]
    },
    {
     "name": "stderr",
     "output_type": "stream",
     "text": [
      "Clipping input data to the valid range for imshow with RGB data ([0..1] for floats or [0..255] for integers).\n"
     ]
    },
    {
     "name": "stdout",
     "output_type": "stream",
     "text": [
      "features_to_image.3.weight\n",
      "features_to_image.5.weight\n",
      "torch.Size([32])\n",
      "features_to_image.6.weight\n",
      "features_to_image.8.weight\n",
      "features_to_image.9.weight\n"
     ]
    },
    {
     "name": "stderr",
     "output_type": "stream",
     "text": [
      "Clipping input data to the valid range for imshow with RGB data ([0..1] for floats or [0..255] for integers).\n"
     ]
    },
    {
     "name": "stdout",
     "output_type": "stream",
     "text": [
      "features_to_image.3.weight\n",
      "features_to_image.5.weight\n",
      "torch.Size([32])\n",
      "features_to_image.6.weight\n",
      "features_to_image.8.weight\n",
      "features_to_image.9.weight\n"
     ]
    },
    {
     "name": "stderr",
     "output_type": "stream",
     "text": [
      "Clipping input data to the valid range for imshow with RGB data ([0..1] for floats or [0..255] for integers).\n"
     ]
    },
    {
     "name": "stdout",
     "output_type": "stream",
     "text": [
      "features_to_image.3.weight\n",
      "features_to_image.5.weight\n",
      "torch.Size([32])\n",
      "features_to_image.6.weight\n",
      "features_to_image.8.weight\n",
      "features_to_image.9.weight\n"
     ]
    },
    {
     "name": "stderr",
     "output_type": "stream",
     "text": [
      "Clipping input data to the valid range for imshow with RGB data ([0..1] for floats or [0..255] for integers).\n"
     ]
    },
    {
     "name": "stdout",
     "output_type": "stream",
     "text": [
      "features_to_image.3.weight\n",
      "features_to_image.5.weight\n",
      "torch.Size([32])\n",
      "features_to_image.6.weight\n",
      "features_to_image.8.weight\n",
      "features_to_image.9.weight\n"
     ]
    },
    {
     "name": "stderr",
     "output_type": "stream",
     "text": [
      "Clipping input data to the valid range for imshow with RGB data ([0..1] for floats or [0..255] for integers).\n"
     ]
    },
    {
     "name": "stdout",
     "output_type": "stream",
     "text": [
      "features_to_image.3.weight\n",
      "features_to_image.5.weight\n",
      "torch.Size([32])\n",
      "features_to_image.6.weight\n",
      "features_to_image.8.weight\n",
      "features_to_image.9.weight\n"
     ]
    },
    {
     "name": "stderr",
     "output_type": "stream",
     "text": [
      "Clipping input data to the valid range for imshow with RGB data ([0..1] for floats or [0..255] for integers).\n"
     ]
    },
    {
     "name": "stdout",
     "output_type": "stream",
     "text": [
      "features_to_image.3.weight\n",
      "features_to_image.5.weight\n",
      "torch.Size([32])\n",
      "features_to_image.6.weight\n",
      "features_to_image.8.weight\n",
      "features_to_image.9.weight\n"
     ]
    },
    {
     "name": "stderr",
     "output_type": "stream",
     "text": [
      "Clipping input data to the valid range for imshow with RGB data ([0..1] for floats or [0..255] for integers).\n"
     ]
    },
    {
     "name": "stdout",
     "output_type": "stream",
     "text": [
      "features_to_image.3.weight\n",
      "features_to_image.5.weight\n",
      "torch.Size([32])\n",
      "features_to_image.6.weight\n",
      "features_to_image.8.weight\n",
      "features_to_image.9.weight\n"
     ]
    },
    {
     "name": "stderr",
     "output_type": "stream",
     "text": [
      "Clipping input data to the valid range for imshow with RGB data ([0..1] for floats or [0..255] for integers).\n"
     ]
    },
    {
     "name": "stdout",
     "output_type": "stream",
     "text": [
      "features_to_image.3.weight\n",
      "features_to_image.5.weight\n",
      "torch.Size([32])\n",
      "features_to_image.6.weight\n",
      "features_to_image.8.weight\n",
      "features_to_image.9.weight\n"
     ]
    },
    {
     "name": "stderr",
     "output_type": "stream",
     "text": [
      "Clipping input data to the valid range for imshow with RGB data ([0..1] for floats or [0..255] for integers).\n"
     ]
    },
    {
     "name": "stdout",
     "output_type": "stream",
     "text": [
      "features_to_image.3.weight\n",
      "features_to_image.5.weight\n",
      "torch.Size([32])\n",
      "features_to_image.6.weight\n",
      "features_to_image.8.weight\n",
      "features_to_image.9.weight\n"
     ]
    },
    {
     "name": "stderr",
     "output_type": "stream",
     "text": [
      "Clipping input data to the valid range for imshow with RGB data ([0..1] for floats or [0..255] for integers).\n"
     ]
    },
    {
     "name": "stdout",
     "output_type": "stream",
     "text": [
      "features_to_image.3.weight\n",
      "features_to_image.5.weight\n",
      "torch.Size([32])\n",
      "features_to_image.6.weight\n",
      "features_to_image.8.weight\n",
      "features_to_image.9.weight\n"
     ]
    },
    {
     "name": "stderr",
     "output_type": "stream",
     "text": [
      "Clipping input data to the valid range for imshow with RGB data ([0..1] for floats or [0..255] for integers).\n"
     ]
    },
    {
     "name": "stdout",
     "output_type": "stream",
     "text": [
      "features_to_image.3.weight\n",
      "features_to_image.5.weight\n",
      "torch.Size([32])\n",
      "features_to_image.6.weight\n",
      "features_to_image.8.weight\n",
      "features_to_image.9.weight\n"
     ]
    },
    {
     "name": "stderr",
     "output_type": "stream",
     "text": [
      "Clipping input data to the valid range for imshow with RGB data ([0..1] for floats or [0..255] for integers).\n"
     ]
    },
    {
     "name": "stdout",
     "output_type": "stream",
     "text": [
      "features_to_image.3.weight\n",
      "features_to_image.5.weight\n",
      "torch.Size([32])\n",
      "features_to_image.6.weight\n",
      "features_to_image.8.weight\n",
      "features_to_image.9.weight\n"
     ]
    },
    {
     "name": "stderr",
     "output_type": "stream",
     "text": [
      "Clipping input data to the valid range for imshow with RGB data ([0..1] for floats or [0..255] for integers).\n"
     ]
    },
    {
     "name": "stdout",
     "output_type": "stream",
     "text": [
      "features_to_image.3.weight\n",
      "features_to_image.5.weight\n",
      "torch.Size([32])\n",
      "features_to_image.6.weight\n",
      "features_to_image.8.weight\n",
      "features_to_image.9.weight\n"
     ]
    },
    {
     "name": "stderr",
     "output_type": "stream",
     "text": [
      "Clipping input data to the valid range for imshow with RGB data ([0..1] for floats or [0..255] for integers).\n"
     ]
    },
    {
     "name": "stdout",
     "output_type": "stream",
     "text": [
      "features_to_image.3.weight\n",
      "features_to_image.5.weight\n",
      "torch.Size([32])\n",
      "features_to_image.6.weight\n",
      "features_to_image.8.weight\n",
      "features_to_image.9.weight\n"
     ]
    },
    {
     "name": "stderr",
     "output_type": "stream",
     "text": [
      "Clipping input data to the valid range for imshow with RGB data ([0..1] for floats or [0..255] for integers).\n"
     ]
    },
    {
     "name": "stdout",
     "output_type": "stream",
     "text": [
      "features_to_image.3.weight\n",
      "features_to_image.5.weight\n",
      "torch.Size([32])\n",
      "features_to_image.6.weight\n",
      "features_to_image.8.weight\n",
      "features_to_image.9.weight\n"
     ]
    },
    {
     "name": "stderr",
     "output_type": "stream",
     "text": [
      "Clipping input data to the valid range for imshow with RGB data ([0..1] for floats or [0..255] for integers).\n"
     ]
    },
    {
     "name": "stdout",
     "output_type": "stream",
     "text": [
      "features_to_image.3.weight\n",
      "features_to_image.5.weight\n",
      "torch.Size([32])\n",
      "features_to_image.6.weight\n",
      "features_to_image.8.weight\n",
      "features_to_image.9.weight\n"
     ]
    },
    {
     "name": "stderr",
     "output_type": "stream",
     "text": [
      "Clipping input data to the valid range for imshow with RGB data ([0..1] for floats or [0..255] for integers).\n"
     ]
    },
    {
     "name": "stdout",
     "output_type": "stream",
     "text": [
      "features_to_image.3.weight\n",
      "features_to_image.5.weight\n",
      "torch.Size([32])\n",
      "features_to_image.6.weight\n",
      "features_to_image.8.weight\n",
      "features_to_image.9.weight\n"
     ]
    },
    {
     "name": "stderr",
     "output_type": "stream",
     "text": [
      "Clipping input data to the valid range for imshow with RGB data ([0..1] for floats or [0..255] for integers).\n"
     ]
    },
    {
     "name": "stdout",
     "output_type": "stream",
     "text": [
      "features_to_image.3.weight\n",
      "features_to_image.5.weight\n",
      "torch.Size([32])\n",
      "features_to_image.6.weight\n",
      "features_to_image.8.weight\n",
      "features_to_image.9.weight\n"
     ]
    },
    {
     "name": "stderr",
     "output_type": "stream",
     "text": [
      "Clipping input data to the valid range for imshow with RGB data ([0..1] for floats or [0..255] for integers).\n"
     ]
    },
    {
     "name": "stdout",
     "output_type": "stream",
     "text": [
      "features_to_image.3.weight\n",
      "features_to_image.5.weight\n",
      "torch.Size([32])\n",
      "features_to_image.6.weight\n",
      "features_to_image.8.weight\n",
      "features_to_image.9.weight\n"
     ]
    },
    {
     "name": "stderr",
     "output_type": "stream",
     "text": [
      "Clipping input data to the valid range for imshow with RGB data ([0..1] for floats or [0..255] for integers).\n"
     ]
    },
    {
     "name": "stdout",
     "output_type": "stream",
     "text": [
      "features_to_image.3.weight\n",
      "features_to_image.5.weight\n",
      "torch.Size([32])\n",
      "features_to_image.6.weight\n",
      "features_to_image.8.weight\n",
      "features_to_image.9.weight\n"
     ]
    },
    {
     "name": "stderr",
     "output_type": "stream",
     "text": [
      "Clipping input data to the valid range for imshow with RGB data ([0..1] for floats or [0..255] for integers).\n"
     ]
    },
    {
     "name": "stdout",
     "output_type": "stream",
     "text": [
      "features_to_image.3.weight\n",
      "features_to_image.5.weight\n",
      "torch.Size([32])\n",
      "features_to_image.6.weight\n",
      "features_to_image.8.weight\n",
      "features_to_image.9.weight\n"
     ]
    },
    {
     "name": "stderr",
     "output_type": "stream",
     "text": [
      "Clipping input data to the valid range for imshow with RGB data ([0..1] for floats or [0..255] for integers).\n"
     ]
    },
    {
     "name": "stdout",
     "output_type": "stream",
     "text": [
      "features_to_image.3.weight\n",
      "features_to_image.5.weight\n",
      "torch.Size([32])\n",
      "features_to_image.6.weight\n",
      "features_to_image.8.weight\n",
      "features_to_image.9.weight\n"
     ]
    },
    {
     "name": "stderr",
     "output_type": "stream",
     "text": [
      "Clipping input data to the valid range for imshow with RGB data ([0..1] for floats or [0..255] for integers).\n"
     ]
    },
    {
     "name": "stdout",
     "output_type": "stream",
     "text": [
      "features_to_image.3.weight\n",
      "features_to_image.5.weight\n",
      "torch.Size([32])\n",
      "features_to_image.6.weight\n",
      "features_to_image.8.weight\n",
      "features_to_image.9.weight\n"
     ]
    },
    {
     "name": "stderr",
     "output_type": "stream",
     "text": [
      "Clipping input data to the valid range for imshow with RGB data ([0..1] for floats or [0..255] for integers).\n"
     ]
    },
    {
     "name": "stdout",
     "output_type": "stream",
     "text": [
      "features_to_image.3.weight\n",
      "features_to_image.5.weight\n",
      "torch.Size([32])\n",
      "features_to_image.6.weight\n",
      "features_to_image.8.weight\n",
      "features_to_image.9.weight\n"
     ]
    },
    {
     "name": "stderr",
     "output_type": "stream",
     "text": [
      "Clipping input data to the valid range for imshow with RGB data ([0..1] for floats or [0..255] for integers).\n"
     ]
    },
    {
     "name": "stdout",
     "output_type": "stream",
     "text": [
      "features_to_image.3.weight\n",
      "features_to_image.5.weight\n",
      "torch.Size([32])\n",
      "features_to_image.6.weight\n",
      "features_to_image.8.weight\n",
      "features_to_image.9.weight\n"
     ]
    },
    {
     "name": "stderr",
     "output_type": "stream",
     "text": [
      "Clipping input data to the valid range for imshow with RGB data ([0..1] for floats or [0..255] for integers).\n"
     ]
    },
    {
     "name": "stdout",
     "output_type": "stream",
     "text": [
      "features_to_image.3.weight\n",
      "features_to_image.5.weight\n",
      "torch.Size([32])\n",
      "features_to_image.6.weight\n",
      "features_to_image.8.weight\n",
      "features_to_image.9.weight\n"
     ]
    },
    {
     "name": "stderr",
     "output_type": "stream",
     "text": [
      "Clipping input data to the valid range for imshow with RGB data ([0..1] for floats or [0..255] for integers).\n"
     ]
    },
    {
     "name": "stdout",
     "output_type": "stream",
     "text": [
      "features_to_image.3.weight\n",
      "features_to_image.5.weight\n",
      "torch.Size([32])\n",
      "features_to_image.6.weight\n",
      "features_to_image.8.weight\n",
      "features_to_image.9.weight\n"
     ]
    },
    {
     "name": "stderr",
     "output_type": "stream",
     "text": [
      "Clipping input data to the valid range for imshow with RGB data ([0..1] for floats or [0..255] for integers).\n"
     ]
    },
    {
     "name": "stdout",
     "output_type": "stream",
     "text": [
      "features_to_image.3.weight\n",
      "features_to_image.5.weight\n",
      "torch.Size([32])\n",
      "features_to_image.6.weight\n",
      "features_to_image.8.weight\n",
      "features_to_image.9.weight\n"
     ]
    },
    {
     "name": "stderr",
     "output_type": "stream",
     "text": [
      "Clipping input data to the valid range for imshow with RGB data ([0..1] for floats or [0..255] for integers).\n"
     ]
    },
    {
     "name": "stdout",
     "output_type": "stream",
     "text": [
      "features_to_image.3.weight\n",
      "features_to_image.5.weight\n",
      "torch.Size([32])\n",
      "features_to_image.6.weight\n",
      "features_to_image.8.weight\n",
      "features_to_image.9.weight\n"
     ]
    },
    {
     "name": "stderr",
     "output_type": "stream",
     "text": [
      "Clipping input data to the valid range for imshow with RGB data ([0..1] for floats or [0..255] for integers).\n"
     ]
    },
    {
     "name": "stdout",
     "output_type": "stream",
     "text": [
      "features_to_image.3.weight\n",
      "features_to_image.5.weight\n",
      "torch.Size([32])\n",
      "features_to_image.6.weight\n",
      "features_to_image.8.weight\n",
      "features_to_image.9.weight\n"
     ]
    },
    {
     "name": "stderr",
     "output_type": "stream",
     "text": [
      "Clipping input data to the valid range for imshow with RGB data ([0..1] for floats or [0..255] for integers).\n"
     ]
    },
    {
     "name": "stdout",
     "output_type": "stream",
     "text": [
      "features_to_image.3.weight\n",
      "features_to_image.5.weight\n",
      "torch.Size([32])\n",
      "features_to_image.6.weight\n",
      "features_to_image.8.weight\n",
      "features_to_image.9.weight\n"
     ]
    },
    {
     "name": "stderr",
     "output_type": "stream",
     "text": [
      "Clipping input data to the valid range for imshow with RGB data ([0..1] for floats or [0..255] for integers).\n"
     ]
    },
    {
     "name": "stdout",
     "output_type": "stream",
     "text": [
      "features_to_image.3.weight\n",
      "features_to_image.5.weight\n",
      "torch.Size([32])\n",
      "features_to_image.6.weight\n",
      "features_to_image.8.weight\n",
      "features_to_image.9.weight\n"
     ]
    },
    {
     "name": "stderr",
     "output_type": "stream",
     "text": [
      "Clipping input data to the valid range for imshow with RGB data ([0..1] for floats or [0..255] for integers).\n"
     ]
    },
    {
     "name": "stdout",
     "output_type": "stream",
     "text": [
      "features_to_image.3.weight\n",
      "features_to_image.5.weight\n",
      "torch.Size([32])\n",
      "features_to_image.6.weight\n",
      "features_to_image.8.weight\n",
      "features_to_image.9.weight\n"
     ]
    },
    {
     "name": "stderr",
     "output_type": "stream",
     "text": [
      "Clipping input data to the valid range for imshow with RGB data ([0..1] for floats or [0..255] for integers).\n"
     ]
    },
    {
     "name": "stdout",
     "output_type": "stream",
     "text": [
      "features_to_image.3.weight\n",
      "features_to_image.5.weight\n",
      "torch.Size([32])\n",
      "features_to_image.6.weight\n",
      "features_to_image.8.weight\n",
      "features_to_image.9.weight\n"
     ]
    },
    {
     "name": "stderr",
     "output_type": "stream",
     "text": [
      "Clipping input data to the valid range for imshow with RGB data ([0..1] for floats or [0..255] for integers).\n"
     ]
    },
    {
     "name": "stdout",
     "output_type": "stream",
     "text": [
      "features_to_image.3.weight\n",
      "features_to_image.5.weight\n",
      "torch.Size([32])\n",
      "features_to_image.6.weight\n",
      "features_to_image.8.weight\n",
      "features_to_image.9.weight\n"
     ]
    },
    {
     "name": "stderr",
     "output_type": "stream",
     "text": [
      "Clipping input data to the valid range for imshow with RGB data ([0..1] for floats or [0..255] for integers).\n"
     ]
    },
    {
     "name": "stdout",
     "output_type": "stream",
     "text": [
      "features_to_image.3.weight\n",
      "features_to_image.5.weight\n",
      "torch.Size([32])\n",
      "features_to_image.6.weight\n",
      "features_to_image.8.weight\n",
      "features_to_image.9.weight\n"
     ]
    },
    {
     "name": "stderr",
     "output_type": "stream",
     "text": [
      "Clipping input data to the valid range for imshow with RGB data ([0..1] for floats or [0..255] for integers).\n"
     ]
    },
    {
     "name": "stdout",
     "output_type": "stream",
     "text": [
      "features_to_image.3.weight\n",
      "features_to_image.5.weight\n",
      "torch.Size([32])\n",
      "features_to_image.6.weight\n",
      "features_to_image.8.weight\n",
      "features_to_image.9.weight\n"
     ]
    },
    {
     "name": "stderr",
     "output_type": "stream",
     "text": [
      "Clipping input data to the valid range for imshow with RGB data ([0..1] for floats or [0..255] for integers).\n"
     ]
    },
    {
     "name": "stdout",
     "output_type": "stream",
     "text": [
      "features_to_image.3.weight\n",
      "features_to_image.5.weight\n",
      "torch.Size([32])\n",
      "features_to_image.6.weight\n",
      "features_to_image.8.weight\n",
      "features_to_image.9.weight\n"
     ]
    },
    {
     "name": "stderr",
     "output_type": "stream",
     "text": [
      "Clipping input data to the valid range for imshow with RGB data ([0..1] for floats or [0..255] for integers).\n"
     ]
    },
    {
     "name": "stdout",
     "output_type": "stream",
     "text": [
      "features_to_image.3.weight\n",
      "features_to_image.5.weight\n",
      "torch.Size([32])\n",
      "features_to_image.6.weight\n",
      "features_to_image.8.weight\n",
      "features_to_image.9.weight\n"
     ]
    },
    {
     "name": "stderr",
     "output_type": "stream",
     "text": [
      "Clipping input data to the valid range for imshow with RGB data ([0..1] for floats or [0..255] for integers).\n"
     ]
    },
    {
     "name": "stdout",
     "output_type": "stream",
     "text": [
      "features_to_image.3.weight\n",
      "features_to_image.5.weight\n",
      "torch.Size([32])\n",
      "features_to_image.6.weight\n",
      "features_to_image.8.weight\n",
      "features_to_image.9.weight\n",
      "features_to_image.3.weight\n",
      "features_to_image.5.weight\n",
      "torch.Size([32])\n",
      "features_to_image.6.weight\n",
      "features_to_image.8.weight\n",
      "features_to_image.9.weight\n",
      "features_to_image.3.weight\n",
      "features_to_image.5.weight\n",
      "torch.Size([32])\n",
      "features_to_image.6.weight\n",
      "features_to_image.8.weight\n",
      "features_to_image.9.weight\n",
      "features_to_image.3.weight\n",
      "features_to_image.5.weight\n",
      "torch.Size([32])\n",
      "features_to_image.6.weight\n",
      "features_to_image.8.weight\n",
      "features_to_image.9.weight\n",
      "features_to_image.3.weight\n",
      "features_to_image.5.weight\n",
      "torch.Size([32])\n",
      "features_to_image.6.weight\n",
      "features_to_image.8.weight\n",
      "features_to_image.9.weight\n",
      "features_to_image.3.weight\n",
      "features_to_image.5.weight\n",
      "torch.Size([32])\n",
      "features_to_image.6.weight\n",
      "features_to_image.8.weight\n",
      "features_to_image.9.weight\n",
      "features_to_image.3.weight\n",
      "features_to_image.5.weight\n",
      "torch.Size([32])\n",
      "features_to_image.6.weight\n",
      "features_to_image.8.weight\n",
      "features_to_image.9.weight\n",
      "features_to_image.3.weight\n",
      "features_to_image.5.weight\n",
      "torch.Size([32])\n",
      "features_to_image.6.weight\n",
      "features_to_image.8.weight\n",
      "features_to_image.9.weight\n",
      "features_to_image.3.weight\n",
      "features_to_image.5.weight\n",
      "torch.Size([32])\n",
      "features_to_image.6.weight\n",
      "features_to_image.8.weight\n",
      "features_to_image.9.weight\n",
      "features_to_image.3.weight\n",
      "features_to_image.5.weight\n",
      "torch.Size([32])\n",
      "features_to_image.6.weight\n",
      "features_to_image.8.weight\n",
      "features_to_image.9.weight\n",
      "features_to_image.3.weight\n",
      "features_to_image.5.weight\n",
      "torch.Size([32])\n",
      "features_to_image.6.weight\n",
      "features_to_image.8.weight\n",
      "features_to_image.9.weight\n"
     ]
    },
    {
     "name": "stderr",
     "output_type": "stream",
     "text": [
      "Clipping input data to the valid range for imshow with RGB data ([0..1] for floats or [0..255] for integers).\n"
     ]
    },
    {
     "name": "stdout",
     "output_type": "stream",
     "text": [
      "features_to_image.3.weight\n",
      "features_to_image.5.weight\n",
      "torch.Size([32])\n",
      "features_to_image.6.weight\n",
      "features_to_image.8.weight\n",
      "features_to_image.9.weight\n"
     ]
    },
    {
     "name": "stderr",
     "output_type": "stream",
     "text": [
      "Clipping input data to the valid range for imshow with RGB data ([0..1] for floats or [0..255] for integers).\n"
     ]
    },
    {
     "name": "stdout",
     "output_type": "stream",
     "text": [
      "features_to_image.3.weight\n",
      "features_to_image.5.weight\n",
      "torch.Size([32])\n",
      "features_to_image.6.weight\n",
      "features_to_image.8.weight\n",
      "features_to_image.9.weight\n"
     ]
    },
    {
     "name": "stderr",
     "output_type": "stream",
     "text": [
      "Clipping input data to the valid range for imshow with RGB data ([0..1] for floats or [0..255] for integers).\n"
     ]
    },
    {
     "name": "stdout",
     "output_type": "stream",
     "text": [
      "features_to_image.3.weight\n",
      "features_to_image.5.weight\n",
      "torch.Size([32])\n",
      "features_to_image.6.weight\n",
      "features_to_image.8.weight\n",
      "features_to_image.9.weight\n"
     ]
    },
    {
     "name": "stderr",
     "output_type": "stream",
     "text": [
      "Clipping input data to the valid range for imshow with RGB data ([0..1] for floats or [0..255] for integers).\n"
     ]
    },
    {
     "name": "stdout",
     "output_type": "stream",
     "text": [
      "features_to_image.3.weight\n",
      "features_to_image.5.weight\n",
      "torch.Size([32])\n",
      "features_to_image.6.weight\n",
      "features_to_image.8.weight\n",
      "features_to_image.9.weight\n"
     ]
    },
    {
     "name": "stderr",
     "output_type": "stream",
     "text": [
      "Clipping input data to the valid range for imshow with RGB data ([0..1] for floats or [0..255] for integers).\n"
     ]
    },
    {
     "name": "stdout",
     "output_type": "stream",
     "text": [
      "features_to_image.3.weight\n",
      "features_to_image.5.weight\n",
      "torch.Size([32])\n",
      "features_to_image.6.weight\n",
      "features_to_image.8.weight\n",
      "features_to_image.9.weight\n"
     ]
    },
    {
     "name": "stderr",
     "output_type": "stream",
     "text": [
      "Clipping input data to the valid range for imshow with RGB data ([0..1] for floats or [0..255] for integers).\n"
     ]
    },
    {
     "name": "stdout",
     "output_type": "stream",
     "text": [
      "features_to_image.3.weight\n",
      "features_to_image.5.weight\n",
      "torch.Size([32])\n",
      "features_to_image.6.weight\n",
      "features_to_image.8.weight\n",
      "features_to_image.9.weight\n"
     ]
    },
    {
     "name": "stderr",
     "output_type": "stream",
     "text": [
      "Clipping input data to the valid range for imshow with RGB data ([0..1] for floats or [0..255] for integers).\n"
     ]
    },
    {
     "name": "stdout",
     "output_type": "stream",
     "text": [
      "features_to_image.3.weight\n",
      "features_to_image.5.weight\n",
      "torch.Size([32])\n",
      "features_to_image.6.weight\n",
      "features_to_image.8.weight\n",
      "features_to_image.9.weight\n"
     ]
    },
    {
     "name": "stderr",
     "output_type": "stream",
     "text": [
      "Clipping input data to the valid range for imshow with RGB data ([0..1] for floats or [0..255] for integers).\n"
     ]
    },
    {
     "name": "stdout",
     "output_type": "stream",
     "text": [
      "features_to_image.3.weight\n",
      "features_to_image.5.weight\n",
      "torch.Size([32])\n",
      "features_to_image.6.weight\n",
      "features_to_image.8.weight\n",
      "features_to_image.9.weight\n"
     ]
    },
    {
     "name": "stderr",
     "output_type": "stream",
     "text": [
      "Clipping input data to the valid range for imshow with RGB data ([0..1] for floats or [0..255] for integers).\n"
     ]
    },
    {
     "name": "stdout",
     "output_type": "stream",
     "text": [
      "features_to_image.3.weight\n",
      "features_to_image.5.weight\n",
      "torch.Size([32])\n",
      "features_to_image.6.weight\n",
      "features_to_image.8.weight\n",
      "features_to_image.9.weight\n"
     ]
    },
    {
     "name": "stderr",
     "output_type": "stream",
     "text": [
      "Clipping input data to the valid range for imshow with RGB data ([0..1] for floats or [0..255] for integers).\n"
     ]
    },
    {
     "name": "stdout",
     "output_type": "stream",
     "text": [
      "features_to_image.3.weight\n",
      "features_to_image.5.weight\n",
      "torch.Size([32])\n",
      "features_to_image.6.weight\n",
      "features_to_image.8.weight\n",
      "features_to_image.9.weight\n"
     ]
    },
    {
     "name": "stderr",
     "output_type": "stream",
     "text": [
      "Clipping input data to the valid range for imshow with RGB data ([0..1] for floats or [0..255] for integers).\n"
     ]
    },
    {
     "name": "stdout",
     "output_type": "stream",
     "text": [
      "features_to_image.3.weight\n",
      "features_to_image.5.weight\n",
      "torch.Size([32])\n",
      "features_to_image.6.weight\n",
      "features_to_image.8.weight\n",
      "features_to_image.9.weight\n"
     ]
    },
    {
     "name": "stderr",
     "output_type": "stream",
     "text": [
      "Clipping input data to the valid range for imshow with RGB data ([0..1] for floats or [0..255] for integers).\n"
     ]
    },
    {
     "name": "stdout",
     "output_type": "stream",
     "text": [
      "features_to_image.3.weight\n",
      "features_to_image.5.weight\n",
      "torch.Size([32])\n",
      "features_to_image.6.weight\n",
      "features_to_image.8.weight\n",
      "features_to_image.9.weight\n"
     ]
    },
    {
     "name": "stderr",
     "output_type": "stream",
     "text": [
      "Clipping input data to the valid range for imshow with RGB data ([0..1] for floats or [0..255] for integers).\n"
     ]
    },
    {
     "name": "stdout",
     "output_type": "stream",
     "text": [
      "features_to_image.3.weight\n",
      "features_to_image.5.weight\n",
      "torch.Size([32])\n",
      "features_to_image.6.weight\n",
      "features_to_image.8.weight\n",
      "features_to_image.9.weight\n"
     ]
    },
    {
     "name": "stderr",
     "output_type": "stream",
     "text": [
      "Clipping input data to the valid range for imshow with RGB data ([0..1] for floats or [0..255] for integers).\n"
     ]
    },
    {
     "name": "stdout",
     "output_type": "stream",
     "text": [
      "features_to_image.3.weight\n",
      "features_to_image.5.weight\n",
      "torch.Size([32])\n",
      "features_to_image.6.weight\n",
      "features_to_image.8.weight\n",
      "features_to_image.9.weight\n"
     ]
    },
    {
     "name": "stderr",
     "output_type": "stream",
     "text": [
      "Clipping input data to the valid range for imshow with RGB data ([0..1] for floats or [0..255] for integers).\n"
     ]
    },
    {
     "name": "stdout",
     "output_type": "stream",
     "text": [
      "features_to_image.3.weight\n",
      "features_to_image.5.weight\n",
      "torch.Size([32])\n",
      "features_to_image.6.weight\n",
      "features_to_image.8.weight\n",
      "features_to_image.9.weight\n"
     ]
    },
    {
     "name": "stderr",
     "output_type": "stream",
     "text": [
      "Clipping input data to the valid range for imshow with RGB data ([0..1] for floats or [0..255] for integers).\n"
     ]
    },
    {
     "name": "stdout",
     "output_type": "stream",
     "text": [
      "features_to_image.3.weight\n",
      "features_to_image.5.weight\n",
      "torch.Size([32])\n",
      "features_to_image.6.weight\n",
      "features_to_image.8.weight\n",
      "features_to_image.9.weight\n"
     ]
    },
    {
     "name": "stderr",
     "output_type": "stream",
     "text": [
      "Clipping input data to the valid range for imshow with RGB data ([0..1] for floats or [0..255] for integers).\n"
     ]
    },
    {
     "name": "stdout",
     "output_type": "stream",
     "text": [
      "features_to_image.3.weight\n",
      "features_to_image.5.weight\n",
      "torch.Size([32])\n",
      "features_to_image.6.weight\n",
      "features_to_image.8.weight\n",
      "features_to_image.9.weight\n"
     ]
    },
    {
     "name": "stderr",
     "output_type": "stream",
     "text": [
      "Clipping input data to the valid range for imshow with RGB data ([0..1] for floats or [0..255] for integers).\n"
     ]
    },
    {
     "name": "stdout",
     "output_type": "stream",
     "text": [
      "features_to_image.3.weight\n",
      "features_to_image.5.weight\n",
      "torch.Size([32])\n",
      "features_to_image.6.weight\n",
      "features_to_image.8.weight\n",
      "features_to_image.9.weight\n"
     ]
    },
    {
     "name": "stderr",
     "output_type": "stream",
     "text": [
      "Clipping input data to the valid range for imshow with RGB data ([0..1] for floats or [0..255] for integers).\n"
     ]
    },
    {
     "name": "stdout",
     "output_type": "stream",
     "text": [
      "features_to_image.3.weight\n",
      "features_to_image.5.weight\n",
      "torch.Size([32])\n",
      "features_to_image.6.weight\n",
      "features_to_image.8.weight\n",
      "features_to_image.9.weight\n"
     ]
    },
    {
     "name": "stderr",
     "output_type": "stream",
     "text": [
      "Clipping input data to the valid range for imshow with RGB data ([0..1] for floats or [0..255] for integers).\n"
     ]
    },
    {
     "name": "stdout",
     "output_type": "stream",
     "text": [
      "features_to_image.3.weight\n",
      "features_to_image.5.weight\n",
      "torch.Size([32])\n",
      "features_to_image.6.weight\n",
      "features_to_image.8.weight\n",
      "features_to_image.9.weight\n"
     ]
    },
    {
     "name": "stderr",
     "output_type": "stream",
     "text": [
      "Clipping input data to the valid range for imshow with RGB data ([0..1] for floats or [0..255] for integers).\n"
     ]
    },
    {
     "name": "stdout",
     "output_type": "stream",
     "text": [
      "features_to_image.3.weight\n",
      "features_to_image.5.weight\n",
      "torch.Size([32])\n",
      "features_to_image.6.weight\n",
      "features_to_image.8.weight\n",
      "features_to_image.9.weight\n"
     ]
    },
    {
     "name": "stderr",
     "output_type": "stream",
     "text": [
      "Clipping input data to the valid range for imshow with RGB data ([0..1] for floats or [0..255] for integers).\n"
     ]
    },
    {
     "name": "stdout",
     "output_type": "stream",
     "text": [
      "features_to_image.3.weight\n",
      "features_to_image.5.weight\n",
      "torch.Size([32])\n",
      "features_to_image.6.weight\n",
      "features_to_image.8.weight\n",
      "features_to_image.9.weight\n"
     ]
    },
    {
     "name": "stderr",
     "output_type": "stream",
     "text": [
      "Clipping input data to the valid range for imshow with RGB data ([0..1] for floats or [0..255] for integers).\n"
     ]
    },
    {
     "name": "stdout",
     "output_type": "stream",
     "text": [
      "features_to_image.3.weight\n",
      "features_to_image.5.weight\n",
      "torch.Size([32])\n",
      "features_to_image.6.weight\n",
      "features_to_image.8.weight\n",
      "features_to_image.9.weight\n"
     ]
    },
    {
     "name": "stderr",
     "output_type": "stream",
     "text": [
      "Clipping input data to the valid range for imshow with RGB data ([0..1] for floats or [0..255] for integers).\n"
     ]
    },
    {
     "name": "stdout",
     "output_type": "stream",
     "text": [
      "features_to_image.3.weight\n",
      "features_to_image.5.weight\n",
      "torch.Size([32])\n",
      "features_to_image.6.weight\n",
      "features_to_image.8.weight\n",
      "features_to_image.9.weight\n"
     ]
    },
    {
     "name": "stderr",
     "output_type": "stream",
     "text": [
      "Clipping input data to the valid range for imshow with RGB data ([0..1] for floats or [0..255] for integers).\n"
     ]
    },
    {
     "name": "stdout",
     "output_type": "stream",
     "text": [
      "features_to_image.3.weight\n",
      "features_to_image.5.weight\n",
      "torch.Size([32])\n",
      "features_to_image.6.weight\n",
      "features_to_image.8.weight\n",
      "features_to_image.9.weight\n"
     ]
    },
    {
     "name": "stderr",
     "output_type": "stream",
     "text": [
      "Clipping input data to the valid range for imshow with RGB data ([0..1] for floats or [0..255] for integers).\n"
     ]
    },
    {
     "name": "stdout",
     "output_type": "stream",
     "text": [
      "features_to_image.3.weight\n",
      "features_to_image.5.weight\n",
      "torch.Size([32])\n",
      "features_to_image.6.weight\n",
      "features_to_image.8.weight\n",
      "features_to_image.9.weight\n"
     ]
    },
    {
     "name": "stderr",
     "output_type": "stream",
     "text": [
      "Clipping input data to the valid range for imshow with RGB data ([0..1] for floats or [0..255] for integers).\n"
     ]
    },
    {
     "name": "stdout",
     "output_type": "stream",
     "text": [
      "features_to_image.3.weight\n",
      "features_to_image.5.weight\n",
      "torch.Size([32])\n",
      "features_to_image.6.weight\n",
      "features_to_image.8.weight\n",
      "features_to_image.9.weight\n"
     ]
    },
    {
     "name": "stderr",
     "output_type": "stream",
     "text": [
      "Clipping input data to the valid range for imshow with RGB data ([0..1] for floats or [0..255] for integers).\n"
     ]
    },
    {
     "name": "stdout",
     "output_type": "stream",
     "text": [
      "features_to_image.3.weight\n",
      "features_to_image.5.weight\n",
      "torch.Size([32])\n",
      "features_to_image.6.weight\n",
      "features_to_image.8.weight\n",
      "features_to_image.9.weight\n"
     ]
    },
    {
     "name": "stderr",
     "output_type": "stream",
     "text": [
      "Clipping input data to the valid range for imshow with RGB data ([0..1] for floats or [0..255] for integers).\n"
     ]
    },
    {
     "name": "stdout",
     "output_type": "stream",
     "text": [
      "features_to_image.3.weight\n",
      "features_to_image.5.weight\n",
      "torch.Size([32])\n",
      "features_to_image.6.weight\n",
      "features_to_image.8.weight\n",
      "features_to_image.9.weight\n"
     ]
    },
    {
     "name": "stderr",
     "output_type": "stream",
     "text": [
      "Clipping input data to the valid range for imshow with RGB data ([0..1] for floats or [0..255] for integers).\n"
     ]
    },
    {
     "name": "stdout",
     "output_type": "stream",
     "text": [
      "features_to_image.3.weight\n",
      "features_to_image.5.weight\n",
      "torch.Size([32])\n",
      "features_to_image.6.weight\n",
      "features_to_image.8.weight\n",
      "features_to_image.9.weight\n"
     ]
    },
    {
     "name": "stderr",
     "output_type": "stream",
     "text": [
      "Clipping input data to the valid range for imshow with RGB data ([0..1] for floats or [0..255] for integers).\n"
     ]
    },
    {
     "name": "stdout",
     "output_type": "stream",
     "text": [
      "features_to_image.3.weight\n",
      "features_to_image.5.weight\n",
      "torch.Size([32])\n",
      "features_to_image.6.weight\n",
      "features_to_image.8.weight\n",
      "features_to_image.9.weight\n"
     ]
    },
    {
     "name": "stderr",
     "output_type": "stream",
     "text": [
      "Clipping input data to the valid range for imshow with RGB data ([0..1] for floats or [0..255] for integers).\n"
     ]
    },
    {
     "name": "stdout",
     "output_type": "stream",
     "text": [
      "features_to_image.3.weight\n",
      "features_to_image.5.weight\n",
      "torch.Size([32])\n",
      "features_to_image.6.weight\n",
      "features_to_image.8.weight\n",
      "features_to_image.9.weight\n"
     ]
    },
    {
     "name": "stderr",
     "output_type": "stream",
     "text": [
      "Clipping input data to the valid range for imshow with RGB data ([0..1] for floats or [0..255] for integers).\n"
     ]
    },
    {
     "name": "stdout",
     "output_type": "stream",
     "text": [
      "features_to_image.3.weight\n",
      "features_to_image.5.weight\n",
      "torch.Size([32])\n",
      "features_to_image.6.weight\n",
      "features_to_image.8.weight\n",
      "features_to_image.9.weight\n"
     ]
    },
    {
     "name": "stderr",
     "output_type": "stream",
     "text": [
      "Clipping input data to the valid range for imshow with RGB data ([0..1] for floats or [0..255] for integers).\n"
     ]
    },
    {
     "name": "stdout",
     "output_type": "stream",
     "text": [
      "features_to_image.3.weight\n",
      "features_to_image.5.weight\n",
      "torch.Size([32])\n",
      "features_to_image.6.weight\n",
      "features_to_image.8.weight\n",
      "features_to_image.9.weight\n"
     ]
    },
    {
     "name": "stderr",
     "output_type": "stream",
     "text": [
      "Clipping input data to the valid range for imshow with RGB data ([0..1] for floats or [0..255] for integers).\n"
     ]
    },
    {
     "name": "stdout",
     "output_type": "stream",
     "text": [
      "features_to_image.3.weight\n",
      "features_to_image.5.weight\n",
      "torch.Size([32])\n",
      "features_to_image.6.weight\n",
      "features_to_image.8.weight\n",
      "features_to_image.9.weight\n"
     ]
    },
    {
     "name": "stderr",
     "output_type": "stream",
     "text": [
      "Clipping input data to the valid range for imshow with RGB data ([0..1] for floats or [0..255] for integers).\n"
     ]
    },
    {
     "name": "stdout",
     "output_type": "stream",
     "text": [
      "features_to_image.3.weight\n",
      "features_to_image.5.weight\n",
      "torch.Size([32])\n",
      "features_to_image.6.weight\n",
      "features_to_image.8.weight\n",
      "features_to_image.9.weight\n"
     ]
    },
    {
     "name": "stderr",
     "output_type": "stream",
     "text": [
      "Clipping input data to the valid range for imshow with RGB data ([0..1] for floats or [0..255] for integers).\n"
     ]
    },
    {
     "name": "stdout",
     "output_type": "stream",
     "text": [
      "features_to_image.3.weight\n",
      "features_to_image.5.weight\n",
      "torch.Size([32])\n",
      "features_to_image.6.weight\n",
      "features_to_image.8.weight\n",
      "features_to_image.9.weight\n"
     ]
    },
    {
     "name": "stderr",
     "output_type": "stream",
     "text": [
      "Clipping input data to the valid range for imshow with RGB data ([0..1] for floats or [0..255] for integers).\n"
     ]
    },
    {
     "name": "stdout",
     "output_type": "stream",
     "text": [
      "features_to_image.3.weight\n",
      "features_to_image.5.weight\n",
      "torch.Size([32])\n",
      "features_to_image.6.weight\n",
      "features_to_image.8.weight\n",
      "features_to_image.9.weight\n"
     ]
    },
    {
     "name": "stderr",
     "output_type": "stream",
     "text": [
      "Clipping input data to the valid range for imshow with RGB data ([0..1] for floats or [0..255] for integers).\n"
     ]
    },
    {
     "name": "stdout",
     "output_type": "stream",
     "text": [
      "features_to_image.3.weight\n",
      "features_to_image.5.weight\n",
      "torch.Size([32])\n",
      "features_to_image.6.weight\n",
      "features_to_image.8.weight\n",
      "features_to_image.9.weight\n"
     ]
    },
    {
     "name": "stderr",
     "output_type": "stream",
     "text": [
      "Clipping input data to the valid range for imshow with RGB data ([0..1] for floats or [0..255] for integers).\n"
     ]
    },
    {
     "name": "stdout",
     "output_type": "stream",
     "text": [
      "features_to_image.3.weight\n",
      "features_to_image.5.weight\n",
      "torch.Size([32])\n",
      "features_to_image.6.weight\n",
      "features_to_image.8.weight\n",
      "features_to_image.9.weight\n",
      "features_to_image.3.weight\n",
      "features_to_image.5.weight\n",
      "torch.Size([32])\n",
      "features_to_image.6.weight\n",
      "features_to_image.8.weight\n",
      "features_to_image.9.weight\n",
      "features_to_image.3.weight\n",
      "features_to_image.5.weight\n",
      "torch.Size([32])\n",
      "features_to_image.6.weight\n",
      "features_to_image.8.weight\n",
      "features_to_image.9.weight\n",
      "features_to_image.3.weight\n",
      "features_to_image.5.weight\n",
      "torch.Size([32])\n",
      "features_to_image.6.weight\n",
      "features_to_image.8.weight\n",
      "features_to_image.9.weight\n",
      "features_to_image.3.weight\n",
      "features_to_image.5.weight\n",
      "torch.Size([32])\n",
      "features_to_image.6.weight\n",
      "features_to_image.8.weight\n",
      "features_to_image.9.weight\n",
      "features_to_image.3.weight\n",
      "features_to_image.5.weight\n",
      "torch.Size([32])\n",
      "features_to_image.6.weight\n",
      "features_to_image.8.weight\n",
      "features_to_image.9.weight\n",
      "features_to_image.3.weight\n",
      "features_to_image.5.weight\n",
      "torch.Size([32])\n",
      "features_to_image.6.weight\n",
      "features_to_image.8.weight\n",
      "features_to_image.9.weight\n",
      "features_to_image.3.weight\n",
      "features_to_image.5.weight\n",
      "torch.Size([32])\n",
      "features_to_image.6.weight\n",
      "features_to_image.8.weight\n",
      "features_to_image.9.weight\n",
      "features_to_image.3.weight\n",
      "features_to_image.5.weight\n",
      "torch.Size([32])\n",
      "features_to_image.6.weight\n",
      "features_to_image.8.weight\n",
      "features_to_image.9.weight\n",
      "features_to_image.3.weight\n",
      "features_to_image.5.weight\n",
      "torch.Size([32])\n",
      "features_to_image.6.weight\n",
      "features_to_image.8.weight\n",
      "features_to_image.9.weight\n",
      "features_to_image.3.weight\n",
      "features_to_image.5.weight\n",
      "torch.Size([32])\n",
      "features_to_image.6.weight\n",
      "features_to_image.8.weight\n",
      "features_to_image.9.weight\n"
     ]
    },
    {
     "name": "stderr",
     "output_type": "stream",
     "text": [
      "Clipping input data to the valid range for imshow with RGB data ([0..1] for floats or [0..255] for integers).\n"
     ]
    },
    {
     "name": "stdout",
     "output_type": "stream",
     "text": [
      "features_to_image.3.weight\n",
      "features_to_image.5.weight\n",
      "torch.Size([32])\n",
      "features_to_image.6.weight\n",
      "features_to_image.8.weight\n",
      "features_to_image.9.weight\n"
     ]
    },
    {
     "name": "stderr",
     "output_type": "stream",
     "text": [
      "Clipping input data to the valid range for imshow with RGB data ([0..1] for floats or [0..255] for integers).\n"
     ]
    },
    {
     "name": "stdout",
     "output_type": "stream",
     "text": [
      "features_to_image.3.weight\n",
      "features_to_image.5.weight\n",
      "torch.Size([32])\n",
      "features_to_image.6.weight\n",
      "features_to_image.8.weight\n",
      "features_to_image.9.weight\n"
     ]
    },
    {
     "name": "stderr",
     "output_type": "stream",
     "text": [
      "Clipping input data to the valid range for imshow with RGB data ([0..1] for floats or [0..255] for integers).\n"
     ]
    },
    {
     "name": "stdout",
     "output_type": "stream",
     "text": [
      "features_to_image.3.weight\n",
      "features_to_image.5.weight\n",
      "torch.Size([32])\n",
      "features_to_image.6.weight\n",
      "features_to_image.8.weight\n",
      "features_to_image.9.weight\n"
     ]
    },
    {
     "name": "stderr",
     "output_type": "stream",
     "text": [
      "Clipping input data to the valid range for imshow with RGB data ([0..1] for floats or [0..255] for integers).\n"
     ]
    },
    {
     "name": "stdout",
     "output_type": "stream",
     "text": [
      "features_to_image.3.weight\n",
      "features_to_image.5.weight\n",
      "torch.Size([32])\n",
      "features_to_image.6.weight\n",
      "features_to_image.8.weight\n",
      "features_to_image.9.weight\n"
     ]
    },
    {
     "name": "stderr",
     "output_type": "stream",
     "text": [
      "Clipping input data to the valid range for imshow with RGB data ([0..1] for floats or [0..255] for integers).\n"
     ]
    },
    {
     "name": "stdout",
     "output_type": "stream",
     "text": [
      "features_to_image.3.weight\n",
      "features_to_image.5.weight\n",
      "torch.Size([32])\n",
      "features_to_image.6.weight\n",
      "features_to_image.8.weight\n",
      "features_to_image.9.weight\n"
     ]
    },
    {
     "name": "stderr",
     "output_type": "stream",
     "text": [
      "Clipping input data to the valid range for imshow with RGB data ([0..1] for floats or [0..255] for integers).\n"
     ]
    },
    {
     "name": "stdout",
     "output_type": "stream",
     "text": [
      "features_to_image.3.weight\n",
      "features_to_image.5.weight\n",
      "torch.Size([32])\n",
      "features_to_image.6.weight\n",
      "features_to_image.8.weight\n",
      "features_to_image.9.weight\n"
     ]
    },
    {
     "name": "stderr",
     "output_type": "stream",
     "text": [
      "Clipping input data to the valid range for imshow with RGB data ([0..1] for floats or [0..255] for integers).\n"
     ]
    },
    {
     "name": "stdout",
     "output_type": "stream",
     "text": [
      "features_to_image.3.weight\n",
      "features_to_image.5.weight\n",
      "torch.Size([32])\n",
      "features_to_image.6.weight\n",
      "features_to_image.8.weight\n",
      "features_to_image.9.weight\n"
     ]
    },
    {
     "name": "stderr",
     "output_type": "stream",
     "text": [
      "Clipping input data to the valid range for imshow with RGB data ([0..1] for floats or [0..255] for integers).\n"
     ]
    },
    {
     "name": "stdout",
     "output_type": "stream",
     "text": [
      "features_to_image.3.weight\n",
      "features_to_image.5.weight\n",
      "torch.Size([32])\n",
      "features_to_image.6.weight\n",
      "features_to_image.8.weight\n",
      "features_to_image.9.weight\n"
     ]
    },
    {
     "name": "stderr",
     "output_type": "stream",
     "text": [
      "Clipping input data to the valid range for imshow with RGB data ([0..1] for floats or [0..255] for integers).\n"
     ]
    },
    {
     "name": "stdout",
     "output_type": "stream",
     "text": [
      "features_to_image.3.weight\n",
      "features_to_image.5.weight\n",
      "torch.Size([32])\n",
      "features_to_image.6.weight\n",
      "features_to_image.8.weight\n",
      "features_to_image.9.weight\n"
     ]
    },
    {
     "name": "stderr",
     "output_type": "stream",
     "text": [
      "Clipping input data to the valid range for imshow with RGB data ([0..1] for floats or [0..255] for integers).\n"
     ]
    },
    {
     "name": "stdout",
     "output_type": "stream",
     "text": [
      "features_to_image.3.weight\n",
      "features_to_image.5.weight\n",
      "torch.Size([32])\n",
      "features_to_image.6.weight\n",
      "features_to_image.8.weight\n",
      "features_to_image.9.weight\n",
      "features_to_image.3.weight\n",
      "features_to_image.5.weight\n",
      "torch.Size([32])\n",
      "features_to_image.6.weight\n",
      "features_to_image.8.weight\n",
      "features_to_image.9.weight\n",
      "features_to_image.3.weight\n",
      "features_to_image.5.weight\n",
      "torch.Size([32])\n",
      "features_to_image.6.weight\n",
      "features_to_image.8.weight\n",
      "features_to_image.9.weight\n",
      "features_to_image.3.weight\n",
      "features_to_image.5.weight\n",
      "torch.Size([32])\n",
      "features_to_image.6.weight\n",
      "features_to_image.8.weight\n",
      "features_to_image.9.weight\n",
      "features_to_image.3.weight\n",
      "features_to_image.5.weight\n",
      "torch.Size([32])\n",
      "features_to_image.6.weight\n",
      "features_to_image.8.weight\n",
      "features_to_image.9.weight\n",
      "features_to_image.3.weight\n",
      "features_to_image.5.weight\n",
      "torch.Size([32])\n",
      "features_to_image.6.weight\n",
      "features_to_image.8.weight\n",
      "features_to_image.9.weight\n",
      "features_to_image.3.weight\n",
      "features_to_image.5.weight\n",
      "torch.Size([32])\n",
      "features_to_image.6.weight\n",
      "features_to_image.8.weight\n",
      "features_to_image.9.weight\n",
      "features_to_image.3.weight\n",
      "features_to_image.5.weight\n",
      "torch.Size([32])\n",
      "features_to_image.6.weight\n",
      "features_to_image.8.weight\n",
      "features_to_image.9.weight\n",
      "features_to_image.3.weight\n",
      "features_to_image.5.weight\n",
      "torch.Size([32])\n",
      "features_to_image.6.weight\n",
      "features_to_image.8.weight\n",
      "features_to_image.9.weight\n",
      "features_to_image.3.weight\n",
      "features_to_image.5.weight\n",
      "torch.Size([32])\n",
      "features_to_image.6.weight\n",
      "features_to_image.8.weight\n",
      "features_to_image.9.weight\n",
      "features_to_image.3.weight\n",
      "features_to_image.5.weight\n",
      "torch.Size([32])\n",
      "features_to_image.6.weight\n",
      "features_to_image.8.weight\n",
      "features_to_image.9.weight\n"
     ]
    },
    {
     "name": "stderr",
     "output_type": "stream",
     "text": [
      "Clipping input data to the valid range for imshow with RGB data ([0..1] for floats or [0..255] for integers).\n"
     ]
    },
    {
     "name": "stdout",
     "output_type": "stream",
     "text": [
      "features_to_image.3.weight\n",
      "features_to_image.5.weight\n",
      "torch.Size([32])\n",
      "features_to_image.6.weight\n",
      "features_to_image.8.weight\n",
      "features_to_image.9.weight\n"
     ]
    },
    {
     "name": "stderr",
     "output_type": "stream",
     "text": [
      "Clipping input data to the valid range for imshow with RGB data ([0..1] for floats or [0..255] for integers).\n"
     ]
    },
    {
     "name": "stdout",
     "output_type": "stream",
     "text": [
      "features_to_image.3.weight\n",
      "features_to_image.5.weight\n",
      "torch.Size([32])\n",
      "features_to_image.6.weight\n",
      "features_to_image.8.weight\n",
      "features_to_image.9.weight\n"
     ]
    },
    {
     "name": "stderr",
     "output_type": "stream",
     "text": [
      "Clipping input data to the valid range for imshow with RGB data ([0..1] for floats or [0..255] for integers).\n"
     ]
    },
    {
     "name": "stdout",
     "output_type": "stream",
     "text": [
      "features_to_image.3.weight\n",
      "features_to_image.5.weight\n",
      "torch.Size([32])\n",
      "features_to_image.6.weight\n",
      "features_to_image.8.weight\n",
      "features_to_image.9.weight\n"
     ]
    },
    {
     "name": "stderr",
     "output_type": "stream",
     "text": [
      "Clipping input data to the valid range for imshow with RGB data ([0..1] for floats or [0..255] for integers).\n"
     ]
    },
    {
     "name": "stdout",
     "output_type": "stream",
     "text": [
      "features_to_image.3.weight\n",
      "features_to_image.5.weight\n",
      "torch.Size([32])\n",
      "features_to_image.6.weight\n",
      "features_to_image.8.weight\n",
      "features_to_image.9.weight\n"
     ]
    },
    {
     "name": "stderr",
     "output_type": "stream",
     "text": [
      "Clipping input data to the valid range for imshow with RGB data ([0..1] for floats or [0..255] for integers).\n"
     ]
    },
    {
     "name": "stdout",
     "output_type": "stream",
     "text": [
      "features_to_image.3.weight\n",
      "features_to_image.5.weight\n",
      "torch.Size([32])\n",
      "features_to_image.6.weight\n",
      "features_to_image.8.weight\n",
      "features_to_image.9.weight\n"
     ]
    },
    {
     "name": "stderr",
     "output_type": "stream",
     "text": [
      "Clipping input data to the valid range for imshow with RGB data ([0..1] for floats or [0..255] for integers).\n"
     ]
    },
    {
     "name": "stdout",
     "output_type": "stream",
     "text": [
      "features_to_image.3.weight\n",
      "features_to_image.5.weight\n",
      "torch.Size([32])\n",
      "features_to_image.6.weight\n",
      "features_to_image.8.weight\n",
      "features_to_image.9.weight\n"
     ]
    },
    {
     "name": "stderr",
     "output_type": "stream",
     "text": [
      "Clipping input data to the valid range for imshow with RGB data ([0..1] for floats or [0..255] for integers).\n"
     ]
    },
    {
     "name": "stdout",
     "output_type": "stream",
     "text": [
      "features_to_image.3.weight\n",
      "features_to_image.5.weight\n",
      "torch.Size([32])\n",
      "features_to_image.6.weight\n",
      "features_to_image.8.weight\n",
      "features_to_image.9.weight\n"
     ]
    },
    {
     "name": "stderr",
     "output_type": "stream",
     "text": [
      "Clipping input data to the valid range for imshow with RGB data ([0..1] for floats or [0..255] for integers).\n"
     ]
    },
    {
     "name": "stdout",
     "output_type": "stream",
     "text": [
      "features_to_image.3.weight\n",
      "features_to_image.5.weight\n",
      "torch.Size([32])\n",
      "features_to_image.6.weight\n",
      "features_to_image.8.weight\n",
      "features_to_image.9.weight\n"
     ]
    },
    {
     "name": "stderr",
     "output_type": "stream",
     "text": [
      "Clipping input data to the valid range for imshow with RGB data ([0..1] for floats or [0..255] for integers).\n"
     ]
    },
    {
     "name": "stdout",
     "output_type": "stream",
     "text": [
      "features_to_image.3.weight\n",
      "features_to_image.5.weight\n",
      "torch.Size([32])\n",
      "features_to_image.6.weight\n",
      "features_to_image.8.weight\n",
      "features_to_image.9.weight\n"
     ]
    },
    {
     "name": "stderr",
     "output_type": "stream",
     "text": [
      "Clipping input data to the valid range for imshow with RGB data ([0..1] for floats or [0..255] for integers).\n"
     ]
    },
    {
     "name": "stdout",
     "output_type": "stream",
     "text": [
      "features_to_image.3.weight\n",
      "features_to_image.5.weight\n",
      "torch.Size([32])\n",
      "features_to_image.6.weight\n",
      "features_to_image.8.weight\n",
      "features_to_image.9.weight\n",
      "features_to_image.3.weight\n",
      "features_to_image.5.weight\n",
      "torch.Size([32])\n",
      "features_to_image.6.weight\n",
      "features_to_image.8.weight\n",
      "features_to_image.9.weight\n",
      "features_to_image.3.weight\n",
      "features_to_image.5.weight\n",
      "torch.Size([32])\n",
      "features_to_image.6.weight\n",
      "features_to_image.8.weight\n",
      "features_to_image.9.weight\n",
      "features_to_image.3.weight\n",
      "features_to_image.5.weight\n",
      "torch.Size([32])\n",
      "features_to_image.6.weight\n",
      "features_to_image.8.weight\n",
      "features_to_image.9.weight\n",
      "features_to_image.3.weight\n",
      "features_to_image.5.weight\n",
      "torch.Size([32])\n",
      "features_to_image.6.weight\n",
      "features_to_image.8.weight\n",
      "features_to_image.9.weight\n",
      "features_to_image.3.weight\n",
      "features_to_image.5.weight\n",
      "torch.Size([32])\n",
      "features_to_image.6.weight\n",
      "features_to_image.8.weight\n",
      "features_to_image.9.weight\n",
      "features_to_image.3.weight\n",
      "features_to_image.5.weight\n",
      "torch.Size([32])\n",
      "features_to_image.6.weight\n",
      "features_to_image.8.weight\n",
      "features_to_image.9.weight\n",
      "features_to_image.3.weight\n",
      "features_to_image.5.weight\n",
      "torch.Size([32])\n",
      "features_to_image.6.weight\n",
      "features_to_image.8.weight\n",
      "features_to_image.9.weight\n",
      "features_to_image.3.weight\n",
      "features_to_image.5.weight\n",
      "torch.Size([32])\n",
      "features_to_image.6.weight\n",
      "features_to_image.8.weight\n",
      "features_to_image.9.weight\n",
      "features_to_image.3.weight\n",
      "features_to_image.5.weight\n",
      "torch.Size([32])\n",
      "features_to_image.6.weight\n",
      "features_to_image.8.weight\n",
      "features_to_image.9.weight\n",
      "features_to_image.3.weight\n",
      "features_to_image.5.weight\n",
      "torch.Size([32])\n",
      "features_to_image.6.weight\n",
      "features_to_image.8.weight\n",
      "features_to_image.9.weight\n"
     ]
    },
    {
     "name": "stderr",
     "output_type": "stream",
     "text": [
      "Clipping input data to the valid range for imshow with RGB data ([0..1] for floats or [0..255] for integers).\n"
     ]
    },
    {
     "name": "stdout",
     "output_type": "stream",
     "text": [
      "features_to_image.3.weight\n",
      "features_to_image.5.weight\n",
      "torch.Size([32])\n",
      "features_to_image.6.weight\n",
      "features_to_image.8.weight\n",
      "features_to_image.9.weight\n"
     ]
    },
    {
     "name": "stderr",
     "output_type": "stream",
     "text": [
      "Clipping input data to the valid range for imshow with RGB data ([0..1] for floats or [0..255] for integers).\n"
     ]
    },
    {
     "name": "stdout",
     "output_type": "stream",
     "text": [
      "features_to_image.3.weight\n",
      "features_to_image.5.weight\n",
      "torch.Size([32])\n",
      "features_to_image.6.weight\n",
      "features_to_image.8.weight\n",
      "features_to_image.9.weight\n"
     ]
    },
    {
     "name": "stderr",
     "output_type": "stream",
     "text": [
      "Clipping input data to the valid range for imshow with RGB data ([0..1] for floats or [0..255] for integers).\n"
     ]
    },
    {
     "name": "stdout",
     "output_type": "stream",
     "text": [
      "features_to_image.3.weight\n",
      "features_to_image.5.weight\n",
      "torch.Size([32])\n",
      "features_to_image.6.weight\n",
      "features_to_image.8.weight\n",
      "features_to_image.9.weight\n"
     ]
    },
    {
     "name": "stderr",
     "output_type": "stream",
     "text": [
      "Clipping input data to the valid range for imshow with RGB data ([0..1] for floats or [0..255] for integers).\n"
     ]
    },
    {
     "name": "stdout",
     "output_type": "stream",
     "text": [
      "features_to_image.3.weight\n",
      "features_to_image.5.weight\n",
      "torch.Size([32])\n",
      "features_to_image.6.weight\n",
      "features_to_image.8.weight\n",
      "features_to_image.9.weight\n"
     ]
    },
    {
     "name": "stderr",
     "output_type": "stream",
     "text": [
      "Clipping input data to the valid range for imshow with RGB data ([0..1] for floats or [0..255] for integers).\n"
     ]
    },
    {
     "name": "stdout",
     "output_type": "stream",
     "text": [
      "features_to_image.3.weight\n",
      "features_to_image.5.weight\n",
      "torch.Size([32])\n",
      "features_to_image.6.weight\n",
      "features_to_image.8.weight\n",
      "features_to_image.9.weight\n"
     ]
    },
    {
     "name": "stderr",
     "output_type": "stream",
     "text": [
      "Clipping input data to the valid range for imshow with RGB data ([0..1] for floats or [0..255] for integers).\n"
     ]
    },
    {
     "name": "stdout",
     "output_type": "stream",
     "text": [
      "features_to_image.3.weight\n",
      "features_to_image.5.weight\n",
      "torch.Size([32])\n",
      "features_to_image.6.weight\n",
      "features_to_image.8.weight\n",
      "features_to_image.9.weight\n"
     ]
    },
    {
     "name": "stderr",
     "output_type": "stream",
     "text": [
      "Clipping input data to the valid range for imshow with RGB data ([0..1] for floats or [0..255] for integers).\n"
     ]
    },
    {
     "name": "stdout",
     "output_type": "stream",
     "text": [
      "features_to_image.3.weight\n",
      "features_to_image.5.weight\n",
      "torch.Size([32])\n",
      "features_to_image.6.weight\n",
      "features_to_image.8.weight\n",
      "features_to_image.9.weight\n"
     ]
    },
    {
     "name": "stderr",
     "output_type": "stream",
     "text": [
      "Clipping input data to the valid range for imshow with RGB data ([0..1] for floats or [0..255] for integers).\n"
     ]
    },
    {
     "name": "stdout",
     "output_type": "stream",
     "text": [
      "features_to_image.3.weight\n",
      "features_to_image.5.weight\n",
      "torch.Size([32])\n",
      "features_to_image.6.weight\n",
      "features_to_image.8.weight\n",
      "features_to_image.9.weight\n"
     ]
    },
    {
     "name": "stderr",
     "output_type": "stream",
     "text": [
      "Clipping input data to the valid range for imshow with RGB data ([0..1] for floats or [0..255] for integers).\n"
     ]
    },
    {
     "name": "stdout",
     "output_type": "stream",
     "text": [
      "features_to_image.3.weight\n",
      "features_to_image.5.weight\n",
      "torch.Size([32])\n",
      "features_to_image.6.weight\n",
      "features_to_image.8.weight\n",
      "features_to_image.9.weight\n"
     ]
    },
    {
     "name": "stderr",
     "output_type": "stream",
     "text": [
      "Clipping input data to the valid range for imshow with RGB data ([0..1] for floats or [0..255] for integers).\n"
     ]
    },
    {
     "name": "stdout",
     "output_type": "stream",
     "text": [
      "6\n",
      "conv3\n",
      "16\n",
      "features_to_image.3.weight\n",
      "features_to_image.5.weight\n",
      "features_to_image.6.weight\n",
      "torch.Size([32, 16, 4, 4])\n",
      "features_to_image.8.weight\n",
      "features_to_image.9.weight\n"
     ]
    },
    {
     "name": "stderr",
     "output_type": "stream",
     "text": [
      "Clipping input data to the valid range for imshow with RGB data ([0..1] for floats or [0..255] for integers).\n"
     ]
    },
    {
     "name": "stdout",
     "output_type": "stream",
     "text": [
      "features_to_image.3.weight\n",
      "features_to_image.5.weight\n",
      "features_to_image.6.weight\n",
      "torch.Size([32, 16, 4, 4])\n",
      "features_to_image.8.weight\n",
      "features_to_image.9.weight\n"
     ]
    },
    {
     "name": "stderr",
     "output_type": "stream",
     "text": [
      "Clipping input data to the valid range for imshow with RGB data ([0..1] for floats or [0..255] for integers).\n"
     ]
    },
    {
     "name": "stdout",
     "output_type": "stream",
     "text": [
      "features_to_image.3.weight\n",
      "features_to_image.5.weight\n",
      "features_to_image.6.weight\n",
      "torch.Size([32, 16, 4, 4])\n",
      "features_to_image.8.weight\n",
      "features_to_image.9.weight\n"
     ]
    },
    {
     "name": "stderr",
     "output_type": "stream",
     "text": [
      "Clipping input data to the valid range for imshow with RGB data ([0..1] for floats or [0..255] for integers).\n"
     ]
    },
    {
     "name": "stdout",
     "output_type": "stream",
     "text": [
      "features_to_image.3.weight\n",
      "features_to_image.5.weight\n",
      "features_to_image.6.weight\n",
      "torch.Size([32, 16, 4, 4])\n",
      "features_to_image.8.weight\n",
      "features_to_image.9.weight\n"
     ]
    },
    {
     "name": "stderr",
     "output_type": "stream",
     "text": [
      "Clipping input data to the valid range for imshow with RGB data ([0..1] for floats or [0..255] for integers).\n"
     ]
    },
    {
     "name": "stdout",
     "output_type": "stream",
     "text": [
      "features_to_image.3.weight\n",
      "features_to_image.5.weight\n",
      "features_to_image.6.weight\n",
      "torch.Size([32, 16, 4, 4])\n",
      "features_to_image.8.weight\n",
      "features_to_image.9.weight\n"
     ]
    },
    {
     "name": "stderr",
     "output_type": "stream",
     "text": [
      "Clipping input data to the valid range for imshow with RGB data ([0..1] for floats or [0..255] for integers).\n"
     ]
    },
    {
     "name": "stdout",
     "output_type": "stream",
     "text": [
      "features_to_image.3.weight\n",
      "features_to_image.5.weight\n",
      "features_to_image.6.weight\n",
      "torch.Size([32, 16, 4, 4])\n",
      "features_to_image.8.weight\n",
      "features_to_image.9.weight\n"
     ]
    },
    {
     "name": "stderr",
     "output_type": "stream",
     "text": [
      "Clipping input data to the valid range for imshow with RGB data ([0..1] for floats or [0..255] for integers).\n"
     ]
    },
    {
     "name": "stdout",
     "output_type": "stream",
     "text": [
      "features_to_image.3.weight\n",
      "features_to_image.5.weight\n",
      "features_to_image.6.weight\n",
      "torch.Size([32, 16, 4, 4])\n",
      "features_to_image.8.weight\n",
      "features_to_image.9.weight\n"
     ]
    },
    {
     "name": "stderr",
     "output_type": "stream",
     "text": [
      "Clipping input data to the valid range for imshow with RGB data ([0..1] for floats or [0..255] for integers).\n"
     ]
    },
    {
     "name": "stdout",
     "output_type": "stream",
     "text": [
      "features_to_image.3.weight\n",
      "features_to_image.5.weight\n",
      "features_to_image.6.weight\n",
      "torch.Size([32, 16, 4, 4])\n",
      "features_to_image.8.weight\n",
      "features_to_image.9.weight\n"
     ]
    },
    {
     "name": "stderr",
     "output_type": "stream",
     "text": [
      "Clipping input data to the valid range for imshow with RGB data ([0..1] for floats or [0..255] for integers).\n"
     ]
    },
    {
     "name": "stdout",
     "output_type": "stream",
     "text": [
      "features_to_image.3.weight\n",
      "features_to_image.5.weight\n",
      "features_to_image.6.weight\n",
      "torch.Size([32, 16, 4, 4])\n",
      "features_to_image.8.weight\n",
      "features_to_image.9.weight\n"
     ]
    },
    {
     "name": "stderr",
     "output_type": "stream",
     "text": [
      "Clipping input data to the valid range for imshow with RGB data ([0..1] for floats or [0..255] for integers).\n"
     ]
    },
    {
     "name": "stdout",
     "output_type": "stream",
     "text": [
      "features_to_image.3.weight\n",
      "features_to_image.5.weight\n",
      "features_to_image.6.weight\n",
      "torch.Size([32, 16, 4, 4])\n",
      "features_to_image.8.weight\n",
      "features_to_image.9.weight\n"
     ]
    },
    {
     "name": "stderr",
     "output_type": "stream",
     "text": [
      "Clipping input data to the valid range for imshow with RGB data ([0..1] for floats or [0..255] for integers).\n"
     ]
    },
    {
     "name": "stdout",
     "output_type": "stream",
     "text": [
      "features_to_image.3.weight\n",
      "features_to_image.5.weight\n",
      "features_to_image.6.weight\n",
      "torch.Size([32, 16, 4, 4])\n",
      "features_to_image.8.weight\n",
      "features_to_image.9.weight\n",
      "features_to_image.3.weight\n",
      "features_to_image.5.weight\n",
      "features_to_image.6.weight\n",
      "torch.Size([32, 16, 4, 4])\n",
      "features_to_image.8.weight\n",
      "features_to_image.9.weight\n",
      "features_to_image.3.weight\n",
      "features_to_image.5.weight\n",
      "features_to_image.6.weight\n",
      "torch.Size([32, 16, 4, 4])\n",
      "features_to_image.8.weight\n",
      "features_to_image.9.weight\n",
      "features_to_image.3.weight\n",
      "features_to_image.5.weight\n",
      "features_to_image.6.weight\n",
      "torch.Size([32, 16, 4, 4])\n",
      "features_to_image.8.weight\n",
      "features_to_image.9.weight\n",
      "features_to_image.3.weight\n",
      "features_to_image.5.weight\n",
      "features_to_image.6.weight\n",
      "torch.Size([32, 16, 4, 4])\n",
      "features_to_image.8.weight\n",
      "features_to_image.9.weight\n",
      "features_to_image.3.weight\n",
      "features_to_image.5.weight\n",
      "features_to_image.6.weight\n",
      "torch.Size([32, 16, 4, 4])\n",
      "features_to_image.8.weight\n",
      "features_to_image.9.weight\n",
      "features_to_image.3.weight\n",
      "features_to_image.5.weight\n",
      "features_to_image.6.weight\n",
      "torch.Size([32, 16, 4, 4])\n",
      "features_to_image.8.weight\n",
      "features_to_image.9.weight\n",
      "features_to_image.3.weight\n",
      "features_to_image.5.weight\n",
      "features_to_image.6.weight\n",
      "torch.Size([32, 16, 4, 4])\n",
      "features_to_image.8.weight\n",
      "features_to_image.9.weight\n",
      "features_to_image.3.weight\n",
      "features_to_image.5.weight\n",
      "features_to_image.6.weight\n",
      "torch.Size([32, 16, 4, 4])\n",
      "features_to_image.8.weight\n",
      "features_to_image.9.weight\n",
      "features_to_image.3.weight\n",
      "features_to_image.5.weight\n",
      "features_to_image.6.weight\n",
      "torch.Size([32, 16, 4, 4])\n",
      "features_to_image.8.weight\n",
      "features_to_image.9.weight\n",
      "features_to_image.3.weight\n",
      "features_to_image.5.weight\n",
      "features_to_image.6.weight\n",
      "torch.Size([32, 16, 4, 4])\n",
      "features_to_image.8.weight\n",
      "features_to_image.9.weight\n",
      "features_to_image.3.weight\n",
      "features_to_image.5.weight\n",
      "features_to_image.6.weight\n",
      "torch.Size([32, 16, 4, 4])\n",
      "features_to_image.8.weight\n",
      "features_to_image.9.weight\n",
      "features_to_image.3.weight\n",
      "features_to_image.5.weight\n",
      "features_to_image.6.weight\n",
      "torch.Size([32, 16, 4, 4])\n",
      "features_to_image.8.weight\n",
      "features_to_image.9.weight\n",
      "features_to_image.3.weight\n",
      "features_to_image.5.weight\n",
      "features_to_image.6.weight\n",
      "torch.Size([32, 16, 4, 4])\n",
      "features_to_image.8.weight\n",
      "features_to_image.9.weight\n",
      "features_to_image.3.weight\n",
      "features_to_image.5.weight\n",
      "features_to_image.6.weight\n",
      "torch.Size([32, 16, 4, 4])\n",
      "features_to_image.8.weight\n",
      "features_to_image.9.weight\n",
      "features_to_image.3.weight\n",
      "features_to_image.5.weight\n",
      "features_to_image.6.weight\n",
      "torch.Size([32, 16, 4, 4])\n",
      "features_to_image.8.weight\n",
      "features_to_image.9.weight\n",
      "features_to_image.3.weight\n",
      "features_to_image.5.weight\n",
      "features_to_image.6.weight\n",
      "torch.Size([32, 16, 4, 4])\n",
      "features_to_image.8.weight\n",
      "features_to_image.9.weight\n",
      "features_to_image.3.weight\n",
      "features_to_image.5.weight\n",
      "features_to_image.6.weight\n",
      "torch.Size([32, 16, 4, 4])\n",
      "features_to_image.8.weight\n",
      "features_to_image.9.weight\n",
      "features_to_image.3.weight\n",
      "features_to_image.5.weight\n",
      "features_to_image.6.weight\n",
      "torch.Size([32, 16, 4, 4])\n",
      "features_to_image.8.weight\n",
      "features_to_image.9.weight\n",
      "features_to_image.3.weight\n",
      "features_to_image.5.weight\n",
      "features_to_image.6.weight\n",
      "torch.Size([32, 16, 4, 4])\n",
      "features_to_image.8.weight\n",
      "features_to_image.9.weight\n",
      "features_to_image.3.weight\n",
      "features_to_image.5.weight\n",
      "features_to_image.6.weight\n",
      "torch.Size([32, 16, 4, 4])\n",
      "features_to_image.8.weight\n",
      "features_to_image.9.weight\n"
     ]
    },
    {
     "name": "stderr",
     "output_type": "stream",
     "text": [
      "Clipping input data to the valid range for imshow with RGB data ([0..1] for floats or [0..255] for integers).\n"
     ]
    },
    {
     "name": "stdout",
     "output_type": "stream",
     "text": [
      "features_to_image.3.weight\n",
      "features_to_image.5.weight\n",
      "features_to_image.6.weight\n",
      "torch.Size([32, 16, 4, 4])\n",
      "features_to_image.8.weight\n",
      "features_to_image.9.weight\n"
     ]
    },
    {
     "name": "stderr",
     "output_type": "stream",
     "text": [
      "Clipping input data to the valid range for imshow with RGB data ([0..1] for floats or [0..255] for integers).\n"
     ]
    },
    {
     "name": "stdout",
     "output_type": "stream",
     "text": [
      "features_to_image.3.weight\n",
      "features_to_image.5.weight\n",
      "features_to_image.6.weight\n",
      "torch.Size([32, 16, 4, 4])\n",
      "features_to_image.8.weight\n",
      "features_to_image.9.weight\n"
     ]
    },
    {
     "name": "stderr",
     "output_type": "stream",
     "text": [
      "Clipping input data to the valid range for imshow with RGB data ([0..1] for floats or [0..255] for integers).\n"
     ]
    },
    {
     "name": "stdout",
     "output_type": "stream",
     "text": [
      "features_to_image.3.weight\n",
      "features_to_image.5.weight\n",
      "features_to_image.6.weight\n",
      "torch.Size([32, 16, 4, 4])\n",
      "features_to_image.8.weight\n",
      "features_to_image.9.weight\n"
     ]
    },
    {
     "name": "stderr",
     "output_type": "stream",
     "text": [
      "Clipping input data to the valid range for imshow with RGB data ([0..1] for floats or [0..255] for integers).\n"
     ]
    },
    {
     "name": "stdout",
     "output_type": "stream",
     "text": [
      "features_to_image.3.weight\n",
      "features_to_image.5.weight\n",
      "features_to_image.6.weight\n",
      "torch.Size([32, 16, 4, 4])\n",
      "features_to_image.8.weight\n",
      "features_to_image.9.weight\n"
     ]
    },
    {
     "name": "stderr",
     "output_type": "stream",
     "text": [
      "Clipping input data to the valid range for imshow with RGB data ([0..1] for floats or [0..255] for integers).\n"
     ]
    },
    {
     "name": "stdout",
     "output_type": "stream",
     "text": [
      "features_to_image.3.weight\n",
      "features_to_image.5.weight\n",
      "features_to_image.6.weight\n",
      "torch.Size([32, 16, 4, 4])\n",
      "features_to_image.8.weight\n",
      "features_to_image.9.weight\n"
     ]
    },
    {
     "name": "stderr",
     "output_type": "stream",
     "text": [
      "Clipping input data to the valid range for imshow with RGB data ([0..1] for floats or [0..255] for integers).\n"
     ]
    },
    {
     "name": "stdout",
     "output_type": "stream",
     "text": [
      "features_to_image.3.weight\n",
      "features_to_image.5.weight\n",
      "features_to_image.6.weight\n",
      "torch.Size([32, 16, 4, 4])\n",
      "features_to_image.8.weight\n",
      "features_to_image.9.weight\n"
     ]
    },
    {
     "name": "stderr",
     "output_type": "stream",
     "text": [
      "Clipping input data to the valid range for imshow with RGB data ([0..1] for floats or [0..255] for integers).\n"
     ]
    },
    {
     "name": "stdout",
     "output_type": "stream",
     "text": [
      "features_to_image.3.weight\n",
      "features_to_image.5.weight\n",
      "features_to_image.6.weight\n",
      "torch.Size([32, 16, 4, 4])\n",
      "features_to_image.8.weight\n",
      "features_to_image.9.weight\n"
     ]
    },
    {
     "name": "stderr",
     "output_type": "stream",
     "text": [
      "Clipping input data to the valid range for imshow with RGB data ([0..1] for floats or [0..255] for integers).\n"
     ]
    },
    {
     "name": "stdout",
     "output_type": "stream",
     "text": [
      "features_to_image.3.weight\n",
      "features_to_image.5.weight\n",
      "features_to_image.6.weight\n",
      "torch.Size([32, 16, 4, 4])\n",
      "features_to_image.8.weight\n",
      "features_to_image.9.weight\n"
     ]
    },
    {
     "name": "stderr",
     "output_type": "stream",
     "text": [
      "Clipping input data to the valid range for imshow with RGB data ([0..1] for floats or [0..255] for integers).\n"
     ]
    },
    {
     "name": "stdout",
     "output_type": "stream",
     "text": [
      "features_to_image.3.weight\n",
      "features_to_image.5.weight\n",
      "features_to_image.6.weight\n",
      "torch.Size([32, 16, 4, 4])\n",
      "features_to_image.8.weight\n",
      "features_to_image.9.weight\n"
     ]
    },
    {
     "name": "stderr",
     "output_type": "stream",
     "text": [
      "Clipping input data to the valid range for imshow with RGB data ([0..1] for floats or [0..255] for integers).\n"
     ]
    },
    {
     "name": "stdout",
     "output_type": "stream",
     "text": [
      "features_to_image.3.weight\n",
      "features_to_image.5.weight\n",
      "features_to_image.6.weight\n",
      "torch.Size([32, 16, 4, 4])\n",
      "features_to_image.8.weight\n",
      "features_to_image.9.weight\n"
     ]
    },
    {
     "name": "stderr",
     "output_type": "stream",
     "text": [
      "Clipping input data to the valid range for imshow with RGB data ([0..1] for floats or [0..255] for integers).\n"
     ]
    },
    {
     "name": "stdout",
     "output_type": "stream",
     "text": [
      "features_to_image.3.weight\n",
      "features_to_image.5.weight\n",
      "features_to_image.6.weight\n",
      "torch.Size([32, 16, 4, 4])\n",
      "features_to_image.8.weight\n",
      "features_to_image.9.weight\n"
     ]
    },
    {
     "name": "stderr",
     "output_type": "stream",
     "text": [
      "Clipping input data to the valid range for imshow with RGB data ([0..1] for floats or [0..255] for integers).\n"
     ]
    },
    {
     "name": "stdout",
     "output_type": "stream",
     "text": [
      "features_to_image.3.weight\n",
      "features_to_image.5.weight\n",
      "features_to_image.6.weight\n",
      "torch.Size([32, 16, 4, 4])\n",
      "features_to_image.8.weight\n",
      "features_to_image.9.weight\n"
     ]
    },
    {
     "name": "stderr",
     "output_type": "stream",
     "text": [
      "Clipping input data to the valid range for imshow with RGB data ([0..1] for floats or [0..255] for integers).\n"
     ]
    },
    {
     "name": "stdout",
     "output_type": "stream",
     "text": [
      "features_to_image.3.weight\n",
      "features_to_image.5.weight\n",
      "features_to_image.6.weight\n",
      "torch.Size([32, 16, 4, 4])\n",
      "features_to_image.8.weight\n",
      "features_to_image.9.weight\n"
     ]
    },
    {
     "name": "stderr",
     "output_type": "stream",
     "text": [
      "Clipping input data to the valid range for imshow with RGB data ([0..1] for floats or [0..255] for integers).\n"
     ]
    },
    {
     "name": "stdout",
     "output_type": "stream",
     "text": [
      "features_to_image.3.weight\n",
      "features_to_image.5.weight\n",
      "features_to_image.6.weight\n",
      "torch.Size([32, 16, 4, 4])\n",
      "features_to_image.8.weight\n",
      "features_to_image.9.weight\n"
     ]
    },
    {
     "name": "stderr",
     "output_type": "stream",
     "text": [
      "Clipping input data to the valid range for imshow with RGB data ([0..1] for floats or [0..255] for integers).\n"
     ]
    },
    {
     "name": "stdout",
     "output_type": "stream",
     "text": [
      "features_to_image.3.weight\n",
      "features_to_image.5.weight\n",
      "features_to_image.6.weight\n",
      "torch.Size([32, 16, 4, 4])\n",
      "features_to_image.8.weight\n",
      "features_to_image.9.weight\n"
     ]
    },
    {
     "name": "stderr",
     "output_type": "stream",
     "text": [
      "Clipping input data to the valid range for imshow with RGB data ([0..1] for floats or [0..255] for integers).\n"
     ]
    },
    {
     "name": "stdout",
     "output_type": "stream",
     "text": [
      "features_to_image.3.weight\n",
      "features_to_image.5.weight\n",
      "features_to_image.6.weight\n",
      "torch.Size([32, 16, 4, 4])\n",
      "features_to_image.8.weight\n",
      "features_to_image.9.weight\n"
     ]
    },
    {
     "name": "stderr",
     "output_type": "stream",
     "text": [
      "Clipping input data to the valid range for imshow with RGB data ([0..1] for floats or [0..255] for integers).\n"
     ]
    },
    {
     "name": "stdout",
     "output_type": "stream",
     "text": [
      "features_to_image.3.weight\n",
      "features_to_image.5.weight\n",
      "features_to_image.6.weight\n",
      "torch.Size([32, 16, 4, 4])\n",
      "features_to_image.8.weight\n",
      "features_to_image.9.weight\n"
     ]
    },
    {
     "name": "stderr",
     "output_type": "stream",
     "text": [
      "Clipping input data to the valid range for imshow with RGB data ([0..1] for floats or [0..255] for integers).\n"
     ]
    },
    {
     "name": "stdout",
     "output_type": "stream",
     "text": [
      "features_to_image.3.weight\n",
      "features_to_image.5.weight\n",
      "features_to_image.6.weight\n",
      "torch.Size([32, 16, 4, 4])\n",
      "features_to_image.8.weight\n",
      "features_to_image.9.weight\n"
     ]
    },
    {
     "name": "stderr",
     "output_type": "stream",
     "text": [
      "Clipping input data to the valid range for imshow with RGB data ([0..1] for floats or [0..255] for integers).\n"
     ]
    },
    {
     "name": "stdout",
     "output_type": "stream",
     "text": [
      "features_to_image.3.weight\n",
      "features_to_image.5.weight\n",
      "features_to_image.6.weight\n",
      "torch.Size([32, 16, 4, 4])\n",
      "features_to_image.8.weight\n",
      "features_to_image.9.weight\n"
     ]
    },
    {
     "name": "stderr",
     "output_type": "stream",
     "text": [
      "Clipping input data to the valid range for imshow with RGB data ([0..1] for floats or [0..255] for integers).\n"
     ]
    },
    {
     "name": "stdout",
     "output_type": "stream",
     "text": [
      "features_to_image.3.weight\n",
      "features_to_image.5.weight\n",
      "features_to_image.6.weight\n",
      "torch.Size([32, 16, 4, 4])\n",
      "features_to_image.8.weight\n",
      "features_to_image.9.weight\n",
      "features_to_image.3.weight\n",
      "features_to_image.5.weight\n",
      "features_to_image.6.weight\n",
      "torch.Size([32, 16, 4, 4])\n",
      "features_to_image.8.weight\n",
      "features_to_image.9.weight\n",
      "features_to_image.3.weight\n",
      "features_to_image.5.weight\n",
      "features_to_image.6.weight\n",
      "torch.Size([32, 16, 4, 4])\n",
      "features_to_image.8.weight\n",
      "features_to_image.9.weight\n",
      "features_to_image.3.weight\n",
      "features_to_image.5.weight\n",
      "features_to_image.6.weight\n",
      "torch.Size([32, 16, 4, 4])\n",
      "features_to_image.8.weight\n",
      "features_to_image.9.weight\n",
      "features_to_image.3.weight\n",
      "features_to_image.5.weight\n",
      "features_to_image.6.weight\n",
      "torch.Size([32, 16, 4, 4])\n",
      "features_to_image.8.weight\n",
      "features_to_image.9.weight\n",
      "features_to_image.3.weight\n",
      "features_to_image.5.weight\n",
      "features_to_image.6.weight\n",
      "torch.Size([32, 16, 4, 4])\n",
      "features_to_image.8.weight\n",
      "features_to_image.9.weight\n",
      "features_to_image.3.weight\n",
      "features_to_image.5.weight\n",
      "features_to_image.6.weight\n",
      "torch.Size([32, 16, 4, 4])\n",
      "features_to_image.8.weight\n",
      "features_to_image.9.weight\n",
      "features_to_image.3.weight\n",
      "features_to_image.5.weight\n",
      "features_to_image.6.weight\n",
      "torch.Size([32, 16, 4, 4])\n",
      "features_to_image.8.weight\n",
      "features_to_image.9.weight\n",
      "features_to_image.3.weight\n",
      "features_to_image.5.weight\n",
      "features_to_image.6.weight\n",
      "torch.Size([32, 16, 4, 4])\n",
      "features_to_image.8.weight\n",
      "features_to_image.9.weight\n",
      "features_to_image.3.weight\n",
      "features_to_image.5.weight\n",
      "features_to_image.6.weight\n",
      "torch.Size([32, 16, 4, 4])\n",
      "features_to_image.8.weight\n",
      "features_to_image.9.weight\n",
      "features_to_image.3.weight\n",
      "features_to_image.5.weight\n",
      "features_to_image.6.weight\n",
      "torch.Size([32, 16, 4, 4])\n",
      "features_to_image.8.weight\n",
      "features_to_image.9.weight\n",
      "features_to_image.3.weight\n",
      "features_to_image.5.weight\n",
      "features_to_image.6.weight\n",
      "torch.Size([32, 16, 4, 4])\n",
      "features_to_image.8.weight\n",
      "features_to_image.9.weight\n",
      "features_to_image.3.weight\n",
      "features_to_image.5.weight\n",
      "features_to_image.6.weight\n",
      "torch.Size([32, 16, 4, 4])\n",
      "features_to_image.8.weight\n",
      "features_to_image.9.weight\n",
      "features_to_image.3.weight\n",
      "features_to_image.5.weight\n",
      "features_to_image.6.weight\n",
      "torch.Size([32, 16, 4, 4])\n",
      "features_to_image.8.weight\n",
      "features_to_image.9.weight\n",
      "features_to_image.3.weight\n",
      "features_to_image.5.weight\n",
      "features_to_image.6.weight\n",
      "torch.Size([32, 16, 4, 4])\n",
      "features_to_image.8.weight\n",
      "features_to_image.9.weight\n",
      "features_to_image.3.weight\n",
      "features_to_image.5.weight\n",
      "features_to_image.6.weight\n",
      "torch.Size([32, 16, 4, 4])\n",
      "features_to_image.8.weight\n",
      "features_to_image.9.weight\n",
      "features_to_image.3.weight\n",
      "features_to_image.5.weight\n",
      "features_to_image.6.weight\n",
      "torch.Size([32, 16, 4, 4])\n",
      "features_to_image.8.weight\n",
      "features_to_image.9.weight\n",
      "features_to_image.3.weight\n",
      "features_to_image.5.weight\n",
      "features_to_image.6.weight\n",
      "torch.Size([32, 16, 4, 4])\n",
      "features_to_image.8.weight\n",
      "features_to_image.9.weight\n",
      "features_to_image.3.weight\n",
      "features_to_image.5.weight\n",
      "features_to_image.6.weight\n",
      "torch.Size([32, 16, 4, 4])\n",
      "features_to_image.8.weight\n",
      "features_to_image.9.weight\n",
      "features_to_image.3.weight\n",
      "features_to_image.5.weight\n",
      "features_to_image.6.weight\n",
      "torch.Size([32, 16, 4, 4])\n",
      "features_to_image.8.weight\n",
      "features_to_image.9.weight\n",
      "features_to_image.3.weight\n",
      "features_to_image.5.weight\n",
      "features_to_image.6.weight\n",
      "torch.Size([32, 16, 4, 4])\n",
      "features_to_image.8.weight\n",
      "features_to_image.9.weight\n"
     ]
    },
    {
     "name": "stderr",
     "output_type": "stream",
     "text": [
      "Clipping input data to the valid range for imshow with RGB data ([0..1] for floats or [0..255] for integers).\n"
     ]
    },
    {
     "name": "stdout",
     "output_type": "stream",
     "text": [
      "features_to_image.3.weight\n",
      "features_to_image.5.weight\n",
      "features_to_image.6.weight\n",
      "torch.Size([32, 16, 4, 4])\n",
      "features_to_image.8.weight\n",
      "features_to_image.9.weight\n"
     ]
    },
    {
     "name": "stderr",
     "output_type": "stream",
     "text": [
      "Clipping input data to the valid range for imshow with RGB data ([0..1] for floats or [0..255] for integers).\n"
     ]
    },
    {
     "name": "stdout",
     "output_type": "stream",
     "text": [
      "features_to_image.3.weight\n",
      "features_to_image.5.weight\n",
      "features_to_image.6.weight\n",
      "torch.Size([32, 16, 4, 4])\n",
      "features_to_image.8.weight\n",
      "features_to_image.9.weight\n"
     ]
    },
    {
     "name": "stderr",
     "output_type": "stream",
     "text": [
      "Clipping input data to the valid range for imshow with RGB data ([0..1] for floats or [0..255] for integers).\n"
     ]
    },
    {
     "name": "stdout",
     "output_type": "stream",
     "text": [
      "features_to_image.3.weight\n",
      "features_to_image.5.weight\n",
      "features_to_image.6.weight\n",
      "torch.Size([32, 16, 4, 4])\n",
      "features_to_image.8.weight\n",
      "features_to_image.9.weight\n"
     ]
    },
    {
     "name": "stderr",
     "output_type": "stream",
     "text": [
      "Clipping input data to the valid range for imshow with RGB data ([0..1] for floats or [0..255] for integers).\n"
     ]
    },
    {
     "name": "stdout",
     "output_type": "stream",
     "text": [
      "features_to_image.3.weight\n",
      "features_to_image.5.weight\n",
      "features_to_image.6.weight\n",
      "torch.Size([32, 16, 4, 4])\n",
      "features_to_image.8.weight\n",
      "features_to_image.9.weight\n"
     ]
    },
    {
     "name": "stderr",
     "output_type": "stream",
     "text": [
      "Clipping input data to the valid range for imshow with RGB data ([0..1] for floats or [0..255] for integers).\n"
     ]
    },
    {
     "name": "stdout",
     "output_type": "stream",
     "text": [
      "features_to_image.3.weight\n",
      "features_to_image.5.weight\n",
      "features_to_image.6.weight\n",
      "torch.Size([32, 16, 4, 4])\n",
      "features_to_image.8.weight\n",
      "features_to_image.9.weight\n"
     ]
    },
    {
     "name": "stderr",
     "output_type": "stream",
     "text": [
      "Clipping input data to the valid range for imshow with RGB data ([0..1] for floats or [0..255] for integers).\n"
     ]
    },
    {
     "name": "stdout",
     "output_type": "stream",
     "text": [
      "features_to_image.3.weight\n",
      "features_to_image.5.weight\n",
      "features_to_image.6.weight\n",
      "torch.Size([32, 16, 4, 4])\n",
      "features_to_image.8.weight\n",
      "features_to_image.9.weight\n"
     ]
    },
    {
     "name": "stderr",
     "output_type": "stream",
     "text": [
      "Clipping input data to the valid range for imshow with RGB data ([0..1] for floats or [0..255] for integers).\n"
     ]
    },
    {
     "name": "stdout",
     "output_type": "stream",
     "text": [
      "features_to_image.3.weight\n",
      "features_to_image.5.weight\n",
      "features_to_image.6.weight\n",
      "torch.Size([32, 16, 4, 4])\n",
      "features_to_image.8.weight\n",
      "features_to_image.9.weight\n"
     ]
    },
    {
     "name": "stderr",
     "output_type": "stream",
     "text": [
      "Clipping input data to the valid range for imshow with RGB data ([0..1] for floats or [0..255] for integers).\n"
     ]
    },
    {
     "name": "stdout",
     "output_type": "stream",
     "text": [
      "features_to_image.3.weight\n",
      "features_to_image.5.weight\n",
      "features_to_image.6.weight\n",
      "torch.Size([32, 16, 4, 4])\n",
      "features_to_image.8.weight\n",
      "features_to_image.9.weight\n"
     ]
    },
    {
     "name": "stderr",
     "output_type": "stream",
     "text": [
      "Clipping input data to the valid range for imshow with RGB data ([0..1] for floats or [0..255] for integers).\n"
     ]
    },
    {
     "name": "stdout",
     "output_type": "stream",
     "text": [
      "features_to_image.3.weight\n",
      "features_to_image.5.weight\n",
      "features_to_image.6.weight\n",
      "torch.Size([32, 16, 4, 4])\n",
      "features_to_image.8.weight\n",
      "features_to_image.9.weight\n"
     ]
    },
    {
     "name": "stderr",
     "output_type": "stream",
     "text": [
      "Clipping input data to the valid range for imshow with RGB data ([0..1] for floats or [0..255] for integers).\n"
     ]
    },
    {
     "name": "stdout",
     "output_type": "stream",
     "text": [
      "features_to_image.3.weight\n",
      "features_to_image.5.weight\n",
      "features_to_image.6.weight\n",
      "torch.Size([32, 16, 4, 4])\n",
      "features_to_image.8.weight\n",
      "features_to_image.9.weight\n",
      "features_to_image.3.weight\n",
      "features_to_image.5.weight\n",
      "features_to_image.6.weight\n",
      "torch.Size([32, 16, 4, 4])\n",
      "features_to_image.8.weight\n",
      "features_to_image.9.weight\n",
      "features_to_image.3.weight\n",
      "features_to_image.5.weight\n",
      "features_to_image.6.weight\n",
      "torch.Size([32, 16, 4, 4])\n",
      "features_to_image.8.weight\n",
      "features_to_image.9.weight\n",
      "features_to_image.3.weight\n",
      "features_to_image.5.weight\n",
      "features_to_image.6.weight\n",
      "torch.Size([32, 16, 4, 4])\n",
      "features_to_image.8.weight\n",
      "features_to_image.9.weight\n",
      "features_to_image.3.weight\n",
      "features_to_image.5.weight\n",
      "features_to_image.6.weight\n",
      "torch.Size([32, 16, 4, 4])\n",
      "features_to_image.8.weight\n",
      "features_to_image.9.weight\n",
      "features_to_image.3.weight\n",
      "features_to_image.5.weight\n",
      "features_to_image.6.weight\n",
      "torch.Size([32, 16, 4, 4])\n",
      "features_to_image.8.weight\n",
      "features_to_image.9.weight\n",
      "features_to_image.3.weight\n",
      "features_to_image.5.weight\n",
      "features_to_image.6.weight\n",
      "torch.Size([32, 16, 4, 4])\n",
      "features_to_image.8.weight\n",
      "features_to_image.9.weight\n",
      "features_to_image.3.weight\n",
      "features_to_image.5.weight\n",
      "features_to_image.6.weight\n",
      "torch.Size([32, 16, 4, 4])\n",
      "features_to_image.8.weight\n",
      "features_to_image.9.weight\n",
      "features_to_image.3.weight\n",
      "features_to_image.5.weight\n",
      "features_to_image.6.weight\n",
      "torch.Size([32, 16, 4, 4])\n",
      "features_to_image.8.weight\n",
      "features_to_image.9.weight\n",
      "features_to_image.3.weight\n",
      "features_to_image.5.weight\n",
      "features_to_image.6.weight\n",
      "torch.Size([32, 16, 4, 4])\n",
      "features_to_image.8.weight\n",
      "features_to_image.9.weight\n",
      "features_to_image.3.weight\n",
      "features_to_image.5.weight\n",
      "features_to_image.6.weight\n",
      "torch.Size([32, 16, 4, 4])\n",
      "features_to_image.8.weight\n",
      "features_to_image.9.weight\n"
     ]
    },
    {
     "name": "stderr",
     "output_type": "stream",
     "text": [
      "Clipping input data to the valid range for imshow with RGB data ([0..1] for floats or [0..255] for integers).\n"
     ]
    },
    {
     "name": "stdout",
     "output_type": "stream",
     "text": [
      "features_to_image.3.weight\n",
      "features_to_image.5.weight\n",
      "features_to_image.6.weight\n",
      "torch.Size([32, 16, 4, 4])\n",
      "features_to_image.8.weight\n",
      "features_to_image.9.weight\n"
     ]
    },
    {
     "name": "stderr",
     "output_type": "stream",
     "text": [
      "Clipping input data to the valid range for imshow with RGB data ([0..1] for floats or [0..255] for integers).\n"
     ]
    },
    {
     "name": "stdout",
     "output_type": "stream",
     "text": [
      "features_to_image.3.weight\n",
      "features_to_image.5.weight\n",
      "features_to_image.6.weight\n",
      "torch.Size([32, 16, 4, 4])\n",
      "features_to_image.8.weight\n",
      "features_to_image.9.weight\n"
     ]
    },
    {
     "name": "stderr",
     "output_type": "stream",
     "text": [
      "Clipping input data to the valid range for imshow with RGB data ([0..1] for floats or [0..255] for integers).\n"
     ]
    },
    {
     "name": "stdout",
     "output_type": "stream",
     "text": [
      "features_to_image.3.weight\n",
      "features_to_image.5.weight\n",
      "features_to_image.6.weight\n",
      "torch.Size([32, 16, 4, 4])\n",
      "features_to_image.8.weight\n",
      "features_to_image.9.weight\n"
     ]
    },
    {
     "name": "stderr",
     "output_type": "stream",
     "text": [
      "Clipping input data to the valid range for imshow with RGB data ([0..1] for floats or [0..255] for integers).\n"
     ]
    },
    {
     "name": "stdout",
     "output_type": "stream",
     "text": [
      "features_to_image.3.weight\n",
      "features_to_image.5.weight\n",
      "features_to_image.6.weight\n",
      "torch.Size([32, 16, 4, 4])\n",
      "features_to_image.8.weight\n",
      "features_to_image.9.weight\n"
     ]
    },
    {
     "name": "stderr",
     "output_type": "stream",
     "text": [
      "Clipping input data to the valid range for imshow with RGB data ([0..1] for floats or [0..255] for integers).\n"
     ]
    },
    {
     "name": "stdout",
     "output_type": "stream",
     "text": [
      "features_to_image.3.weight\n",
      "features_to_image.5.weight\n",
      "features_to_image.6.weight\n",
      "torch.Size([32, 16, 4, 4])\n",
      "features_to_image.8.weight\n",
      "features_to_image.9.weight\n"
     ]
    },
    {
     "name": "stderr",
     "output_type": "stream",
     "text": [
      "Clipping input data to the valid range for imshow with RGB data ([0..1] for floats or [0..255] for integers).\n"
     ]
    },
    {
     "name": "stdout",
     "output_type": "stream",
     "text": [
      "features_to_image.3.weight\n",
      "features_to_image.5.weight\n",
      "features_to_image.6.weight\n",
      "torch.Size([32, 16, 4, 4])\n",
      "features_to_image.8.weight\n",
      "features_to_image.9.weight\n"
     ]
    },
    {
     "name": "stderr",
     "output_type": "stream",
     "text": [
      "Clipping input data to the valid range for imshow with RGB data ([0..1] for floats or [0..255] for integers).\n"
     ]
    },
    {
     "name": "stdout",
     "output_type": "stream",
     "text": [
      "features_to_image.3.weight\n",
      "features_to_image.5.weight\n",
      "features_to_image.6.weight\n",
      "torch.Size([32, 16, 4, 4])\n",
      "features_to_image.8.weight\n",
      "features_to_image.9.weight\n"
     ]
    },
    {
     "name": "stderr",
     "output_type": "stream",
     "text": [
      "Clipping input data to the valid range for imshow with RGB data ([0..1] for floats or [0..255] for integers).\n"
     ]
    },
    {
     "name": "stdout",
     "output_type": "stream",
     "text": [
      "features_to_image.3.weight\n",
      "features_to_image.5.weight\n",
      "features_to_image.6.weight\n",
      "torch.Size([32, 16, 4, 4])\n",
      "features_to_image.8.weight\n",
      "features_to_image.9.weight\n"
     ]
    },
    {
     "name": "stderr",
     "output_type": "stream",
     "text": [
      "Clipping input data to the valid range for imshow with RGB data ([0..1] for floats or [0..255] for integers).\n"
     ]
    },
    {
     "name": "stdout",
     "output_type": "stream",
     "text": [
      "features_to_image.3.weight\n",
      "features_to_image.5.weight\n",
      "features_to_image.6.weight\n",
      "torch.Size([32, 16, 4, 4])\n",
      "features_to_image.8.weight\n",
      "features_to_image.9.weight\n"
     ]
    },
    {
     "name": "stderr",
     "output_type": "stream",
     "text": [
      "Clipping input data to the valid range for imshow with RGB data ([0..1] for floats or [0..255] for integers).\n"
     ]
    },
    {
     "name": "stdout",
     "output_type": "stream",
     "text": [
      "features_to_image.3.weight\n",
      "features_to_image.5.weight\n",
      "features_to_image.6.weight\n",
      "torch.Size([32, 16, 4, 4])\n",
      "features_to_image.8.weight\n",
      "features_to_image.9.weight\n"
     ]
    },
    {
     "name": "stderr",
     "output_type": "stream",
     "text": [
      "Clipping input data to the valid range for imshow with RGB data ([0..1] for floats or [0..255] for integers).\n"
     ]
    },
    {
     "name": "stdout",
     "output_type": "stream",
     "text": [
      "features_to_image.3.weight\n",
      "features_to_image.5.weight\n",
      "features_to_image.6.weight\n",
      "torch.Size([32, 16, 4, 4])\n",
      "features_to_image.8.weight\n",
      "features_to_image.9.weight\n"
     ]
    },
    {
     "name": "stderr",
     "output_type": "stream",
     "text": [
      "Clipping input data to the valid range for imshow with RGB data ([0..1] for floats or [0..255] for integers).\n"
     ]
    },
    {
     "name": "stdout",
     "output_type": "stream",
     "text": [
      "features_to_image.3.weight\n",
      "features_to_image.5.weight\n",
      "features_to_image.6.weight\n",
      "torch.Size([32, 16, 4, 4])\n",
      "features_to_image.8.weight\n",
      "features_to_image.9.weight\n"
     ]
    },
    {
     "name": "stderr",
     "output_type": "stream",
     "text": [
      "Clipping input data to the valid range for imshow with RGB data ([0..1] for floats or [0..255] for integers).\n"
     ]
    },
    {
     "name": "stdout",
     "output_type": "stream",
     "text": [
      "features_to_image.3.weight\n",
      "features_to_image.5.weight\n",
      "features_to_image.6.weight\n",
      "torch.Size([32, 16, 4, 4])\n",
      "features_to_image.8.weight\n",
      "features_to_image.9.weight\n"
     ]
    },
    {
     "name": "stderr",
     "output_type": "stream",
     "text": [
      "Clipping input data to the valid range for imshow with RGB data ([0..1] for floats or [0..255] for integers).\n"
     ]
    },
    {
     "name": "stdout",
     "output_type": "stream",
     "text": [
      "features_to_image.3.weight\n",
      "features_to_image.5.weight\n",
      "features_to_image.6.weight\n",
      "torch.Size([32, 16, 4, 4])\n",
      "features_to_image.8.weight\n",
      "features_to_image.9.weight\n"
     ]
    },
    {
     "name": "stderr",
     "output_type": "stream",
     "text": [
      "Clipping input data to the valid range for imshow with RGB data ([0..1] for floats or [0..255] for integers).\n"
     ]
    },
    {
     "name": "stdout",
     "output_type": "stream",
     "text": [
      "features_to_image.3.weight\n",
      "features_to_image.5.weight\n",
      "features_to_image.6.weight\n",
      "torch.Size([32, 16, 4, 4])\n",
      "features_to_image.8.weight\n",
      "features_to_image.9.weight\n"
     ]
    },
    {
     "name": "stderr",
     "output_type": "stream",
     "text": [
      "Clipping input data to the valid range for imshow with RGB data ([0..1] for floats or [0..255] for integers).\n"
     ]
    },
    {
     "name": "stdout",
     "output_type": "stream",
     "text": [
      "features_to_image.3.weight\n",
      "features_to_image.5.weight\n",
      "features_to_image.6.weight\n",
      "torch.Size([32, 16, 4, 4])\n",
      "features_to_image.8.weight\n",
      "features_to_image.9.weight\n"
     ]
    },
    {
     "name": "stderr",
     "output_type": "stream",
     "text": [
      "Clipping input data to the valid range for imshow with RGB data ([0..1] for floats or [0..255] for integers).\n"
     ]
    },
    {
     "name": "stdout",
     "output_type": "stream",
     "text": [
      "features_to_image.3.weight\n",
      "features_to_image.5.weight\n",
      "features_to_image.6.weight\n",
      "torch.Size([32, 16, 4, 4])\n",
      "features_to_image.8.weight\n",
      "features_to_image.9.weight\n"
     ]
    },
    {
     "name": "stderr",
     "output_type": "stream",
     "text": [
      "Clipping input data to the valid range for imshow with RGB data ([0..1] for floats or [0..255] for integers).\n"
     ]
    },
    {
     "name": "stdout",
     "output_type": "stream",
     "text": [
      "features_to_image.3.weight\n",
      "features_to_image.5.weight\n",
      "features_to_image.6.weight\n",
      "torch.Size([32, 16, 4, 4])\n",
      "features_to_image.8.weight\n",
      "features_to_image.9.weight\n"
     ]
    },
    {
     "name": "stderr",
     "output_type": "stream",
     "text": [
      "Clipping input data to the valid range for imshow with RGB data ([0..1] for floats or [0..255] for integers).\n"
     ]
    },
    {
     "name": "stdout",
     "output_type": "stream",
     "text": [
      "features_to_image.3.weight\n",
      "features_to_image.5.weight\n",
      "features_to_image.6.weight\n",
      "torch.Size([32, 16, 4, 4])\n",
      "features_to_image.8.weight\n",
      "features_to_image.9.weight\n"
     ]
    },
    {
     "name": "stderr",
     "output_type": "stream",
     "text": [
      "Clipping input data to the valid range for imshow with RGB data ([0..1] for floats or [0..255] for integers).\n"
     ]
    },
    {
     "name": "stdout",
     "output_type": "stream",
     "text": [
      "features_to_image.3.weight\n",
      "features_to_image.5.weight\n",
      "features_to_image.6.weight\n",
      "torch.Size([32, 16, 4, 4])\n",
      "features_to_image.8.weight\n",
      "features_to_image.9.weight\n"
     ]
    },
    {
     "name": "stderr",
     "output_type": "stream",
     "text": [
      "Clipping input data to the valid range for imshow with RGB data ([0..1] for floats or [0..255] for integers).\n"
     ]
    },
    {
     "name": "stdout",
     "output_type": "stream",
     "text": [
      "features_to_image.3.weight\n",
      "features_to_image.5.weight\n",
      "features_to_image.6.weight\n",
      "torch.Size([32, 16, 4, 4])\n",
      "features_to_image.8.weight\n",
      "features_to_image.9.weight\n"
     ]
    },
    {
     "name": "stderr",
     "output_type": "stream",
     "text": [
      "Clipping input data to the valid range for imshow with RGB data ([0..1] for floats or [0..255] for integers).\n"
     ]
    },
    {
     "name": "stdout",
     "output_type": "stream",
     "text": [
      "features_to_image.3.weight\n",
      "features_to_image.5.weight\n",
      "features_to_image.6.weight\n",
      "torch.Size([32, 16, 4, 4])\n",
      "features_to_image.8.weight\n",
      "features_to_image.9.weight\n"
     ]
    },
    {
     "name": "stderr",
     "output_type": "stream",
     "text": [
      "Clipping input data to the valid range for imshow with RGB data ([0..1] for floats or [0..255] for integers).\n"
     ]
    },
    {
     "name": "stdout",
     "output_type": "stream",
     "text": [
      "features_to_image.3.weight\n",
      "features_to_image.5.weight\n",
      "features_to_image.6.weight\n",
      "torch.Size([32, 16, 4, 4])\n",
      "features_to_image.8.weight\n",
      "features_to_image.9.weight\n"
     ]
    },
    {
     "name": "stderr",
     "output_type": "stream",
     "text": [
      "Clipping input data to the valid range for imshow with RGB data ([0..1] for floats or [0..255] for integers).\n"
     ]
    },
    {
     "name": "stdout",
     "output_type": "stream",
     "text": [
      "features_to_image.3.weight\n",
      "features_to_image.5.weight\n",
      "features_to_image.6.weight\n",
      "torch.Size([32, 16, 4, 4])\n",
      "features_to_image.8.weight\n",
      "features_to_image.9.weight\n"
     ]
    },
    {
     "name": "stderr",
     "output_type": "stream",
     "text": [
      "Clipping input data to the valid range for imshow with RGB data ([0..1] for floats or [0..255] for integers).\n"
     ]
    },
    {
     "name": "stdout",
     "output_type": "stream",
     "text": [
      "features_to_image.3.weight\n",
      "features_to_image.5.weight\n",
      "features_to_image.6.weight\n",
      "torch.Size([32, 16, 4, 4])\n",
      "features_to_image.8.weight\n",
      "features_to_image.9.weight\n"
     ]
    },
    {
     "name": "stderr",
     "output_type": "stream",
     "text": [
      "Clipping input data to the valid range for imshow with RGB data ([0..1] for floats or [0..255] for integers).\n"
     ]
    },
    {
     "name": "stdout",
     "output_type": "stream",
     "text": [
      "features_to_image.3.weight\n",
      "features_to_image.5.weight\n",
      "features_to_image.6.weight\n",
      "torch.Size([32, 16, 4, 4])\n",
      "features_to_image.8.weight\n",
      "features_to_image.9.weight\n"
     ]
    },
    {
     "name": "stderr",
     "output_type": "stream",
     "text": [
      "Clipping input data to the valid range for imshow with RGB data ([0..1] for floats or [0..255] for integers).\n"
     ]
    },
    {
     "name": "stdout",
     "output_type": "stream",
     "text": [
      "features_to_image.3.weight\n",
      "features_to_image.5.weight\n",
      "features_to_image.6.weight\n",
      "torch.Size([32, 16, 4, 4])\n",
      "features_to_image.8.weight\n",
      "features_to_image.9.weight\n"
     ]
    },
    {
     "name": "stderr",
     "output_type": "stream",
     "text": [
      "Clipping input data to the valid range for imshow with RGB data ([0..1] for floats or [0..255] for integers).\n"
     ]
    },
    {
     "name": "stdout",
     "output_type": "stream",
     "text": [
      "features_to_image.3.weight\n",
      "features_to_image.5.weight\n",
      "features_to_image.6.weight\n",
      "torch.Size([32, 16, 4, 4])\n",
      "features_to_image.8.weight\n",
      "features_to_image.9.weight\n"
     ]
    },
    {
     "name": "stderr",
     "output_type": "stream",
     "text": [
      "Clipping input data to the valid range for imshow with RGB data ([0..1] for floats or [0..255] for integers).\n"
     ]
    },
    {
     "name": "stdout",
     "output_type": "stream",
     "text": [
      "features_to_image.3.weight\n",
      "features_to_image.5.weight\n",
      "features_to_image.6.weight\n",
      "torch.Size([32, 16, 4, 4])\n",
      "features_to_image.8.weight\n",
      "features_to_image.9.weight\n"
     ]
    },
    {
     "name": "stderr",
     "output_type": "stream",
     "text": [
      "Clipping input data to the valid range for imshow with RGB data ([0..1] for floats or [0..255] for integers).\n"
     ]
    },
    {
     "name": "stdout",
     "output_type": "stream",
     "text": [
      "features_to_image.3.weight\n",
      "features_to_image.5.weight\n",
      "features_to_image.6.weight\n",
      "torch.Size([32, 16, 4, 4])\n",
      "features_to_image.8.weight\n",
      "features_to_image.9.weight\n"
     ]
    },
    {
     "name": "stderr",
     "output_type": "stream",
     "text": [
      "Clipping input data to the valid range for imshow with RGB data ([0..1] for floats or [0..255] for integers).\n"
     ]
    },
    {
     "name": "stdout",
     "output_type": "stream",
     "text": [
      "features_to_image.3.weight\n",
      "features_to_image.5.weight\n",
      "features_to_image.6.weight\n",
      "torch.Size([32, 16, 4, 4])\n",
      "features_to_image.8.weight\n",
      "features_to_image.9.weight\n"
     ]
    },
    {
     "name": "stderr",
     "output_type": "stream",
     "text": [
      "Clipping input data to the valid range for imshow with RGB data ([0..1] for floats or [0..255] for integers).\n"
     ]
    },
    {
     "name": "stdout",
     "output_type": "stream",
     "text": [
      "features_to_image.3.weight\n",
      "features_to_image.5.weight\n",
      "features_to_image.6.weight\n",
      "torch.Size([32, 16, 4, 4])\n",
      "features_to_image.8.weight\n",
      "features_to_image.9.weight\n"
     ]
    },
    {
     "name": "stderr",
     "output_type": "stream",
     "text": [
      "Clipping input data to the valid range for imshow with RGB data ([0..1] for floats or [0..255] for integers).\n"
     ]
    },
    {
     "name": "stdout",
     "output_type": "stream",
     "text": [
      "features_to_image.3.weight\n",
      "features_to_image.5.weight\n",
      "features_to_image.6.weight\n",
      "torch.Size([32, 16, 4, 4])\n",
      "features_to_image.8.weight\n",
      "features_to_image.9.weight\n"
     ]
    },
    {
     "name": "stderr",
     "output_type": "stream",
     "text": [
      "Clipping input data to the valid range for imshow with RGB data ([0..1] for floats or [0..255] for integers).\n"
     ]
    },
    {
     "name": "stdout",
     "output_type": "stream",
     "text": [
      "features_to_image.3.weight\n",
      "features_to_image.5.weight\n",
      "features_to_image.6.weight\n",
      "torch.Size([32, 16, 4, 4])\n",
      "features_to_image.8.weight\n",
      "features_to_image.9.weight\n"
     ]
    },
    {
     "name": "stderr",
     "output_type": "stream",
     "text": [
      "Clipping input data to the valid range for imshow with RGB data ([0..1] for floats or [0..255] for integers).\n"
     ]
    },
    {
     "name": "stdout",
     "output_type": "stream",
     "text": [
      "features_to_image.3.weight\n",
      "features_to_image.5.weight\n",
      "features_to_image.6.weight\n",
      "torch.Size([32, 16, 4, 4])\n",
      "features_to_image.8.weight\n",
      "features_to_image.9.weight\n"
     ]
    },
    {
     "name": "stderr",
     "output_type": "stream",
     "text": [
      "Clipping input data to the valid range for imshow with RGB data ([0..1] for floats or [0..255] for integers).\n"
     ]
    },
    {
     "name": "stdout",
     "output_type": "stream",
     "text": [
      "features_to_image.3.weight\n",
      "features_to_image.5.weight\n",
      "features_to_image.6.weight\n",
      "torch.Size([32, 16, 4, 4])\n",
      "features_to_image.8.weight\n",
      "features_to_image.9.weight\n"
     ]
    },
    {
     "name": "stderr",
     "output_type": "stream",
     "text": [
      "Clipping input data to the valid range for imshow with RGB data ([0..1] for floats or [0..255] for integers).\n"
     ]
    },
    {
     "name": "stdout",
     "output_type": "stream",
     "text": [
      "features_to_image.3.weight\n",
      "features_to_image.5.weight\n",
      "features_to_image.6.weight\n",
      "torch.Size([32, 16, 4, 4])\n",
      "features_to_image.8.weight\n",
      "features_to_image.9.weight\n"
     ]
    },
    {
     "name": "stderr",
     "output_type": "stream",
     "text": [
      "Clipping input data to the valid range for imshow with RGB data ([0..1] for floats or [0..255] for integers).\n"
     ]
    },
    {
     "name": "stdout",
     "output_type": "stream",
     "text": [
      "features_to_image.3.weight\n",
      "features_to_image.5.weight\n",
      "features_to_image.6.weight\n",
      "torch.Size([32, 16, 4, 4])\n",
      "features_to_image.8.weight\n",
      "features_to_image.9.weight\n"
     ]
    },
    {
     "name": "stderr",
     "output_type": "stream",
     "text": [
      "Clipping input data to the valid range for imshow with RGB data ([0..1] for floats or [0..255] for integers).\n"
     ]
    },
    {
     "name": "stdout",
     "output_type": "stream",
     "text": [
      "features_to_image.3.weight\n",
      "features_to_image.5.weight\n",
      "features_to_image.6.weight\n",
      "torch.Size([32, 16, 4, 4])\n",
      "features_to_image.8.weight\n",
      "features_to_image.9.weight\n"
     ]
    },
    {
     "name": "stderr",
     "output_type": "stream",
     "text": [
      "Clipping input data to the valid range for imshow with RGB data ([0..1] for floats or [0..255] for integers).\n"
     ]
    },
    {
     "name": "stdout",
     "output_type": "stream",
     "text": [
      "features_to_image.3.weight\n",
      "features_to_image.5.weight\n",
      "features_to_image.6.weight\n",
      "torch.Size([32, 16, 4, 4])\n",
      "features_to_image.8.weight\n",
      "features_to_image.9.weight\n",
      "features_to_image.3.weight\n",
      "features_to_image.5.weight\n",
      "features_to_image.6.weight\n",
      "torch.Size([32, 16, 4, 4])\n",
      "features_to_image.8.weight\n",
      "features_to_image.9.weight\n",
      "features_to_image.3.weight\n",
      "features_to_image.5.weight\n",
      "features_to_image.6.weight\n",
      "torch.Size([32, 16, 4, 4])\n",
      "features_to_image.8.weight\n",
      "features_to_image.9.weight\n",
      "features_to_image.3.weight\n",
      "features_to_image.5.weight\n",
      "features_to_image.6.weight\n",
      "torch.Size([32, 16, 4, 4])\n",
      "features_to_image.8.weight\n",
      "features_to_image.9.weight\n",
      "features_to_image.3.weight\n",
      "features_to_image.5.weight\n",
      "features_to_image.6.weight\n",
      "torch.Size([32, 16, 4, 4])\n",
      "features_to_image.8.weight\n",
      "features_to_image.9.weight\n",
      "features_to_image.3.weight\n",
      "features_to_image.5.weight\n",
      "features_to_image.6.weight\n",
      "torch.Size([32, 16, 4, 4])\n",
      "features_to_image.8.weight\n",
      "features_to_image.9.weight\n",
      "features_to_image.3.weight\n",
      "features_to_image.5.weight\n",
      "features_to_image.6.weight\n",
      "torch.Size([32, 16, 4, 4])\n",
      "features_to_image.8.weight\n",
      "features_to_image.9.weight\n",
      "features_to_image.3.weight\n",
      "features_to_image.5.weight\n",
      "features_to_image.6.weight\n",
      "torch.Size([32, 16, 4, 4])\n",
      "features_to_image.8.weight\n",
      "features_to_image.9.weight\n",
      "features_to_image.3.weight\n",
      "features_to_image.5.weight\n",
      "features_to_image.6.weight\n",
      "torch.Size([32, 16, 4, 4])\n",
      "features_to_image.8.weight\n",
      "features_to_image.9.weight\n",
      "features_to_image.3.weight\n",
      "features_to_image.5.weight\n",
      "features_to_image.6.weight\n",
      "torch.Size([32, 16, 4, 4])\n",
      "features_to_image.8.weight\n",
      "features_to_image.9.weight\n",
      "features_to_image.3.weight\n",
      "features_to_image.5.weight\n",
      "features_to_image.6.weight\n",
      "torch.Size([32, 16, 4, 4])\n",
      "features_to_image.8.weight\n",
      "features_to_image.9.weight\n"
     ]
    },
    {
     "name": "stderr",
     "output_type": "stream",
     "text": [
      "Clipping input data to the valid range for imshow with RGB data ([0..1] for floats or [0..255] for integers).\n"
     ]
    },
    {
     "name": "stdout",
     "output_type": "stream",
     "text": [
      "features_to_image.3.weight\n",
      "features_to_image.5.weight\n",
      "features_to_image.6.weight\n",
      "torch.Size([32, 16, 4, 4])\n",
      "features_to_image.8.weight\n",
      "features_to_image.9.weight\n"
     ]
    },
    {
     "name": "stderr",
     "output_type": "stream",
     "text": [
      "Clipping input data to the valid range for imshow with RGB data ([0..1] for floats or [0..255] for integers).\n"
     ]
    },
    {
     "name": "stdout",
     "output_type": "stream",
     "text": [
      "features_to_image.3.weight\n",
      "features_to_image.5.weight\n",
      "features_to_image.6.weight\n",
      "torch.Size([32, 16, 4, 4])\n",
      "features_to_image.8.weight\n",
      "features_to_image.9.weight\n"
     ]
    },
    {
     "name": "stderr",
     "output_type": "stream",
     "text": [
      "Clipping input data to the valid range for imshow with RGB data ([0..1] for floats or [0..255] for integers).\n"
     ]
    },
    {
     "name": "stdout",
     "output_type": "stream",
     "text": [
      "features_to_image.3.weight\n",
      "features_to_image.5.weight\n",
      "features_to_image.6.weight\n",
      "torch.Size([32, 16, 4, 4])\n",
      "features_to_image.8.weight\n",
      "features_to_image.9.weight\n"
     ]
    },
    {
     "name": "stderr",
     "output_type": "stream",
     "text": [
      "Clipping input data to the valid range for imshow with RGB data ([0..1] for floats or [0..255] for integers).\n"
     ]
    },
    {
     "name": "stdout",
     "output_type": "stream",
     "text": [
      "features_to_image.3.weight\n",
      "features_to_image.5.weight\n",
      "features_to_image.6.weight\n",
      "torch.Size([32, 16, 4, 4])\n",
      "features_to_image.8.weight\n",
      "features_to_image.9.weight\n"
     ]
    },
    {
     "name": "stderr",
     "output_type": "stream",
     "text": [
      "Clipping input data to the valid range for imshow with RGB data ([0..1] for floats or [0..255] for integers).\n"
     ]
    },
    {
     "name": "stdout",
     "output_type": "stream",
     "text": [
      "features_to_image.3.weight\n",
      "features_to_image.5.weight\n",
      "features_to_image.6.weight\n",
      "torch.Size([32, 16, 4, 4])\n",
      "features_to_image.8.weight\n",
      "features_to_image.9.weight\n"
     ]
    },
    {
     "name": "stderr",
     "output_type": "stream",
     "text": [
      "Clipping input data to the valid range for imshow with RGB data ([0..1] for floats or [0..255] for integers).\n"
     ]
    },
    {
     "name": "stdout",
     "output_type": "stream",
     "text": [
      "features_to_image.3.weight\n",
      "features_to_image.5.weight\n",
      "features_to_image.6.weight\n",
      "torch.Size([32, 16, 4, 4])\n",
      "features_to_image.8.weight\n",
      "features_to_image.9.weight\n"
     ]
    },
    {
     "name": "stderr",
     "output_type": "stream",
     "text": [
      "Clipping input data to the valid range for imshow with RGB data ([0..1] for floats or [0..255] for integers).\n"
     ]
    },
    {
     "name": "stdout",
     "output_type": "stream",
     "text": [
      "features_to_image.3.weight\n",
      "features_to_image.5.weight\n",
      "features_to_image.6.weight\n",
      "torch.Size([32, 16, 4, 4])\n",
      "features_to_image.8.weight\n",
      "features_to_image.9.weight\n"
     ]
    },
    {
     "name": "stderr",
     "output_type": "stream",
     "text": [
      "Clipping input data to the valid range for imshow with RGB data ([0..1] for floats or [0..255] for integers).\n"
     ]
    },
    {
     "name": "stdout",
     "output_type": "stream",
     "text": [
      "features_to_image.3.weight\n",
      "features_to_image.5.weight\n",
      "features_to_image.6.weight\n",
      "torch.Size([32, 16, 4, 4])\n",
      "features_to_image.8.weight\n",
      "features_to_image.9.weight\n"
     ]
    },
    {
     "name": "stderr",
     "output_type": "stream",
     "text": [
      "Clipping input data to the valid range for imshow with RGB data ([0..1] for floats or [0..255] for integers).\n"
     ]
    },
    {
     "name": "stdout",
     "output_type": "stream",
     "text": [
      "features_to_image.3.weight\n",
      "features_to_image.5.weight\n",
      "features_to_image.6.weight\n",
      "torch.Size([32, 16, 4, 4])\n",
      "features_to_image.8.weight\n",
      "features_to_image.9.weight\n"
     ]
    },
    {
     "name": "stderr",
     "output_type": "stream",
     "text": [
      "Clipping input data to the valid range for imshow with RGB data ([0..1] for floats or [0..255] for integers).\n"
     ]
    },
    {
     "name": "stdout",
     "output_type": "stream",
     "text": [
      "features_to_image.3.weight\n",
      "features_to_image.5.weight\n",
      "features_to_image.6.weight\n",
      "torch.Size([32, 16, 4, 4])\n",
      "features_to_image.8.weight\n",
      "features_to_image.9.weight\n"
     ]
    },
    {
     "name": "stderr",
     "output_type": "stream",
     "text": [
      "Clipping input data to the valid range for imshow with RGB data ([0..1] for floats or [0..255] for integers).\n"
     ]
    },
    {
     "name": "stdout",
     "output_type": "stream",
     "text": [
      "features_to_image.3.weight\n",
      "features_to_image.5.weight\n",
      "features_to_image.6.weight\n",
      "torch.Size([32, 16, 4, 4])\n",
      "features_to_image.8.weight\n",
      "features_to_image.9.weight\n"
     ]
    },
    {
     "name": "stderr",
     "output_type": "stream",
     "text": [
      "Clipping input data to the valid range for imshow with RGB data ([0..1] for floats or [0..255] for integers).\n"
     ]
    },
    {
     "name": "stdout",
     "output_type": "stream",
     "text": [
      "features_to_image.3.weight\n",
      "features_to_image.5.weight\n",
      "features_to_image.6.weight\n",
      "torch.Size([32, 16, 4, 4])\n",
      "features_to_image.8.weight\n",
      "features_to_image.9.weight\n"
     ]
    },
    {
     "name": "stderr",
     "output_type": "stream",
     "text": [
      "Clipping input data to the valid range for imshow with RGB data ([0..1] for floats or [0..255] for integers).\n"
     ]
    },
    {
     "name": "stdout",
     "output_type": "stream",
     "text": [
      "features_to_image.3.weight\n",
      "features_to_image.5.weight\n",
      "features_to_image.6.weight\n",
      "torch.Size([32, 16, 4, 4])\n",
      "features_to_image.8.weight\n",
      "features_to_image.9.weight\n"
     ]
    },
    {
     "name": "stderr",
     "output_type": "stream",
     "text": [
      "Clipping input data to the valid range for imshow with RGB data ([0..1] for floats or [0..255] for integers).\n"
     ]
    },
    {
     "name": "stdout",
     "output_type": "stream",
     "text": [
      "features_to_image.3.weight\n",
      "features_to_image.5.weight\n",
      "features_to_image.6.weight\n",
      "torch.Size([32, 16, 4, 4])\n",
      "features_to_image.8.weight\n",
      "features_to_image.9.weight\n"
     ]
    },
    {
     "name": "stderr",
     "output_type": "stream",
     "text": [
      "Clipping input data to the valid range for imshow with RGB data ([0..1] for floats or [0..255] for integers).\n"
     ]
    },
    {
     "name": "stdout",
     "output_type": "stream",
     "text": [
      "features_to_image.3.weight\n",
      "features_to_image.5.weight\n",
      "features_to_image.6.weight\n",
      "torch.Size([32, 16, 4, 4])\n",
      "features_to_image.8.weight\n",
      "features_to_image.9.weight\n"
     ]
    },
    {
     "name": "stderr",
     "output_type": "stream",
     "text": [
      "Clipping input data to the valid range for imshow with RGB data ([0..1] for floats or [0..255] for integers).\n"
     ]
    },
    {
     "name": "stdout",
     "output_type": "stream",
     "text": [
      "features_to_image.3.weight\n",
      "features_to_image.5.weight\n",
      "features_to_image.6.weight\n",
      "torch.Size([32, 16, 4, 4])\n",
      "features_to_image.8.weight\n",
      "features_to_image.9.weight\n"
     ]
    },
    {
     "name": "stderr",
     "output_type": "stream",
     "text": [
      "Clipping input data to the valid range for imshow with RGB data ([0..1] for floats or [0..255] for integers).\n"
     ]
    },
    {
     "name": "stdout",
     "output_type": "stream",
     "text": [
      "features_to_image.3.weight\n",
      "features_to_image.5.weight\n",
      "features_to_image.6.weight\n",
      "torch.Size([32, 16, 4, 4])\n",
      "features_to_image.8.weight\n",
      "features_to_image.9.weight\n"
     ]
    },
    {
     "name": "stderr",
     "output_type": "stream",
     "text": [
      "Clipping input data to the valid range for imshow with RGB data ([0..1] for floats or [0..255] for integers).\n"
     ]
    },
    {
     "name": "stdout",
     "output_type": "stream",
     "text": [
      "features_to_image.3.weight\n",
      "features_to_image.5.weight\n",
      "features_to_image.6.weight\n",
      "torch.Size([32, 16, 4, 4])\n",
      "features_to_image.8.weight\n",
      "features_to_image.9.weight\n"
     ]
    },
    {
     "name": "stderr",
     "output_type": "stream",
     "text": [
      "Clipping input data to the valid range for imshow with RGB data ([0..1] for floats or [0..255] for integers).\n"
     ]
    },
    {
     "name": "stdout",
     "output_type": "stream",
     "text": [
      "features_to_image.3.weight\n",
      "features_to_image.5.weight\n",
      "features_to_image.6.weight\n",
      "torch.Size([32, 16, 4, 4])\n",
      "features_to_image.8.weight\n",
      "features_to_image.9.weight\n"
     ]
    },
    {
     "name": "stderr",
     "output_type": "stream",
     "text": [
      "Clipping input data to the valid range for imshow with RGB data ([0..1] for floats or [0..255] for integers).\n"
     ]
    },
    {
     "name": "stdout",
     "output_type": "stream",
     "text": [
      "8\n",
      "bn3\n",
      "16\n",
      "features_to_image.3.weight\n",
      "features_to_image.5.weight\n",
      "features_to_image.6.weight\n",
      "features_to_image.8.weight\n",
      "torch.Size([16])\n",
      "features_to_image.9.weight\n"
     ]
    },
    {
     "name": "stderr",
     "output_type": "stream",
     "text": [
      "Clipping input data to the valid range for imshow with RGB data ([0..1] for floats or [0..255] for integers).\n"
     ]
    },
    {
     "name": "stdout",
     "output_type": "stream",
     "text": [
      "features_to_image.3.weight\n",
      "features_to_image.5.weight\n",
      "features_to_image.6.weight\n",
      "features_to_image.8.weight\n",
      "torch.Size([16])\n",
      "features_to_image.9.weight\n"
     ]
    },
    {
     "name": "stderr",
     "output_type": "stream",
     "text": [
      "Clipping input data to the valid range for imshow with RGB data ([0..1] for floats or [0..255] for integers).\n"
     ]
    },
    {
     "name": "stdout",
     "output_type": "stream",
     "text": [
      "features_to_image.3.weight\n",
      "features_to_image.5.weight\n",
      "features_to_image.6.weight\n",
      "features_to_image.8.weight\n",
      "torch.Size([16])\n",
      "features_to_image.9.weight\n"
     ]
    },
    {
     "name": "stderr",
     "output_type": "stream",
     "text": [
      "Clipping input data to the valid range for imshow with RGB data ([0..1] for floats or [0..255] for integers).\n"
     ]
    },
    {
     "name": "stdout",
     "output_type": "stream",
     "text": [
      "features_to_image.3.weight\n",
      "features_to_image.5.weight\n",
      "features_to_image.6.weight\n",
      "features_to_image.8.weight\n",
      "torch.Size([16])\n",
      "features_to_image.9.weight\n"
     ]
    },
    {
     "name": "stderr",
     "output_type": "stream",
     "text": [
      "Clipping input data to the valid range for imshow with RGB data ([0..1] for floats or [0..255] for integers).\n"
     ]
    },
    {
     "name": "stdout",
     "output_type": "stream",
     "text": [
      "features_to_image.3.weight\n",
      "features_to_image.5.weight\n",
      "features_to_image.6.weight\n",
      "features_to_image.8.weight\n",
      "torch.Size([16])\n",
      "features_to_image.9.weight\n"
     ]
    },
    {
     "name": "stderr",
     "output_type": "stream",
     "text": [
      "Clipping input data to the valid range for imshow with RGB data ([0..1] for floats or [0..255] for integers).\n"
     ]
    },
    {
     "name": "stdout",
     "output_type": "stream",
     "text": [
      "features_to_image.3.weight\n",
      "features_to_image.5.weight\n",
      "features_to_image.6.weight\n",
      "features_to_image.8.weight\n",
      "torch.Size([16])\n",
      "features_to_image.9.weight\n"
     ]
    },
    {
     "name": "stderr",
     "output_type": "stream",
     "text": [
      "Clipping input data to the valid range for imshow with RGB data ([0..1] for floats or [0..255] for integers).\n"
     ]
    },
    {
     "name": "stdout",
     "output_type": "stream",
     "text": [
      "features_to_image.3.weight\n",
      "features_to_image.5.weight\n",
      "features_to_image.6.weight\n",
      "features_to_image.8.weight\n",
      "torch.Size([16])\n",
      "features_to_image.9.weight\n"
     ]
    },
    {
     "name": "stderr",
     "output_type": "stream",
     "text": [
      "Clipping input data to the valid range for imshow with RGB data ([0..1] for floats or [0..255] for integers).\n"
     ]
    },
    {
     "name": "stdout",
     "output_type": "stream",
     "text": [
      "features_to_image.3.weight\n",
      "features_to_image.5.weight\n",
      "features_to_image.6.weight\n",
      "features_to_image.8.weight\n",
      "torch.Size([16])\n",
      "features_to_image.9.weight\n"
     ]
    },
    {
     "name": "stderr",
     "output_type": "stream",
     "text": [
      "Clipping input data to the valid range for imshow with RGB data ([0..1] for floats or [0..255] for integers).\n"
     ]
    },
    {
     "name": "stdout",
     "output_type": "stream",
     "text": [
      "features_to_image.3.weight\n",
      "features_to_image.5.weight\n",
      "features_to_image.6.weight\n",
      "features_to_image.8.weight\n",
      "torch.Size([16])\n",
      "features_to_image.9.weight\n"
     ]
    },
    {
     "name": "stderr",
     "output_type": "stream",
     "text": [
      "Clipping input data to the valid range for imshow with RGB data ([0..1] for floats or [0..255] for integers).\n"
     ]
    },
    {
     "name": "stdout",
     "output_type": "stream",
     "text": [
      "features_to_image.3.weight\n",
      "features_to_image.5.weight\n",
      "features_to_image.6.weight\n",
      "features_to_image.8.weight\n",
      "torch.Size([16])\n",
      "features_to_image.9.weight\n"
     ]
    },
    {
     "name": "stderr",
     "output_type": "stream",
     "text": [
      "Clipping input data to the valid range for imshow with RGB data ([0..1] for floats or [0..255] for integers).\n"
     ]
    },
    {
     "name": "stdout",
     "output_type": "stream",
     "text": [
      "features_to_image.3.weight\n",
      "features_to_image.5.weight\n",
      "features_to_image.6.weight\n",
      "features_to_image.8.weight\n",
      "torch.Size([16])\n",
      "features_to_image.9.weight\n"
     ]
    },
    {
     "name": "stderr",
     "output_type": "stream",
     "text": [
      "Clipping input data to the valid range for imshow with RGB data ([0..1] for floats or [0..255] for integers).\n"
     ]
    },
    {
     "name": "stdout",
     "output_type": "stream",
     "text": [
      "features_to_image.3.weight\n",
      "features_to_image.5.weight\n",
      "features_to_image.6.weight\n",
      "features_to_image.8.weight\n",
      "torch.Size([16])\n",
      "features_to_image.9.weight\n"
     ]
    },
    {
     "name": "stderr",
     "output_type": "stream",
     "text": [
      "Clipping input data to the valid range for imshow with RGB data ([0..1] for floats or [0..255] for integers).\n"
     ]
    },
    {
     "name": "stdout",
     "output_type": "stream",
     "text": [
      "features_to_image.3.weight\n",
      "features_to_image.5.weight\n",
      "features_to_image.6.weight\n",
      "features_to_image.8.weight\n",
      "torch.Size([16])\n",
      "features_to_image.9.weight\n"
     ]
    },
    {
     "name": "stderr",
     "output_type": "stream",
     "text": [
      "Clipping input data to the valid range for imshow with RGB data ([0..1] for floats or [0..255] for integers).\n"
     ]
    },
    {
     "name": "stdout",
     "output_type": "stream",
     "text": [
      "features_to_image.3.weight\n",
      "features_to_image.5.weight\n",
      "features_to_image.6.weight\n",
      "features_to_image.8.weight\n",
      "torch.Size([16])\n",
      "features_to_image.9.weight\n"
     ]
    },
    {
     "name": "stderr",
     "output_type": "stream",
     "text": [
      "Clipping input data to the valid range for imshow with RGB data ([0..1] for floats or [0..255] for integers).\n"
     ]
    },
    {
     "name": "stdout",
     "output_type": "stream",
     "text": [
      "features_to_image.3.weight\n",
      "features_to_image.5.weight\n",
      "features_to_image.6.weight\n",
      "features_to_image.8.weight\n",
      "torch.Size([16])\n",
      "features_to_image.9.weight\n"
     ]
    },
    {
     "name": "stderr",
     "output_type": "stream",
     "text": [
      "Clipping input data to the valid range for imshow with RGB data ([0..1] for floats or [0..255] for integers).\n"
     ]
    },
    {
     "name": "stdout",
     "output_type": "stream",
     "text": [
      "features_to_image.3.weight\n",
      "features_to_image.5.weight\n",
      "features_to_image.6.weight\n",
      "features_to_image.8.weight\n",
      "torch.Size([16])\n",
      "features_to_image.9.weight\n"
     ]
    },
    {
     "name": "stderr",
     "output_type": "stream",
     "text": [
      "Clipping input data to the valid range for imshow with RGB data ([0..1] for floats or [0..255] for integers).\n"
     ]
    },
    {
     "name": "stdout",
     "output_type": "stream",
     "text": [
      "features_to_image.3.weight\n",
      "features_to_image.5.weight\n",
      "features_to_image.6.weight\n",
      "features_to_image.8.weight\n",
      "torch.Size([16])\n",
      "features_to_image.9.weight\n"
     ]
    },
    {
     "name": "stderr",
     "output_type": "stream",
     "text": [
      "Clipping input data to the valid range for imshow with RGB data ([0..1] for floats or [0..255] for integers).\n"
     ]
    },
    {
     "name": "stdout",
     "output_type": "stream",
     "text": [
      "features_to_image.3.weight\n",
      "features_to_image.5.weight\n",
      "features_to_image.6.weight\n",
      "features_to_image.8.weight\n",
      "torch.Size([16])\n",
      "features_to_image.9.weight\n"
     ]
    },
    {
     "name": "stderr",
     "output_type": "stream",
     "text": [
      "Clipping input data to the valid range for imshow with RGB data ([0..1] for floats or [0..255] for integers).\n"
     ]
    },
    {
     "name": "stdout",
     "output_type": "stream",
     "text": [
      "features_to_image.3.weight\n",
      "features_to_image.5.weight\n",
      "features_to_image.6.weight\n",
      "features_to_image.8.weight\n",
      "torch.Size([16])\n",
      "features_to_image.9.weight\n"
     ]
    },
    {
     "name": "stderr",
     "output_type": "stream",
     "text": [
      "Clipping input data to the valid range for imshow with RGB data ([0..1] for floats or [0..255] for integers).\n"
     ]
    },
    {
     "name": "stdout",
     "output_type": "stream",
     "text": [
      "features_to_image.3.weight\n",
      "features_to_image.5.weight\n",
      "features_to_image.6.weight\n",
      "features_to_image.8.weight\n",
      "torch.Size([16])\n",
      "features_to_image.9.weight\n"
     ]
    },
    {
     "name": "stderr",
     "output_type": "stream",
     "text": [
      "Clipping input data to the valid range for imshow with RGB data ([0..1] for floats or [0..255] for integers).\n"
     ]
    },
    {
     "name": "stdout",
     "output_type": "stream",
     "text": [
      "features_to_image.3.weight\n",
      "features_to_image.5.weight\n",
      "features_to_image.6.weight\n",
      "features_to_image.8.weight\n",
      "torch.Size([16])\n",
      "features_to_image.9.weight\n",
      "features_to_image.3.weight\n",
      "features_to_image.5.weight\n",
      "features_to_image.6.weight\n",
      "features_to_image.8.weight\n",
      "torch.Size([16])\n",
      "features_to_image.9.weight\n",
      "features_to_image.3.weight\n",
      "features_to_image.5.weight\n",
      "features_to_image.6.weight\n",
      "features_to_image.8.weight\n",
      "torch.Size([16])\n",
      "features_to_image.9.weight\n",
      "features_to_image.3.weight\n",
      "features_to_image.5.weight\n",
      "features_to_image.6.weight\n",
      "features_to_image.8.weight\n",
      "torch.Size([16])\n",
      "features_to_image.9.weight\n",
      "features_to_image.3.weight\n",
      "features_to_image.5.weight\n",
      "features_to_image.6.weight\n",
      "features_to_image.8.weight\n",
      "torch.Size([16])\n",
      "features_to_image.9.weight\n",
      "features_to_image.3.weight\n",
      "features_to_image.5.weight\n",
      "features_to_image.6.weight\n",
      "features_to_image.8.weight\n",
      "torch.Size([16])\n",
      "features_to_image.9.weight\n",
      "features_to_image.3.weight\n",
      "features_to_image.5.weight\n",
      "features_to_image.6.weight\n",
      "features_to_image.8.weight\n",
      "torch.Size([16])\n",
      "features_to_image.9.weight\n",
      "features_to_image.3.weight\n",
      "features_to_image.5.weight\n",
      "features_to_image.6.weight\n",
      "features_to_image.8.weight\n",
      "torch.Size([16])\n",
      "features_to_image.9.weight\n",
      "features_to_image.3.weight\n",
      "features_to_image.5.weight\n",
      "features_to_image.6.weight\n",
      "features_to_image.8.weight\n",
      "torch.Size([16])\n",
      "features_to_image.9.weight\n",
      "features_to_image.3.weight\n",
      "features_to_image.5.weight\n",
      "features_to_image.6.weight\n",
      "features_to_image.8.weight\n",
      "torch.Size([16])\n",
      "features_to_image.9.weight\n",
      "features_to_image.3.weight\n",
      "features_to_image.5.weight\n",
      "features_to_image.6.weight\n",
      "features_to_image.8.weight\n",
      "torch.Size([16])\n",
      "features_to_image.9.weight\n"
     ]
    },
    {
     "name": "stderr",
     "output_type": "stream",
     "text": [
      "Clipping input data to the valid range for imshow with RGB data ([0..1] for floats or [0..255] for integers).\n"
     ]
    },
    {
     "name": "stdout",
     "output_type": "stream",
     "text": [
      "features_to_image.3.weight\n",
      "features_to_image.5.weight\n",
      "features_to_image.6.weight\n",
      "features_to_image.8.weight\n",
      "torch.Size([16])\n",
      "features_to_image.9.weight\n"
     ]
    },
    {
     "name": "stderr",
     "output_type": "stream",
     "text": [
      "Clipping input data to the valid range for imshow with RGB data ([0..1] for floats or [0..255] for integers).\n"
     ]
    },
    {
     "name": "stdout",
     "output_type": "stream",
     "text": [
      "features_to_image.3.weight\n",
      "features_to_image.5.weight\n",
      "features_to_image.6.weight\n",
      "features_to_image.8.weight\n",
      "torch.Size([16])\n",
      "features_to_image.9.weight\n"
     ]
    },
    {
     "name": "stderr",
     "output_type": "stream",
     "text": [
      "Clipping input data to the valid range for imshow with RGB data ([0..1] for floats or [0..255] for integers).\n"
     ]
    },
    {
     "name": "stdout",
     "output_type": "stream",
     "text": [
      "features_to_image.3.weight\n",
      "features_to_image.5.weight\n",
      "features_to_image.6.weight\n",
      "features_to_image.8.weight\n",
      "torch.Size([16])\n",
      "features_to_image.9.weight\n"
     ]
    },
    {
     "name": "stderr",
     "output_type": "stream",
     "text": [
      "Clipping input data to the valid range for imshow with RGB data ([0..1] for floats or [0..255] for integers).\n"
     ]
    },
    {
     "name": "stdout",
     "output_type": "stream",
     "text": [
      "features_to_image.3.weight\n",
      "features_to_image.5.weight\n",
      "features_to_image.6.weight\n",
      "features_to_image.8.weight\n",
      "torch.Size([16])\n",
      "features_to_image.9.weight\n"
     ]
    },
    {
     "name": "stderr",
     "output_type": "stream",
     "text": [
      "Clipping input data to the valid range for imshow with RGB data ([0..1] for floats or [0..255] for integers).\n"
     ]
    },
    {
     "name": "stdout",
     "output_type": "stream",
     "text": [
      "features_to_image.3.weight\n",
      "features_to_image.5.weight\n",
      "features_to_image.6.weight\n",
      "features_to_image.8.weight\n",
      "torch.Size([16])\n",
      "features_to_image.9.weight\n"
     ]
    },
    {
     "name": "stderr",
     "output_type": "stream",
     "text": [
      "Clipping input data to the valid range for imshow with RGB data ([0..1] for floats or [0..255] for integers).\n"
     ]
    },
    {
     "name": "stdout",
     "output_type": "stream",
     "text": [
      "features_to_image.3.weight\n",
      "features_to_image.5.weight\n",
      "features_to_image.6.weight\n",
      "features_to_image.8.weight\n",
      "torch.Size([16])\n",
      "features_to_image.9.weight\n"
     ]
    },
    {
     "name": "stderr",
     "output_type": "stream",
     "text": [
      "Clipping input data to the valid range for imshow with RGB data ([0..1] for floats or [0..255] for integers).\n"
     ]
    },
    {
     "name": "stdout",
     "output_type": "stream",
     "text": [
      "features_to_image.3.weight\n",
      "features_to_image.5.weight\n",
      "features_to_image.6.weight\n",
      "features_to_image.8.weight\n",
      "torch.Size([16])\n",
      "features_to_image.9.weight\n"
     ]
    },
    {
     "name": "stderr",
     "output_type": "stream",
     "text": [
      "Clipping input data to the valid range for imshow with RGB data ([0..1] for floats or [0..255] for integers).\n"
     ]
    },
    {
     "name": "stdout",
     "output_type": "stream",
     "text": [
      "features_to_image.3.weight\n",
      "features_to_image.5.weight\n",
      "features_to_image.6.weight\n",
      "features_to_image.8.weight\n",
      "torch.Size([16])\n",
      "features_to_image.9.weight\n"
     ]
    },
    {
     "name": "stderr",
     "output_type": "stream",
     "text": [
      "Clipping input data to the valid range for imshow with RGB data ([0..1] for floats or [0..255] for integers).\n"
     ]
    },
    {
     "name": "stdout",
     "output_type": "stream",
     "text": [
      "features_to_image.3.weight\n",
      "features_to_image.5.weight\n",
      "features_to_image.6.weight\n",
      "features_to_image.8.weight\n",
      "torch.Size([16])\n",
      "features_to_image.9.weight\n"
     ]
    },
    {
     "name": "stderr",
     "output_type": "stream",
     "text": [
      "Clipping input data to the valid range for imshow with RGB data ([0..1] for floats or [0..255] for integers).\n"
     ]
    },
    {
     "name": "stdout",
     "output_type": "stream",
     "text": [
      "features_to_image.3.weight\n",
      "features_to_image.5.weight\n",
      "features_to_image.6.weight\n",
      "features_to_image.8.weight\n",
      "torch.Size([16])\n",
      "features_to_image.9.weight\n"
     ]
    },
    {
     "name": "stderr",
     "output_type": "stream",
     "text": [
      "Clipping input data to the valid range for imshow with RGB data ([0..1] for floats or [0..255] for integers).\n"
     ]
    },
    {
     "name": "stdout",
     "output_type": "stream",
     "text": [
      "features_to_image.3.weight\n",
      "features_to_image.5.weight\n",
      "features_to_image.6.weight\n",
      "features_to_image.8.weight\n",
      "torch.Size([16])\n",
      "features_to_image.9.weight\n"
     ]
    },
    {
     "name": "stderr",
     "output_type": "stream",
     "text": [
      "Clipping input data to the valid range for imshow with RGB data ([0..1] for floats or [0..255] for integers).\n"
     ]
    },
    {
     "name": "stdout",
     "output_type": "stream",
     "text": [
      "features_to_image.3.weight\n",
      "features_to_image.5.weight\n",
      "features_to_image.6.weight\n",
      "features_to_image.8.weight\n",
      "torch.Size([16])\n",
      "features_to_image.9.weight\n"
     ]
    },
    {
     "name": "stderr",
     "output_type": "stream",
     "text": [
      "Clipping input data to the valid range for imshow with RGB data ([0..1] for floats or [0..255] for integers).\n"
     ]
    },
    {
     "name": "stdout",
     "output_type": "stream",
     "text": [
      "features_to_image.3.weight\n",
      "features_to_image.5.weight\n",
      "features_to_image.6.weight\n",
      "features_to_image.8.weight\n",
      "torch.Size([16])\n",
      "features_to_image.9.weight\n"
     ]
    },
    {
     "name": "stderr",
     "output_type": "stream",
     "text": [
      "Clipping input data to the valid range for imshow with RGB data ([0..1] for floats or [0..255] for integers).\n"
     ]
    },
    {
     "name": "stdout",
     "output_type": "stream",
     "text": [
      "features_to_image.3.weight\n",
      "features_to_image.5.weight\n",
      "features_to_image.6.weight\n",
      "features_to_image.8.weight\n",
      "torch.Size([16])\n",
      "features_to_image.9.weight\n"
     ]
    },
    {
     "name": "stderr",
     "output_type": "stream",
     "text": [
      "Clipping input data to the valid range for imshow with RGB data ([0..1] for floats or [0..255] for integers).\n"
     ]
    },
    {
     "name": "stdout",
     "output_type": "stream",
     "text": [
      "features_to_image.3.weight\n",
      "features_to_image.5.weight\n",
      "features_to_image.6.weight\n",
      "features_to_image.8.weight\n",
      "torch.Size([16])\n",
      "features_to_image.9.weight\n"
     ]
    },
    {
     "name": "stderr",
     "output_type": "stream",
     "text": [
      "Clipping input data to the valid range for imshow with RGB data ([0..1] for floats or [0..255] for integers).\n"
     ]
    },
    {
     "name": "stdout",
     "output_type": "stream",
     "text": [
      "features_to_image.3.weight\n",
      "features_to_image.5.weight\n",
      "features_to_image.6.weight\n",
      "features_to_image.8.weight\n",
      "torch.Size([16])\n",
      "features_to_image.9.weight\n"
     ]
    },
    {
     "name": "stderr",
     "output_type": "stream",
     "text": [
      "Clipping input data to the valid range for imshow with RGB data ([0..1] for floats or [0..255] for integers).\n"
     ]
    },
    {
     "name": "stdout",
     "output_type": "stream",
     "text": [
      "features_to_image.3.weight\n",
      "features_to_image.5.weight\n",
      "features_to_image.6.weight\n",
      "features_to_image.8.weight\n",
      "torch.Size([16])\n",
      "features_to_image.9.weight\n"
     ]
    },
    {
     "name": "stderr",
     "output_type": "stream",
     "text": [
      "Clipping input data to the valid range for imshow with RGB data ([0..1] for floats or [0..255] for integers).\n"
     ]
    },
    {
     "name": "stdout",
     "output_type": "stream",
     "text": [
      "features_to_image.3.weight\n",
      "features_to_image.5.weight\n",
      "features_to_image.6.weight\n",
      "features_to_image.8.weight\n",
      "torch.Size([16])\n",
      "features_to_image.9.weight\n"
     ]
    },
    {
     "name": "stderr",
     "output_type": "stream",
     "text": [
      "Clipping input data to the valid range for imshow with RGB data ([0..1] for floats or [0..255] for integers).\n"
     ]
    },
    {
     "name": "stdout",
     "output_type": "stream",
     "text": [
      "features_to_image.3.weight\n",
      "features_to_image.5.weight\n",
      "features_to_image.6.weight\n",
      "features_to_image.8.weight\n",
      "torch.Size([16])\n",
      "features_to_image.9.weight\n"
     ]
    },
    {
     "name": "stderr",
     "output_type": "stream",
     "text": [
      "Clipping input data to the valid range for imshow with RGB data ([0..1] for floats or [0..255] for integers).\n"
     ]
    },
    {
     "name": "stdout",
     "output_type": "stream",
     "text": [
      "features_to_image.3.weight\n",
      "features_to_image.5.weight\n",
      "features_to_image.6.weight\n",
      "features_to_image.8.weight\n",
      "torch.Size([16])\n",
      "features_to_image.9.weight\n"
     ]
    },
    {
     "name": "stderr",
     "output_type": "stream",
     "text": [
      "Clipping input data to the valid range for imshow with RGB data ([0..1] for floats or [0..255] for integers).\n"
     ]
    },
    {
     "name": "stdout",
     "output_type": "stream",
     "text": [
      "features_to_image.3.weight\n",
      "features_to_image.5.weight\n",
      "features_to_image.6.weight\n",
      "features_to_image.8.weight\n",
      "torch.Size([16])\n",
      "features_to_image.9.weight\n"
     ]
    },
    {
     "name": "stderr",
     "output_type": "stream",
     "text": [
      "Clipping input data to the valid range for imshow with RGB data ([0..1] for floats or [0..255] for integers).\n"
     ]
    },
    {
     "name": "stdout",
     "output_type": "stream",
     "text": [
      "features_to_image.3.weight\n",
      "features_to_image.5.weight\n",
      "features_to_image.6.weight\n",
      "features_to_image.8.weight\n",
      "torch.Size([16])\n",
      "features_to_image.9.weight\n"
     ]
    },
    {
     "name": "stderr",
     "output_type": "stream",
     "text": [
      "Clipping input data to the valid range for imshow with RGB data ([0..1] for floats or [0..255] for integers).\n"
     ]
    },
    {
     "name": "stdout",
     "output_type": "stream",
     "text": [
      "features_to_image.3.weight\n",
      "features_to_image.5.weight\n",
      "features_to_image.6.weight\n",
      "features_to_image.8.weight\n",
      "torch.Size([16])\n",
      "features_to_image.9.weight\n"
     ]
    },
    {
     "name": "stderr",
     "output_type": "stream",
     "text": [
      "Clipping input data to the valid range for imshow with RGB data ([0..1] for floats or [0..255] for integers).\n"
     ]
    },
    {
     "name": "stdout",
     "output_type": "stream",
     "text": [
      "features_to_image.3.weight\n",
      "features_to_image.5.weight\n",
      "features_to_image.6.weight\n",
      "features_to_image.8.weight\n",
      "torch.Size([16])\n",
      "features_to_image.9.weight\n"
     ]
    },
    {
     "name": "stderr",
     "output_type": "stream",
     "text": [
      "Clipping input data to the valid range for imshow with RGB data ([0..1] for floats or [0..255] for integers).\n"
     ]
    },
    {
     "name": "stdout",
     "output_type": "stream",
     "text": [
      "features_to_image.3.weight\n",
      "features_to_image.5.weight\n",
      "features_to_image.6.weight\n",
      "features_to_image.8.weight\n",
      "torch.Size([16])\n",
      "features_to_image.9.weight\n"
     ]
    },
    {
     "name": "stderr",
     "output_type": "stream",
     "text": [
      "Clipping input data to the valid range for imshow with RGB data ([0..1] for floats or [0..255] for integers).\n"
     ]
    },
    {
     "name": "stdout",
     "output_type": "stream",
     "text": [
      "features_to_image.3.weight\n",
      "features_to_image.5.weight\n",
      "features_to_image.6.weight\n",
      "features_to_image.8.weight\n",
      "torch.Size([16])\n",
      "features_to_image.9.weight\n"
     ]
    },
    {
     "name": "stderr",
     "output_type": "stream",
     "text": [
      "Clipping input data to the valid range for imshow with RGB data ([0..1] for floats or [0..255] for integers).\n"
     ]
    },
    {
     "name": "stdout",
     "output_type": "stream",
     "text": [
      "features_to_image.3.weight\n",
      "features_to_image.5.weight\n",
      "features_to_image.6.weight\n",
      "features_to_image.8.weight\n",
      "torch.Size([16])\n",
      "features_to_image.9.weight\n"
     ]
    },
    {
     "name": "stderr",
     "output_type": "stream",
     "text": [
      "Clipping input data to the valid range for imshow with RGB data ([0..1] for floats or [0..255] for integers).\n"
     ]
    },
    {
     "name": "stdout",
     "output_type": "stream",
     "text": [
      "features_to_image.3.weight\n",
      "features_to_image.5.weight\n",
      "features_to_image.6.weight\n",
      "features_to_image.8.weight\n",
      "torch.Size([16])\n",
      "features_to_image.9.weight\n"
     ]
    },
    {
     "name": "stderr",
     "output_type": "stream",
     "text": [
      "Clipping input data to the valid range for imshow with RGB data ([0..1] for floats or [0..255] for integers).\n"
     ]
    },
    {
     "name": "stdout",
     "output_type": "stream",
     "text": [
      "features_to_image.3.weight\n",
      "features_to_image.5.weight\n",
      "features_to_image.6.weight\n",
      "features_to_image.8.weight\n",
      "torch.Size([16])\n",
      "features_to_image.9.weight\n"
     ]
    },
    {
     "name": "stderr",
     "output_type": "stream",
     "text": [
      "Clipping input data to the valid range for imshow with RGB data ([0..1] for floats or [0..255] for integers).\n"
     ]
    },
    {
     "name": "stdout",
     "output_type": "stream",
     "text": [
      "features_to_image.3.weight\n",
      "features_to_image.5.weight\n",
      "features_to_image.6.weight\n",
      "features_to_image.8.weight\n",
      "torch.Size([16])\n",
      "features_to_image.9.weight\n",
      "features_to_image.3.weight\n",
      "features_to_image.5.weight\n",
      "features_to_image.6.weight\n",
      "features_to_image.8.weight\n",
      "torch.Size([16])\n",
      "features_to_image.9.weight\n",
      "features_to_image.3.weight\n",
      "features_to_image.5.weight\n",
      "features_to_image.6.weight\n",
      "features_to_image.8.weight\n",
      "torch.Size([16])\n",
      "features_to_image.9.weight\n",
      "features_to_image.3.weight\n",
      "features_to_image.5.weight\n",
      "features_to_image.6.weight\n",
      "features_to_image.8.weight\n",
      "torch.Size([16])\n",
      "features_to_image.9.weight\n",
      "features_to_image.3.weight\n",
      "features_to_image.5.weight\n",
      "features_to_image.6.weight\n",
      "features_to_image.8.weight\n",
      "torch.Size([16])\n",
      "features_to_image.9.weight\n",
      "features_to_image.3.weight\n",
      "features_to_image.5.weight\n",
      "features_to_image.6.weight\n",
      "features_to_image.8.weight\n",
      "torch.Size([16])\n",
      "features_to_image.9.weight\n",
      "features_to_image.3.weight\n",
      "features_to_image.5.weight\n",
      "features_to_image.6.weight\n",
      "features_to_image.8.weight\n",
      "torch.Size([16])\n",
      "features_to_image.9.weight\n",
      "features_to_image.3.weight\n",
      "features_to_image.5.weight\n",
      "features_to_image.6.weight\n",
      "features_to_image.8.weight\n",
      "torch.Size([16])\n",
      "features_to_image.9.weight\n",
      "features_to_image.3.weight\n",
      "features_to_image.5.weight\n",
      "features_to_image.6.weight\n",
      "features_to_image.8.weight\n",
      "torch.Size([16])\n",
      "features_to_image.9.weight\n",
      "features_to_image.3.weight\n",
      "features_to_image.5.weight\n",
      "features_to_image.6.weight\n",
      "features_to_image.8.weight\n",
      "torch.Size([16])\n",
      "features_to_image.9.weight\n",
      "features_to_image.3.weight\n",
      "features_to_image.5.weight\n",
      "features_to_image.6.weight\n",
      "features_to_image.8.weight\n",
      "torch.Size([16])\n",
      "features_to_image.9.weight\n"
     ]
    },
    {
     "name": "stderr",
     "output_type": "stream",
     "text": [
      "Clipping input data to the valid range for imshow with RGB data ([0..1] for floats or [0..255] for integers).\n"
     ]
    },
    {
     "name": "stdout",
     "output_type": "stream",
     "text": [
      "features_to_image.3.weight\n",
      "features_to_image.5.weight\n",
      "features_to_image.6.weight\n",
      "features_to_image.8.weight\n",
      "torch.Size([16])\n",
      "features_to_image.9.weight\n"
     ]
    },
    {
     "name": "stderr",
     "output_type": "stream",
     "text": [
      "Clipping input data to the valid range for imshow with RGB data ([0..1] for floats or [0..255] for integers).\n"
     ]
    },
    {
     "name": "stdout",
     "output_type": "stream",
     "text": [
      "features_to_image.3.weight\n",
      "features_to_image.5.weight\n",
      "features_to_image.6.weight\n",
      "features_to_image.8.weight\n",
      "torch.Size([16])\n",
      "features_to_image.9.weight\n"
     ]
    },
    {
     "name": "stderr",
     "output_type": "stream",
     "text": [
      "Clipping input data to the valid range for imshow with RGB data ([0..1] for floats or [0..255] for integers).\n"
     ]
    },
    {
     "name": "stdout",
     "output_type": "stream",
     "text": [
      "features_to_image.3.weight\n",
      "features_to_image.5.weight\n",
      "features_to_image.6.weight\n",
      "features_to_image.8.weight\n",
      "torch.Size([16])\n",
      "features_to_image.9.weight\n"
     ]
    },
    {
     "name": "stderr",
     "output_type": "stream",
     "text": [
      "Clipping input data to the valid range for imshow with RGB data ([0..1] for floats or [0..255] for integers).\n"
     ]
    },
    {
     "name": "stdout",
     "output_type": "stream",
     "text": [
      "features_to_image.3.weight\n",
      "features_to_image.5.weight\n",
      "features_to_image.6.weight\n",
      "features_to_image.8.weight\n",
      "torch.Size([16])\n",
      "features_to_image.9.weight\n"
     ]
    },
    {
     "name": "stderr",
     "output_type": "stream",
     "text": [
      "Clipping input data to the valid range for imshow with RGB data ([0..1] for floats or [0..255] for integers).\n"
     ]
    },
    {
     "name": "stdout",
     "output_type": "stream",
     "text": [
      "features_to_image.3.weight\n",
      "features_to_image.5.weight\n",
      "features_to_image.6.weight\n",
      "features_to_image.8.weight\n",
      "torch.Size([16])\n",
      "features_to_image.9.weight\n"
     ]
    },
    {
     "name": "stderr",
     "output_type": "stream",
     "text": [
      "Clipping input data to the valid range for imshow with RGB data ([0..1] for floats or [0..255] for integers).\n"
     ]
    },
    {
     "name": "stdout",
     "output_type": "stream",
     "text": [
      "features_to_image.3.weight\n",
      "features_to_image.5.weight\n",
      "features_to_image.6.weight\n",
      "features_to_image.8.weight\n",
      "torch.Size([16])\n",
      "features_to_image.9.weight\n"
     ]
    },
    {
     "name": "stderr",
     "output_type": "stream",
     "text": [
      "Clipping input data to the valid range for imshow with RGB data ([0..1] for floats or [0..255] for integers).\n"
     ]
    },
    {
     "name": "stdout",
     "output_type": "stream",
     "text": [
      "features_to_image.3.weight\n",
      "features_to_image.5.weight\n",
      "features_to_image.6.weight\n",
      "features_to_image.8.weight\n",
      "torch.Size([16])\n",
      "features_to_image.9.weight\n"
     ]
    },
    {
     "name": "stderr",
     "output_type": "stream",
     "text": [
      "Clipping input data to the valid range for imshow with RGB data ([0..1] for floats or [0..255] for integers).\n"
     ]
    },
    {
     "name": "stdout",
     "output_type": "stream",
     "text": [
      "features_to_image.3.weight\n",
      "features_to_image.5.weight\n",
      "features_to_image.6.weight\n",
      "features_to_image.8.weight\n",
      "torch.Size([16])\n",
      "features_to_image.9.weight\n"
     ]
    },
    {
     "name": "stderr",
     "output_type": "stream",
     "text": [
      "Clipping input data to the valid range for imshow with RGB data ([0..1] for floats or [0..255] for integers).\n"
     ]
    },
    {
     "name": "stdout",
     "output_type": "stream",
     "text": [
      "features_to_image.3.weight\n",
      "features_to_image.5.weight\n",
      "features_to_image.6.weight\n",
      "features_to_image.8.weight\n",
      "torch.Size([16])\n",
      "features_to_image.9.weight\n"
     ]
    },
    {
     "name": "stderr",
     "output_type": "stream",
     "text": [
      "Clipping input data to the valid range for imshow with RGB data ([0..1] for floats or [0..255] for integers).\n"
     ]
    },
    {
     "name": "stdout",
     "output_type": "stream",
     "text": [
      "features_to_image.3.weight\n",
      "features_to_image.5.weight\n",
      "features_to_image.6.weight\n",
      "features_to_image.8.weight\n",
      "torch.Size([16])\n",
      "features_to_image.9.weight\n",
      "features_to_image.3.weight\n",
      "features_to_image.5.weight\n",
      "features_to_image.6.weight\n",
      "features_to_image.8.weight\n",
      "torch.Size([16])\n",
      "features_to_image.9.weight\n",
      "features_to_image.3.weight\n",
      "features_to_image.5.weight\n",
      "features_to_image.6.weight\n",
      "features_to_image.8.weight\n",
      "torch.Size([16])\n",
      "features_to_image.9.weight\n",
      "features_to_image.3.weight\n",
      "features_to_image.5.weight\n",
      "features_to_image.6.weight\n",
      "features_to_image.8.weight\n",
      "torch.Size([16])\n",
      "features_to_image.9.weight\n",
      "features_to_image.3.weight\n",
      "features_to_image.5.weight\n",
      "features_to_image.6.weight\n",
      "features_to_image.8.weight\n",
      "torch.Size([16])\n",
      "features_to_image.9.weight\n",
      "features_to_image.3.weight\n",
      "features_to_image.5.weight\n",
      "features_to_image.6.weight\n",
      "features_to_image.8.weight\n",
      "torch.Size([16])\n",
      "features_to_image.9.weight\n",
      "features_to_image.3.weight\n",
      "features_to_image.5.weight\n",
      "features_to_image.6.weight\n",
      "features_to_image.8.weight\n",
      "torch.Size([16])\n",
      "features_to_image.9.weight\n",
      "features_to_image.3.weight\n",
      "features_to_image.5.weight\n",
      "features_to_image.6.weight\n",
      "features_to_image.8.weight\n",
      "torch.Size([16])\n",
      "features_to_image.9.weight\n",
      "features_to_image.3.weight\n",
      "features_to_image.5.weight\n",
      "features_to_image.6.weight\n",
      "features_to_image.8.weight\n",
      "torch.Size([16])\n",
      "features_to_image.9.weight\n",
      "features_to_image.3.weight\n",
      "features_to_image.5.weight\n",
      "features_to_image.6.weight\n",
      "features_to_image.8.weight\n",
      "torch.Size([16])\n",
      "features_to_image.9.weight\n",
      "features_to_image.3.weight\n",
      "features_to_image.5.weight\n",
      "features_to_image.6.weight\n",
      "features_to_image.8.weight\n",
      "torch.Size([16])\n",
      "features_to_image.9.weight\n"
     ]
    },
    {
     "name": "stderr",
     "output_type": "stream",
     "text": [
      "Clipping input data to the valid range for imshow with RGB data ([0..1] for floats or [0..255] for integers).\n"
     ]
    },
    {
     "name": "stdout",
     "output_type": "stream",
     "text": [
      "features_to_image.3.weight\n",
      "features_to_image.5.weight\n",
      "features_to_image.6.weight\n",
      "features_to_image.8.weight\n",
      "torch.Size([16])\n",
      "features_to_image.9.weight\n"
     ]
    },
    {
     "name": "stderr",
     "output_type": "stream",
     "text": [
      "Clipping input data to the valid range for imshow with RGB data ([0..1] for floats or [0..255] for integers).\n"
     ]
    },
    {
     "name": "stdout",
     "output_type": "stream",
     "text": [
      "features_to_image.3.weight\n",
      "features_to_image.5.weight\n",
      "features_to_image.6.weight\n",
      "features_to_image.8.weight\n",
      "torch.Size([16])\n",
      "features_to_image.9.weight\n"
     ]
    },
    {
     "name": "stderr",
     "output_type": "stream",
     "text": [
      "Clipping input data to the valid range for imshow with RGB data ([0..1] for floats or [0..255] for integers).\n"
     ]
    },
    {
     "name": "stdout",
     "output_type": "stream",
     "text": [
      "features_to_image.3.weight\n",
      "features_to_image.5.weight\n",
      "features_to_image.6.weight\n",
      "features_to_image.8.weight\n",
      "torch.Size([16])\n",
      "features_to_image.9.weight\n"
     ]
    },
    {
     "name": "stderr",
     "output_type": "stream",
     "text": [
      "Clipping input data to the valid range for imshow with RGB data ([0..1] for floats or [0..255] for integers).\n"
     ]
    },
    {
     "name": "stdout",
     "output_type": "stream",
     "text": [
      "features_to_image.3.weight\n",
      "features_to_image.5.weight\n",
      "features_to_image.6.weight\n",
      "features_to_image.8.weight\n",
      "torch.Size([16])\n",
      "features_to_image.9.weight\n"
     ]
    },
    {
     "name": "stderr",
     "output_type": "stream",
     "text": [
      "Clipping input data to the valid range for imshow with RGB data ([0..1] for floats or [0..255] for integers).\n"
     ]
    },
    {
     "name": "stdout",
     "output_type": "stream",
     "text": [
      "features_to_image.3.weight\n",
      "features_to_image.5.weight\n",
      "features_to_image.6.weight\n",
      "features_to_image.8.weight\n",
      "torch.Size([16])\n",
      "features_to_image.9.weight\n"
     ]
    },
    {
     "name": "stderr",
     "output_type": "stream",
     "text": [
      "Clipping input data to the valid range for imshow with RGB data ([0..1] for floats or [0..255] for integers).\n"
     ]
    },
    {
     "name": "stdout",
     "output_type": "stream",
     "text": [
      "features_to_image.3.weight\n",
      "features_to_image.5.weight\n",
      "features_to_image.6.weight\n",
      "features_to_image.8.weight\n",
      "torch.Size([16])\n",
      "features_to_image.9.weight\n"
     ]
    },
    {
     "name": "stderr",
     "output_type": "stream",
     "text": [
      "Clipping input data to the valid range for imshow with RGB data ([0..1] for floats or [0..255] for integers).\n"
     ]
    },
    {
     "name": "stdout",
     "output_type": "stream",
     "text": [
      "features_to_image.3.weight\n",
      "features_to_image.5.weight\n",
      "features_to_image.6.weight\n",
      "features_to_image.8.weight\n",
      "torch.Size([16])\n",
      "features_to_image.9.weight\n"
     ]
    },
    {
     "name": "stderr",
     "output_type": "stream",
     "text": [
      "Clipping input data to the valid range for imshow with RGB data ([0..1] for floats or [0..255] for integers).\n"
     ]
    },
    {
     "name": "stdout",
     "output_type": "stream",
     "text": [
      "features_to_image.3.weight\n",
      "features_to_image.5.weight\n",
      "features_to_image.6.weight\n",
      "features_to_image.8.weight\n",
      "torch.Size([16])\n",
      "features_to_image.9.weight\n"
     ]
    },
    {
     "name": "stderr",
     "output_type": "stream",
     "text": [
      "Clipping input data to the valid range for imshow with RGB data ([0..1] for floats or [0..255] for integers).\n"
     ]
    },
    {
     "name": "stdout",
     "output_type": "stream",
     "text": [
      "features_to_image.3.weight\n",
      "features_to_image.5.weight\n",
      "features_to_image.6.weight\n",
      "features_to_image.8.weight\n",
      "torch.Size([16])\n",
      "features_to_image.9.weight\n"
     ]
    },
    {
     "name": "stderr",
     "output_type": "stream",
     "text": [
      "Clipping input data to the valid range for imshow with RGB data ([0..1] for floats or [0..255] for integers).\n"
     ]
    },
    {
     "name": "stdout",
     "output_type": "stream",
     "text": [
      "features_to_image.3.weight\n",
      "features_to_image.5.weight\n",
      "features_to_image.6.weight\n",
      "features_to_image.8.weight\n",
      "torch.Size([16])\n",
      "features_to_image.9.weight\n"
     ]
    },
    {
     "name": "stderr",
     "output_type": "stream",
     "text": [
      "Clipping input data to the valid range for imshow with RGB data ([0..1] for floats or [0..255] for integers).\n"
     ]
    },
    {
     "name": "stdout",
     "output_type": "stream",
     "text": [
      "features_to_image.3.weight\n",
      "features_to_image.5.weight\n",
      "features_to_image.6.weight\n",
      "features_to_image.8.weight\n",
      "torch.Size([16])\n",
      "features_to_image.9.weight\n"
     ]
    },
    {
     "name": "stderr",
     "output_type": "stream",
     "text": [
      "Clipping input data to the valid range for imshow with RGB data ([0..1] for floats or [0..255] for integers).\n"
     ]
    },
    {
     "name": "stdout",
     "output_type": "stream",
     "text": [
      "features_to_image.3.weight\n",
      "features_to_image.5.weight\n",
      "features_to_image.6.weight\n",
      "features_to_image.8.weight\n",
      "torch.Size([16])\n",
      "features_to_image.9.weight\n"
     ]
    },
    {
     "name": "stderr",
     "output_type": "stream",
     "text": [
      "Clipping input data to the valid range for imshow with RGB data ([0..1] for floats or [0..255] for integers).\n"
     ]
    },
    {
     "name": "stdout",
     "output_type": "stream",
     "text": [
      "features_to_image.3.weight\n",
      "features_to_image.5.weight\n",
      "features_to_image.6.weight\n",
      "features_to_image.8.weight\n",
      "torch.Size([16])\n",
      "features_to_image.9.weight\n"
     ]
    },
    {
     "name": "stderr",
     "output_type": "stream",
     "text": [
      "Clipping input data to the valid range for imshow with RGB data ([0..1] for floats or [0..255] for integers).\n"
     ]
    },
    {
     "name": "stdout",
     "output_type": "stream",
     "text": [
      "features_to_image.3.weight\n",
      "features_to_image.5.weight\n",
      "features_to_image.6.weight\n",
      "features_to_image.8.weight\n",
      "torch.Size([16])\n",
      "features_to_image.9.weight\n"
     ]
    },
    {
     "name": "stderr",
     "output_type": "stream",
     "text": [
      "Clipping input data to the valid range for imshow with RGB data ([0..1] for floats or [0..255] for integers).\n"
     ]
    },
    {
     "name": "stdout",
     "output_type": "stream",
     "text": [
      "features_to_image.3.weight\n",
      "features_to_image.5.weight\n",
      "features_to_image.6.weight\n",
      "features_to_image.8.weight\n",
      "torch.Size([16])\n",
      "features_to_image.9.weight\n"
     ]
    },
    {
     "name": "stderr",
     "output_type": "stream",
     "text": [
      "Clipping input data to the valid range for imshow with RGB data ([0..1] for floats or [0..255] for integers).\n"
     ]
    },
    {
     "name": "stdout",
     "output_type": "stream",
     "text": [
      "features_to_image.3.weight\n",
      "features_to_image.5.weight\n",
      "features_to_image.6.weight\n",
      "features_to_image.8.weight\n",
      "torch.Size([16])\n",
      "features_to_image.9.weight\n"
     ]
    },
    {
     "name": "stderr",
     "output_type": "stream",
     "text": [
      "Clipping input data to the valid range for imshow with RGB data ([0..1] for floats or [0..255] for integers).\n"
     ]
    },
    {
     "name": "stdout",
     "output_type": "stream",
     "text": [
      "features_to_image.3.weight\n",
      "features_to_image.5.weight\n",
      "features_to_image.6.weight\n",
      "features_to_image.8.weight\n",
      "torch.Size([16])\n",
      "features_to_image.9.weight\n"
     ]
    },
    {
     "name": "stderr",
     "output_type": "stream",
     "text": [
      "Clipping input data to the valid range for imshow with RGB data ([0..1] for floats or [0..255] for integers).\n"
     ]
    },
    {
     "name": "stdout",
     "output_type": "stream",
     "text": [
      "features_to_image.3.weight\n",
      "features_to_image.5.weight\n",
      "features_to_image.6.weight\n",
      "features_to_image.8.weight\n",
      "torch.Size([16])\n",
      "features_to_image.9.weight\n"
     ]
    },
    {
     "name": "stderr",
     "output_type": "stream",
     "text": [
      "Clipping input data to the valid range for imshow with RGB data ([0..1] for floats or [0..255] for integers).\n"
     ]
    },
    {
     "name": "stdout",
     "output_type": "stream",
     "text": [
      "features_to_image.3.weight\n",
      "features_to_image.5.weight\n",
      "features_to_image.6.weight\n",
      "features_to_image.8.weight\n",
      "torch.Size([16])\n",
      "features_to_image.9.weight\n"
     ]
    },
    {
     "name": "stderr",
     "output_type": "stream",
     "text": [
      "Clipping input data to the valid range for imshow with RGB data ([0..1] for floats or [0..255] for integers).\n"
     ]
    },
    {
     "name": "stdout",
     "output_type": "stream",
     "text": [
      "features_to_image.3.weight\n",
      "features_to_image.5.weight\n",
      "features_to_image.6.weight\n",
      "features_to_image.8.weight\n",
      "torch.Size([16])\n",
      "features_to_image.9.weight\n"
     ]
    },
    {
     "name": "stderr",
     "output_type": "stream",
     "text": [
      "Clipping input data to the valid range for imshow with RGB data ([0..1] for floats or [0..255] for integers).\n"
     ]
    },
    {
     "name": "stdout",
     "output_type": "stream",
     "text": [
      "features_to_image.3.weight\n",
      "features_to_image.5.weight\n",
      "features_to_image.6.weight\n",
      "features_to_image.8.weight\n",
      "torch.Size([16])\n",
      "features_to_image.9.weight\n"
     ]
    },
    {
     "name": "stderr",
     "output_type": "stream",
     "text": [
      "Clipping input data to the valid range for imshow with RGB data ([0..1] for floats or [0..255] for integers).\n"
     ]
    },
    {
     "name": "stdout",
     "output_type": "stream",
     "text": [
      "features_to_image.3.weight\n",
      "features_to_image.5.weight\n",
      "features_to_image.6.weight\n",
      "features_to_image.8.weight\n",
      "torch.Size([16])\n",
      "features_to_image.9.weight\n"
     ]
    },
    {
     "name": "stderr",
     "output_type": "stream",
     "text": [
      "Clipping input data to the valid range for imshow with RGB data ([0..1] for floats or [0..255] for integers).\n"
     ]
    },
    {
     "name": "stdout",
     "output_type": "stream",
     "text": [
      "features_to_image.3.weight\n",
      "features_to_image.5.weight\n",
      "features_to_image.6.weight\n",
      "features_to_image.8.weight\n",
      "torch.Size([16])\n",
      "features_to_image.9.weight\n"
     ]
    },
    {
     "name": "stderr",
     "output_type": "stream",
     "text": [
      "Clipping input data to the valid range for imshow with RGB data ([0..1] for floats or [0..255] for integers).\n"
     ]
    },
    {
     "name": "stdout",
     "output_type": "stream",
     "text": [
      "features_to_image.3.weight\n",
      "features_to_image.5.weight\n",
      "features_to_image.6.weight\n",
      "features_to_image.8.weight\n",
      "torch.Size([16])\n",
      "features_to_image.9.weight\n"
     ]
    },
    {
     "name": "stderr",
     "output_type": "stream",
     "text": [
      "Clipping input data to the valid range for imshow with RGB data ([0..1] for floats or [0..255] for integers).\n"
     ]
    },
    {
     "name": "stdout",
     "output_type": "stream",
     "text": [
      "features_to_image.3.weight\n",
      "features_to_image.5.weight\n",
      "features_to_image.6.weight\n",
      "features_to_image.8.weight\n",
      "torch.Size([16])\n",
      "features_to_image.9.weight\n"
     ]
    },
    {
     "name": "stderr",
     "output_type": "stream",
     "text": [
      "Clipping input data to the valid range for imshow with RGB data ([0..1] for floats or [0..255] for integers).\n"
     ]
    },
    {
     "name": "stdout",
     "output_type": "stream",
     "text": [
      "features_to_image.3.weight\n",
      "features_to_image.5.weight\n",
      "features_to_image.6.weight\n",
      "features_to_image.8.weight\n",
      "torch.Size([16])\n",
      "features_to_image.9.weight\n"
     ]
    },
    {
     "name": "stderr",
     "output_type": "stream",
     "text": [
      "Clipping input data to the valid range for imshow with RGB data ([0..1] for floats or [0..255] for integers).\n"
     ]
    },
    {
     "name": "stdout",
     "output_type": "stream",
     "text": [
      "features_to_image.3.weight\n",
      "features_to_image.5.weight\n",
      "features_to_image.6.weight\n",
      "features_to_image.8.weight\n",
      "torch.Size([16])\n",
      "features_to_image.9.weight\n"
     ]
    },
    {
     "name": "stderr",
     "output_type": "stream",
     "text": [
      "Clipping input data to the valid range for imshow with RGB data ([0..1] for floats or [0..255] for integers).\n"
     ]
    },
    {
     "name": "stdout",
     "output_type": "stream",
     "text": [
      "features_to_image.3.weight\n",
      "features_to_image.5.weight\n",
      "features_to_image.6.weight\n",
      "features_to_image.8.weight\n",
      "torch.Size([16])\n",
      "features_to_image.9.weight\n"
     ]
    },
    {
     "name": "stderr",
     "output_type": "stream",
     "text": [
      "Clipping input data to the valid range for imshow with RGB data ([0..1] for floats or [0..255] for integers).\n"
     ]
    },
    {
     "name": "stdout",
     "output_type": "stream",
     "text": [
      "features_to_image.3.weight\n",
      "features_to_image.5.weight\n",
      "features_to_image.6.weight\n",
      "features_to_image.8.weight\n",
      "torch.Size([16])\n",
      "features_to_image.9.weight\n"
     ]
    },
    {
     "name": "stderr",
     "output_type": "stream",
     "text": [
      "Clipping input data to the valid range for imshow with RGB data ([0..1] for floats or [0..255] for integers).\n"
     ]
    },
    {
     "name": "stdout",
     "output_type": "stream",
     "text": [
      "features_to_image.3.weight\n",
      "features_to_image.5.weight\n",
      "features_to_image.6.weight\n",
      "features_to_image.8.weight\n",
      "torch.Size([16])\n",
      "features_to_image.9.weight\n",
      "features_to_image.3.weight\n",
      "features_to_image.5.weight\n",
      "features_to_image.6.weight\n",
      "features_to_image.8.weight\n",
      "torch.Size([16])\n",
      "features_to_image.9.weight\n",
      "features_to_image.3.weight\n",
      "features_to_image.5.weight\n",
      "features_to_image.6.weight\n",
      "features_to_image.8.weight\n",
      "torch.Size([16])\n",
      "features_to_image.9.weight\n",
      "features_to_image.3.weight\n",
      "features_to_image.5.weight\n",
      "features_to_image.6.weight\n",
      "features_to_image.8.weight\n",
      "torch.Size([16])\n",
      "features_to_image.9.weight\n",
      "features_to_image.3.weight\n",
      "features_to_image.5.weight\n",
      "features_to_image.6.weight\n",
      "features_to_image.8.weight\n",
      "torch.Size([16])\n",
      "features_to_image.9.weight\n",
      "features_to_image.3.weight\n",
      "features_to_image.5.weight\n",
      "features_to_image.6.weight\n",
      "features_to_image.8.weight\n",
      "torch.Size([16])\n",
      "features_to_image.9.weight\n",
      "features_to_image.3.weight\n",
      "features_to_image.5.weight\n",
      "features_to_image.6.weight\n",
      "features_to_image.8.weight\n",
      "torch.Size([16])\n",
      "features_to_image.9.weight\n",
      "features_to_image.3.weight\n",
      "features_to_image.5.weight\n",
      "features_to_image.6.weight\n",
      "features_to_image.8.weight\n",
      "torch.Size([16])\n",
      "features_to_image.9.weight\n",
      "features_to_image.3.weight\n",
      "features_to_image.5.weight\n",
      "features_to_image.6.weight\n",
      "features_to_image.8.weight\n",
      "torch.Size([16])\n",
      "features_to_image.9.weight\n",
      "features_to_image.3.weight\n",
      "features_to_image.5.weight\n",
      "features_to_image.6.weight\n",
      "features_to_image.8.weight\n",
      "torch.Size([16])\n",
      "features_to_image.9.weight\n",
      "features_to_image.3.weight\n",
      "features_to_image.5.weight\n",
      "features_to_image.6.weight\n",
      "features_to_image.8.weight\n",
      "torch.Size([16])\n",
      "features_to_image.9.weight\n",
      "features_to_image.3.weight\n",
      "features_to_image.5.weight\n",
      "features_to_image.6.weight\n",
      "features_to_image.8.weight\n",
      "torch.Size([16])\n",
      "features_to_image.9.weight\n",
      "features_to_image.3.weight\n",
      "features_to_image.5.weight\n",
      "features_to_image.6.weight\n",
      "features_to_image.8.weight\n",
      "torch.Size([16])\n",
      "features_to_image.9.weight\n",
      "features_to_image.3.weight\n",
      "features_to_image.5.weight\n",
      "features_to_image.6.weight\n",
      "features_to_image.8.weight\n",
      "torch.Size([16])\n",
      "features_to_image.9.weight\n",
      "features_to_image.3.weight\n",
      "features_to_image.5.weight\n",
      "features_to_image.6.weight\n",
      "features_to_image.8.weight\n",
      "torch.Size([16])\n",
      "features_to_image.9.weight\n",
      "features_to_image.3.weight\n",
      "features_to_image.5.weight\n",
      "features_to_image.6.weight\n",
      "features_to_image.8.weight\n",
      "torch.Size([16])\n",
      "features_to_image.9.weight\n",
      "features_to_image.3.weight\n",
      "features_to_image.5.weight\n",
      "features_to_image.6.weight\n",
      "features_to_image.8.weight\n",
      "torch.Size([16])\n",
      "features_to_image.9.weight\n",
      "features_to_image.3.weight\n",
      "features_to_image.5.weight\n",
      "features_to_image.6.weight\n",
      "features_to_image.8.weight\n",
      "torch.Size([16])\n",
      "features_to_image.9.weight\n",
      "features_to_image.3.weight\n",
      "features_to_image.5.weight\n",
      "features_to_image.6.weight\n",
      "features_to_image.8.weight\n",
      "torch.Size([16])\n",
      "features_to_image.9.weight\n",
      "features_to_image.3.weight\n",
      "features_to_image.5.weight\n",
      "features_to_image.6.weight\n",
      "features_to_image.8.weight\n",
      "torch.Size([16])\n",
      "features_to_image.9.weight\n",
      "features_to_image.3.weight\n",
      "features_to_image.5.weight\n",
      "features_to_image.6.weight\n",
      "features_to_image.8.weight\n",
      "torch.Size([16])\n",
      "features_to_image.9.weight\n"
     ]
    },
    {
     "name": "stderr",
     "output_type": "stream",
     "text": [
      "Clipping input data to the valid range for imshow with RGB data ([0..1] for floats or [0..255] for integers).\n"
     ]
    },
    {
     "name": "stdout",
     "output_type": "stream",
     "text": [
      "features_to_image.3.weight\n",
      "features_to_image.5.weight\n",
      "features_to_image.6.weight\n",
      "features_to_image.8.weight\n",
      "torch.Size([16])\n",
      "features_to_image.9.weight\n"
     ]
    },
    {
     "name": "stderr",
     "output_type": "stream",
     "text": [
      "Clipping input data to the valid range for imshow with RGB data ([0..1] for floats or [0..255] for integers).\n"
     ]
    },
    {
     "name": "stdout",
     "output_type": "stream",
     "text": [
      "features_to_image.3.weight\n",
      "features_to_image.5.weight\n",
      "features_to_image.6.weight\n",
      "features_to_image.8.weight\n",
      "torch.Size([16])\n",
      "features_to_image.9.weight\n"
     ]
    },
    {
     "name": "stderr",
     "output_type": "stream",
     "text": [
      "Clipping input data to the valid range for imshow with RGB data ([0..1] for floats or [0..255] for integers).\n"
     ]
    },
    {
     "name": "stdout",
     "output_type": "stream",
     "text": [
      "features_to_image.3.weight\n",
      "features_to_image.5.weight\n",
      "features_to_image.6.weight\n",
      "features_to_image.8.weight\n",
      "torch.Size([16])\n",
      "features_to_image.9.weight\n"
     ]
    },
    {
     "name": "stderr",
     "output_type": "stream",
     "text": [
      "Clipping input data to the valid range for imshow with RGB data ([0..1] for floats or [0..255] for integers).\n"
     ]
    },
    {
     "name": "stdout",
     "output_type": "stream",
     "text": [
      "features_to_image.3.weight\n",
      "features_to_image.5.weight\n",
      "features_to_image.6.weight\n",
      "features_to_image.8.weight\n",
      "torch.Size([16])\n",
      "features_to_image.9.weight\n"
     ]
    },
    {
     "name": "stderr",
     "output_type": "stream",
     "text": [
      "Clipping input data to the valid range for imshow with RGB data ([0..1] for floats or [0..255] for integers).\n"
     ]
    },
    {
     "name": "stdout",
     "output_type": "stream",
     "text": [
      "features_to_image.3.weight\n",
      "features_to_image.5.weight\n",
      "features_to_image.6.weight\n",
      "features_to_image.8.weight\n",
      "torch.Size([16])\n",
      "features_to_image.9.weight\n"
     ]
    },
    {
     "name": "stderr",
     "output_type": "stream",
     "text": [
      "Clipping input data to the valid range for imshow with RGB data ([0..1] for floats or [0..255] for integers).\n"
     ]
    },
    {
     "name": "stdout",
     "output_type": "stream",
     "text": [
      "features_to_image.3.weight\n",
      "features_to_image.5.weight\n",
      "features_to_image.6.weight\n",
      "features_to_image.8.weight\n",
      "torch.Size([16])\n",
      "features_to_image.9.weight\n"
     ]
    },
    {
     "name": "stderr",
     "output_type": "stream",
     "text": [
      "Clipping input data to the valid range for imshow with RGB data ([0..1] for floats or [0..255] for integers).\n"
     ]
    },
    {
     "name": "stdout",
     "output_type": "stream",
     "text": [
      "features_to_image.3.weight\n",
      "features_to_image.5.weight\n",
      "features_to_image.6.weight\n",
      "features_to_image.8.weight\n",
      "torch.Size([16])\n",
      "features_to_image.9.weight\n"
     ]
    },
    {
     "name": "stderr",
     "output_type": "stream",
     "text": [
      "Clipping input data to the valid range for imshow with RGB data ([0..1] for floats or [0..255] for integers).\n"
     ]
    },
    {
     "name": "stdout",
     "output_type": "stream",
     "text": [
      "features_to_image.3.weight\n",
      "features_to_image.5.weight\n",
      "features_to_image.6.weight\n",
      "features_to_image.8.weight\n",
      "torch.Size([16])\n",
      "features_to_image.9.weight\n"
     ]
    },
    {
     "name": "stderr",
     "output_type": "stream",
     "text": [
      "Clipping input data to the valid range for imshow with RGB data ([0..1] for floats or [0..255] for integers).\n"
     ]
    },
    {
     "name": "stdout",
     "output_type": "stream",
     "text": [
      "features_to_image.3.weight\n",
      "features_to_image.5.weight\n",
      "features_to_image.6.weight\n",
      "features_to_image.8.weight\n",
      "torch.Size([16])\n",
      "features_to_image.9.weight\n"
     ]
    },
    {
     "name": "stderr",
     "output_type": "stream",
     "text": [
      "Clipping input data to the valid range for imshow with RGB data ([0..1] for floats or [0..255] for integers).\n"
     ]
    },
    {
     "name": "stdout",
     "output_type": "stream",
     "text": [
      "features_to_image.3.weight\n",
      "features_to_image.5.weight\n",
      "features_to_image.6.weight\n",
      "features_to_image.8.weight\n",
      "torch.Size([16])\n",
      "features_to_image.9.weight\n"
     ]
    },
    {
     "name": "stderr",
     "output_type": "stream",
     "text": [
      "Clipping input data to the valid range for imshow with RGB data ([0..1] for floats or [0..255] for integers).\n"
     ]
    },
    {
     "name": "stdout",
     "output_type": "stream",
     "text": [
      "features_to_image.3.weight\n",
      "features_to_image.5.weight\n",
      "features_to_image.6.weight\n",
      "features_to_image.8.weight\n",
      "torch.Size([16])\n",
      "features_to_image.9.weight\n"
     ]
    },
    {
     "name": "stderr",
     "output_type": "stream",
     "text": [
      "Clipping input data to the valid range for imshow with RGB data ([0..1] for floats or [0..255] for integers).\n"
     ]
    },
    {
     "name": "stdout",
     "output_type": "stream",
     "text": [
      "features_to_image.3.weight\n",
      "features_to_image.5.weight\n",
      "features_to_image.6.weight\n",
      "features_to_image.8.weight\n",
      "torch.Size([16])\n",
      "features_to_image.9.weight\n"
     ]
    },
    {
     "name": "stderr",
     "output_type": "stream",
     "text": [
      "Clipping input data to the valid range for imshow with RGB data ([0..1] for floats or [0..255] for integers).\n"
     ]
    },
    {
     "name": "stdout",
     "output_type": "stream",
     "text": [
      "features_to_image.3.weight\n",
      "features_to_image.5.weight\n",
      "features_to_image.6.weight\n",
      "features_to_image.8.weight\n",
      "torch.Size([16])\n",
      "features_to_image.9.weight\n"
     ]
    },
    {
     "name": "stderr",
     "output_type": "stream",
     "text": [
      "Clipping input data to the valid range for imshow with RGB data ([0..1] for floats or [0..255] for integers).\n"
     ]
    },
    {
     "name": "stdout",
     "output_type": "stream",
     "text": [
      "features_to_image.3.weight\n",
      "features_to_image.5.weight\n",
      "features_to_image.6.weight\n",
      "features_to_image.8.weight\n",
      "torch.Size([16])\n",
      "features_to_image.9.weight\n"
     ]
    },
    {
     "name": "stderr",
     "output_type": "stream",
     "text": [
      "Clipping input data to the valid range for imshow with RGB data ([0..1] for floats or [0..255] for integers).\n"
     ]
    },
    {
     "name": "stdout",
     "output_type": "stream",
     "text": [
      "features_to_image.3.weight\n",
      "features_to_image.5.weight\n",
      "features_to_image.6.weight\n",
      "features_to_image.8.weight\n",
      "torch.Size([16])\n",
      "features_to_image.9.weight\n"
     ]
    },
    {
     "name": "stderr",
     "output_type": "stream",
     "text": [
      "Clipping input data to the valid range for imshow with RGB data ([0..1] for floats or [0..255] for integers).\n"
     ]
    },
    {
     "name": "stdout",
     "output_type": "stream",
     "text": [
      "features_to_image.3.weight\n",
      "features_to_image.5.weight\n",
      "features_to_image.6.weight\n",
      "features_to_image.8.weight\n",
      "torch.Size([16])\n",
      "features_to_image.9.weight\n"
     ]
    },
    {
     "name": "stderr",
     "output_type": "stream",
     "text": [
      "Clipping input data to the valid range for imshow with RGB data ([0..1] for floats or [0..255] for integers).\n"
     ]
    },
    {
     "name": "stdout",
     "output_type": "stream",
     "text": [
      "features_to_image.3.weight\n",
      "features_to_image.5.weight\n",
      "features_to_image.6.weight\n",
      "features_to_image.8.weight\n",
      "torch.Size([16])\n",
      "features_to_image.9.weight\n"
     ]
    },
    {
     "name": "stderr",
     "output_type": "stream",
     "text": [
      "Clipping input data to the valid range for imshow with RGB data ([0..1] for floats or [0..255] for integers).\n"
     ]
    },
    {
     "name": "stdout",
     "output_type": "stream",
     "text": [
      "features_to_image.3.weight\n",
      "features_to_image.5.weight\n",
      "features_to_image.6.weight\n",
      "features_to_image.8.weight\n",
      "torch.Size([16])\n",
      "features_to_image.9.weight\n"
     ]
    },
    {
     "name": "stderr",
     "output_type": "stream",
     "text": [
      "Clipping input data to the valid range for imshow with RGB data ([0..1] for floats or [0..255] for integers).\n"
     ]
    },
    {
     "name": "stdout",
     "output_type": "stream",
     "text": [
      "features_to_image.3.weight\n",
      "features_to_image.5.weight\n",
      "features_to_image.6.weight\n",
      "features_to_image.8.weight\n",
      "torch.Size([16])\n",
      "features_to_image.9.weight\n"
     ]
    },
    {
     "name": "stderr",
     "output_type": "stream",
     "text": [
      "Clipping input data to the valid range for imshow with RGB data ([0..1] for floats or [0..255] for integers).\n"
     ]
    },
    {
     "name": "stdout",
     "output_type": "stream",
     "text": [
      "9\n",
      "conv4\n",
      "1\n",
      "features_to_image.3.weight\n",
      "features_to_image.5.weight\n",
      "features_to_image.6.weight\n",
      "features_to_image.8.weight\n",
      "features_to_image.9.weight\n",
      "torch.Size([16, 1, 4, 4])\n",
      "features_to_image.3.weight\n",
      "features_to_image.5.weight\n",
      "features_to_image.6.weight\n",
      "features_to_image.8.weight\n",
      "features_to_image.9.weight\n",
      "torch.Size([16, 1, 4, 4])\n",
      "features_to_image.3.weight\n",
      "features_to_image.5.weight\n",
      "features_to_image.6.weight\n",
      "features_to_image.8.weight\n",
      "features_to_image.9.weight\n",
      "torch.Size([16, 1, 4, 4])\n",
      "features_to_image.3.weight\n",
      "features_to_image.5.weight\n",
      "features_to_image.6.weight\n",
      "features_to_image.8.weight\n",
      "features_to_image.9.weight\n",
      "torch.Size([16, 1, 4, 4])\n",
      "features_to_image.3.weight\n",
      "features_to_image.5.weight\n",
      "features_to_image.6.weight\n",
      "features_to_image.8.weight\n",
      "features_to_image.9.weight\n",
      "torch.Size([16, 1, 4, 4])\n",
      "features_to_image.3.weight\n",
      "features_to_image.5.weight\n",
      "features_to_image.6.weight\n",
      "features_to_image.8.weight\n",
      "features_to_image.9.weight\n",
      "torch.Size([16, 1, 4, 4])\n",
      "features_to_image.3.weight\n",
      "features_to_image.5.weight\n",
      "features_to_image.6.weight\n",
      "features_to_image.8.weight\n",
      "features_to_image.9.weight\n",
      "torch.Size([16, 1, 4, 4])\n",
      "features_to_image.3.weight\n",
      "features_to_image.5.weight\n",
      "features_to_image.6.weight\n",
      "features_to_image.8.weight\n",
      "features_to_image.9.weight\n",
      "torch.Size([16, 1, 4, 4])\n",
      "features_to_image.3.weight\n",
      "features_to_image.5.weight\n",
      "features_to_image.6.weight\n",
      "features_to_image.8.weight\n",
      "features_to_image.9.weight\n",
      "torch.Size([16, 1, 4, 4])\n",
      "features_to_image.3.weight\n",
      "features_to_image.5.weight\n",
      "features_to_image.6.weight\n",
      "features_to_image.8.weight\n",
      "features_to_image.9.weight\n",
      "torch.Size([16, 1, 4, 4])\n"
     ]
    }
   ],
   "source": [
    "plt.figure(figsize=(50,8))\n",
    "# fixed_latents = Variable(torch.rand(10, 32, 100))\n",
    "for ten in range(10):\n",
    "    fixed_latents[ten] = Variable(generator.sample_latent(32))\n",
    "#fixed_latents = Variable(generator.sample_latent(32))\n",
    "name_lst = ['conv1', 'relu1', 'bn1', 'conv2', 'relu2', 'bn2', 'conv3', 'relu3', 'bn3', 'conv4', 'sig4']\n",
    "\n",
    "\n",
    "# for i in range(len(name_lst)):\n",
    "#     nm = name_lst[i]  # loop over each layers\n",
    "#     if not os.path.exists(\"img/{}\".format(nm)):  # make dir for that layers\n",
    "#         os.mkdir(\"img/{}\".format(nm))\n",
    "\n",
    "#     img, latent = generator(fixed_latents)\n",
    "#     ll = latent[i]  # inspect this layer i\n",
    "#     unit_num = ll.shape[1]  # this layer has this many unit\n",
    "#     for un in range(unit_num):\n",
    "#         for count in range(10):\n",
    "#             plt.subplot(1,10,count+1)\n",
    "            \n",
    "#             # Generate batch of images and convert to grid\n",
    "#             img, latent = generator(fixed_latents[count])\n",
    "#             l = latent[i]\n",
    "#             result = act.activation_visualization(img[0][0].detach().numpy(), l[0][un].detach().numpy(), level=np.percentile(l[0][un].detach().numpy(),95))\n",
    "#             plt.imshow(result)\n",
    "\n",
    "#         plt.savefig(\"img/{}/{}-with.jpg\".format(nm, un), bbox_inches='tight', pad_inches=0)\n",
    "\n",
    "\n",
    "pname_lst = []\n",
    "import copy\n",
    "origin_generator = copy.deepcopy(generator)\n",
    "\n",
    "ori_img_lst = []\n",
    "ori_latent_lst = []\n",
    "for ct in range(10):\n",
    "    ori_img, ori_latent = origin_generator(fixed_latents[count])\n",
    "    ori_img_lst.append(ori_img)\n",
    "    ori_latent_lst.append(ori_latent)\n",
    "\n",
    "for pname, param in generator.state_dict().items():\n",
    "    pname_lst.append(pname)\n",
    "#     print(generator.state_dict()[pname])\n",
    "\n",
    "idx_lst = [9, 11, 16, 18, 23]\n",
    "from operator import itemgetter\n",
    "\n",
    "pname_lst = itemgetter(*idx_lst)(pname_lst)\n",
    "print(pname_lst)\n",
    "for j in pname_lst:\n",
    "    \n",
    "    idx = j[18]\n",
    "    print(idx)\n",
    "    nm = name_lst[int(idx)]\n",
    "    print(nm)\n",
    "\n",
    "    if not os.path.exists(\"img/{}\".format(nm)):  # make dir for that layers\n",
    "        os.mkdir(\"img/{}\".format(nm))\n",
    "\n",
    "    img, latent = generator(fixed_latents[0])\n",
    "    ll = latent[int(idx)]  # inspect this layer i\n",
    "    unit_num = ll.shape[1]  # this layer has this many unit\n",
    "    print(unit_num)\n",
    "    iou_ave = 0\n",
    "    for un in range(unit_num):\n",
    "        for count in range(10):\n",
    "            plt.subplot(1,10,count+1)\n",
    "            \n",
    "            # Generate batch of images and convert to grid\n",
    "            generator = copy.deepcopy(origin_generator)\n",
    "            for pnm in pname_lst:\n",
    "                print(pnm)\n",
    "                if pnm[18] == idx:\n",
    "                    print(generator.state_dict()[pnm].shape)\n",
    "                    if len(generator.state_dict()[pnm].shape) == 4:  # put weight to be zeros: (128, 64, x, x)\n",
    "                        generator.state_dict()[pnm][:, un, ...] = torch.zeros_like(generator.state_dict()[pnm][:, un, ...])\n",
    "                    elif len(generator.state_dict()[pnm].shape) == 1:  # put bias to be zeros: (64,)\n",
    "                        generator.state_dict()[pnm][un] = 0\n",
    "                    else:\n",
    "                        print(generator.state_dict()[pnm].shape)\n",
    "            \n",
    "            img, latent = generator(fixed_latents[count])\n",
    "            iou = torch.norm(ori_img_lst[count] - img)\n",
    "            iou_ave += iou\n",
    "            l = latent[int(idx)]\n",
    "            result = act.activation_visualization(img[0][0].detach().numpy(), l[0][un].detach().numpy(), level=np.percentile(l[0][un].detach().numpy(),80))\n",
    "            plt.imshow(result)\n",
    "\n",
    "        iou_ave /= 10\n",
    "        plt.savefig(\"img/{}/{}-without-{:.3f}.jpg\".format(nm, un, iou_ave), bbox_inches='tight', pad_inches=0)"
   ]
  },
  {
   "cell_type": "code",
   "execution_count": null,
   "metadata": {
    "collapsed": true
   },
   "outputs": [],
   "source": []
  }
 ],
 "metadata": {
  "kernelspec": {
   "display_name": "Python 3",
   "language": "python",
   "name": "python3"
  },
  "language_info": {
   "codemirror_mode": {
    "name": "ipython",
    "version": 3
   },
   "file_extension": ".py",
   "mimetype": "text/x-python",
   "name": "python",
   "nbconvert_exporter": "python",
   "pygments_lexer": "ipython3",
   "version": "3.6.8"
  }
 },
 "nbformat": 4,
 "nbformat_minor": 2
}
